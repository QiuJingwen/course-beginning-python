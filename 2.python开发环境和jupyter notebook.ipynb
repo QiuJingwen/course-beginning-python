{
 "cells": [
  {
   "cell_type": "markdown",
   "metadata": {},
   "source": [
    "## 一、python开发环境\n",
    "### 1. 操作系统\n",
    "- python支持几乎所有主流操作系统，windows、mac、linux等，分为x86和x64版本。\n",
    "- 每个操作系统的python开发环境配置不同，但是配置的基本原理是一样的。\n",
    "- 对于初学者建议在windows和mac系统，深入后建议选择linux系统"
   ]
  },
  {
   "cell_type": "code",
   "execution_count": 1,
   "metadata": {
    "collapsed": false
   },
   "outputs": [
    {
     "data": {
      "text/plain": [
       "uname_result(system='Windows', node='DESKTOP-7917TAF', release='10', version='10.0.14393', machine='AMD64', processor='Intel64 Family 6 Model 94 Stepping 3, GenuineIntel')"
      ]
     },
     "execution_count": 1,
     "metadata": {},
     "output_type": "execute_result"
    }
   ],
   "source": [
    "import platform\n",
    "platform.uname()"
   ]
  },
  {
   "cell_type": "markdown",
   "metadata": {},
   "source": [
    "### 2. 终端和解释器\n",
    "- 终端：操作系统的输入输出工具，用于运行操作系统命令\n",
    "- 解释器：解释和运行python代码，CPython官方版本的解释器，IPython基于CPython之上的一个交互式解释器"
   ]
  },
  {
   "cell_type": "code",
   "execution_count": 9,
   "metadata": {
    "collapsed": false
   },
   "outputs": [
    {
     "data": {
      "text/plain": [
       "'E:\\\\Project\\\\Python\\\\course-begining-python'"
      ]
     },
     "execution_count": 9,
     "metadata": {},
     "output_type": "execute_result"
    }
   ],
   "source": [
    "import os\n",
    "os.getcwd()"
   ]
  },
  {
   "cell_type": "markdown",
   "metadata": {},
   "source": [
    "### 3. 解释器路径（PATH）、包搜索路径（PYTHONPATH）和工作路径\n",
    "- 解释器路径：让操作系统找到python解释器的路径，配置在操作系统环境变量PATH中\n",
    "- 包搜索路径：在python环境中，让python解释器找到第三方包的路径，配置在PYTHONPATH变量或sys.path变量中\n",
    "- 工作路径：当前用户工作的路径"
   ]
  },
  {
   "cell_type": "code",
   "execution_count": 2,
   "metadata": {
    "collapsed": false,
    "scrolled": false
   },
   "outputs": [
    {
     "name": "stdout",
     "output_type": "stream",
     "text": [
      "Microsoft Windows [版本 10.0.14393]\r\n",
      "(c) 2016 Microsoft Corporation。保留所有权利。\r\n",
      "\r\n",
      "E:\\Project\\Python\\course-begining-python>PATH\n",
      "PATH=C:\\ProgramData\\Anaconda3\\Library\\bin;C:\\ProgramData\\Anaconda3\\Library\\bin;C:\\ProgramData\\Anaconda3\\Scripts;C:\\ProgramData\\Anaconda3\\Library\\bin;C:\\Oracle\\product\\11.2.0\\client_1\\bin;C:\\ProgramData\\Oracle\\Java\\javapath;C:\\WINDOWS\\system32;C:\\WINDOWS;C:\\WINDOWS\\System32\\Wbem;C:\\WINDOWS\\System32\\WindowsPowerShell\\v1.0\\;C:\\Program Files\\Java\\jdk1.8.0_74\\bin;C:\\Program Files\\Java\\jdk1.8.0_74\\jre\\bin;C:\\Apache\\apache-tomcat-7.0.73\\lib;C:\\Apache\\apache-tomcat-7.0.73\\lib\\servlet-api.jar;C:\\Apache\\apache-tomcat-7.0.73\\lib\\jsp-api.jar;C:\\Apache\\Apache24\\bin;C:\\Program Files\\TortoiseSVN\\bin;D:\\AndroidDeveloperTools\\sdk\\tools;C:\\Program Files (x86)\\AMD\\ATI.ACE\\Core-Static;C:\\Program Files (x86)\\Windows Live\\Shared;C:\\Users\\Administrator\\.dnx\\bin;C:\\Program Files\\Microsoft DNX\\Dnvm\\;C:\\Program Files\\Microsoft SQL Server\\120\\Tools\\Binn\\;C:\\Program Files\\Microsoft SQL Server\\130\\Tools\\Binn\\;C:\\Apache\\apache-maven-3.3.9\\bin;C:\\Program Files\\TortoiseGit\\bin;D:\\AndroidDeveloperTools\\sdk\\\\tools;D:\\AndroidDeveloperTools\\sdk\\\\platform-tools;C:\\Python27;C:\\Python27\\Scripts;C:\\ProgramData\\Anaconda3;C:\\ProgramData\\Anaconda3\\Scripts;C:\\ProgramData\\Anaconda3\\Library\\bin;C:\\ProgramData\\Anaconda2;C:\\ProgramData\\Anaconda2\\Scripts;C:\\ProgramData\\Anaconda2\\Library\\bin;C:\\Program Files\\MySQL\\MySQL Utilities 1.6\\;C:\\Program Files\\MySQL\\MySQL Server 5.7\\bin;C:\\ProgramData\\phantomjs-2.1.1-windows\\bin;C:\\Program Files\\MongoDB\\Server\\3.4\\bin;C:\\Program Files\\Git\\cmd;C:\\Apache\\apache-maven-3.3.9/bin;C:\\Users\\Administrator\\AppData\\Local\\Microsoft\\WindowsApps;C:\\Wind\\Wind.NET.Client\\WindNET\\bin\\\r\n",
      "\r\n",
      "E:\\Project\\Python\\course-begining-python>"
     ]
    }
   ],
   "source": [
    "%%cmd\n",
    "PATH"
   ]
  },
  {
   "cell_type": "raw",
   "metadata": {},
   "source": [
    "%%bash\n",
    "echo $PATH"
   ]
  },
  {
   "cell_type": "code",
   "execution_count": 3,
   "metadata": {
    "collapsed": false,
    "scrolled": true
   },
   "outputs": [
    {
     "name": "stdout",
     "output_type": "stream",
     "text": [
      "['', 'C:\\\\ProgramData\\\\Anaconda3\\\\python36.zip', 'C:\\\\ProgramData\\\\Anaconda3\\\\DLLs', 'C:\\\\ProgramData\\\\Anaconda3\\\\lib', 'C:\\\\ProgramData\\\\Anaconda3', 'C:\\\\ProgramData\\\\Anaconda3\\\\lib\\\\site-packages', 'C:\\\\ProgramData\\\\Anaconda3\\\\lib\\\\site-packages\\\\Sphinx-1.5.1-py3.6.egg', 'C:\\\\ProgramData\\\\Anaconda3\\\\lib\\\\site-packages\\\\win32', 'C:\\\\ProgramData\\\\Anaconda3\\\\lib\\\\site-packages\\\\win32\\\\lib', 'C:\\\\ProgramData\\\\Anaconda3\\\\lib\\\\site-packages\\\\Pythonwin', 'C:\\\\ProgramData\\\\Anaconda3\\\\lib\\\\site-packages\\\\setuptools-27.2.0-py3.6.egg']\r\n"
     ]
    }
   ],
   "source": [
    "%%script python\n",
    "import sys\n",
    "print(sys.path)"
   ]
  },
  {
   "cell_type": "raw",
   "metadata": {},
   "source": [
    "%%bash\n",
    "pwd"
   ]
  },
  {
   "cell_type": "markdown",
   "metadata": {},
   "source": [
    "### 4. python版本和anaconda\n",
    "- python 2和python 3：python 2.7作为标准有很长一段时间，python 3正在赶超（对中文等unicode字符支持更好），根据实际需要进行选择，本课件使用python 3，对于初学者，其实有更重要的东西要操心\n",
    "- x64和x86：与操作系统相关，有些python包对该版本有要求，推荐使用64位的python 3.6\n",
    "- 下载和安装python\n",
    "- anaconda是一个用于科学计算的Python发行版，支持 Linux, Mac, Windows系统，提供了包管理与环境管理的功能，可以很方便地解决多版本python并存、切换以及各种第三方包安装问题。\n",
    "下载地址<https://www.continuum.io/downloads>\n"
   ]
  },
  {
   "cell_type": "code",
   "execution_count": 4,
   "metadata": {
    "collapsed": false
   },
   "outputs": [
    {
     "name": "stdout",
     "output_type": "stream",
     "text": [
      "3.6.0 |Anaconda 4.3.1 (64-bit)| (default, Dec 23 2016, 11:57:41) [MSC v.1900 64 bit (AMD64)]\n"
     ]
    }
   ],
   "source": [
    "import sys\n",
    "print(sys.version)"
   ]
  },
  {
   "cell_type": "markdown",
   "metadata": {},
   "source": [
    "### 5. python开发工具和jupyter notebook\n",
    "python开发可以使用集成开发环境（IDE），也可以使用简单的文本编辑器，也可以使用jupyter notebook这样的交互工具，根据需要而定。一般而言集成开发环境用在大中型项目中，能够提高开发效率。\n",
    "- Spyder\n",
    "- PyCharm\n",
    "- Eclipse + PyDev\n",
    "- Visual Studio + Python Tools\n",
    "\n",
    "- VSCode\n",
    "- Sublime\n",
    "- Notepad++\n",
    "- Atom\n",
    "\n",
    "- Jupyter notebook(IPython)\n"
   ]
  },
  {
   "cell_type": "markdown",
   "metadata": {},
   "source": [
    "### 6. python环境隔离virtualenv和virtualenvwrapper"
   ]
  },
  {
   "cell_type": "markdown",
   "metadata": {},
   "source": [
    "由于python版本很多，包依赖关系复杂，不同项目依赖不同版本的python或者第三方包非常常见，为不同项目创建一个隔离的python就显得非常必要了。\n",
    "virtualenv是一个创建隔离的Python环境的工具。"
   ]
  },
  {
   "cell_type": "raw",
   "metadata": {},
   "source": [
    "#for windows\n",
    "pip install virtualenv\n",
    "cd path/to/your/virtualenv_folder\n",
    "virtualenv -p /usr/bin/python2.7 python27 #创建隔离环境\n",
    "python27/Scripts/activate.bat #进入隔离环境\n",
    "deactivate.bat #退出隔离环境"
   ]
  },
  {
   "cell_type": "raw",
   "metadata": {},
   "source": [
    "#for linux\n",
    "pip install virtualenv\n",
    "cd path/to/your/virtualenv_folder\n",
    "source python27/bin/activate\n",
    "deactivate"
   ]
  },
  {
   "cell_type": "markdown",
   "metadata": {},
   "source": [
    "virtualenvwrapper是对virtualenv的封装，使得操作python隔离环境更加容易，需要提前配置WORKON_HOME环境变量path/to/your/virtualenv_folder"
   ]
  },
  {
   "cell_type": "raw",
   "metadata": {},
   "source": [
    "#for windows\n",
    "pip install virtualenvwrapper-win\n",
    "mkvirtualenv python27 #创建隔离环境\n",
    "workon python27 #进入隔离环境\n",
    "deactivate #退出隔离环境\n",
    "rmvirtualenv venv #删除隔离环境\n",
    "lsvirtualen #列出所有隔离环境"
   ]
  },
  {
   "cell_type": "raw",
   "metadata": {},
   "source": [
    "#for linux\n",
    "pip install virtualenvwrapper"
   ]
  },
  {
   "cell_type": "markdown",
   "metadata": {},
   "source": [
    "## 二、jupyter notebook\n",
    "\n",
    "### 1. 安装和启动\n",
    "- 独立安装 pip install jupyter，指定工作路径启动 jupyter notebook --notebook-dir=path\\to\\working\\folder\n",
    "- 使用部重室部署的在线版本jupyter notebook，同时可以通过api获取部重室数据中心提供的各类经济金融数据，通过i.wisesoe.com登陆，需要授权"
   ]
  },
  {
   "cell_type": "markdown",
   "metadata": {},
   "source": [
    "### 2. 界面\n",
    "\n",
    "- Dashboard\n",
    "- Notebook area and cells\n",
    "- Menu\n",
    "- Toolbar"
   ]
  },
  {
   "cell_type": "markdown",
   "metadata": {},
   "source": [
    "### 3. 模式编辑\n",
    "在jupyter notebook中有两种状态：\n",
    "- 编辑状态 (Editor Mode)。绿色，在编辑状态时右上角会出现铅笔图标，按Esc键切换回命令状态。\n",
    "- 命令状态 (Command Mode)。蓝色，按Enter键（或者双击cell）变为编辑状态"
   ]
  },
  {
   "cell_type": "markdown",
   "metadata": {},
   "source": [
    "### 4. code cell和markdown cell"
   ]
  },
  {
   "cell_type": "markdown",
   "metadata": {},
   "source": [
    "code cell可以编辑和运行代码，但要注意上下文关系，code cell有语法高亮和自动补全功能。默认情况下，code cell默认的语言是Python，但是其它语言，可以使用单元魔术命令来处理。"
   ]
  },
  {
   "cell_type": "code",
   "execution_count": 5,
   "metadata": {
    "collapsed": false,
    "scrolled": true
   },
   "outputs": [
    {
     "name": "stdout",
     "output_type": "stream",
     "text": [
      "0\n",
      "1\n",
      "2\n"
     ]
    }
   ],
   "source": [
    "for i in range(3):\n",
    "    print(i)"
   ]
  },
  {
   "cell_type": "markdown",
   "metadata": {},
   "source": [
    "markdown cell支持LaTaX，使用两个\\$强制独立一行，使用一个\\$则嵌入行内\n",
    "$\\int_0^{+\\infty} x^2 dx$"
   ]
  },
  {
   "cell_type": "markdown",
   "metadata": {},
   "source": [
    "$$ P(A \\mid B) = \\frac{P(B \\mid A) P(A)}{P(B)} $$"
   ]
  },
  {
   "cell_type": "code",
   "execution_count": 12,
   "metadata": {
    "collapsed": false,
    "scrolled": true
   },
   "outputs": [
    {
     "data": {
      "image/png": "[encoded data removed]",
      "text/plain": [
       "<IPython.core.display.Image object>"
      ]
     },
     "execution_count": 12,
     "metadata": {},
     "output_type": "execute_result"
    }
   ],
   "source": [
    "from IPython.display import Image\n",
    "Image('http://ipython.org/_static/IPy_header.png')"
   ]
  },
  {
   "cell_type": "markdown",
   "metadata": {},
   "source": [
    "![](http://ipython.org/_static/IPy_header.png)"
   ]
  },
  {
   "cell_type": "markdown",
   "metadata": {},
   "source": [
    "### 5. 快捷键\n",
    "- Shift+Enter：运行单元(run cell) 执行当前的单元，显示输出(如果有的话)，然后跳到下一个单元\n",
    "- Ctrl+Enter：运行单元，并保持位置\n",
    "- Esc和Enter：切换命令模式和编辑模式\n",
    "- 编辑模式下按control+shift+ -可拆分cell\n",
    "- 在命令模式下，选中想合并的单元，然后用shift+m合并\n",
    "- 其他查看Help菜单\n"
   ]
  },
  {
   "cell_type": "markdown",
   "metadata": {},
   "source": [
    "### 6. 魔法命令"
   ]
  },
  {
   "cell_type": "raw",
   "metadata": {},
   "source": [
    "%%bash\n",
    "%matplotlib inline"
   ]
  },
  {
   "cell_type": "code",
   "execution_count": 10,
   "metadata": {
    "collapsed": false,
    "scrolled": false
   },
   "outputs": [
    {
     "name": "stdout",
     "output_type": "stream",
     "text": [
      "Object `np #获得帮助文档` not found.\n"
     ]
    }
   ],
   "source": [
    "import numpy as np\n",
    "%pdoc np #获得帮助文档\n",
    "#?np\n",
    "#help(np)"
   ]
  },
  {
   "cell_type": "markdown",
   "metadata": {
    "collapsed": true
   },
   "source": [
    "### 7. 在线浏览github上的jupyter notebook文档\n",
    "\n",
    "http://nbviewer.jupyter.org"
   ]
  },
  {
   "cell_type": "markdown",
   "metadata": {
    "collapsed": true
   },
   "source": [
    "## 三、练习"
   ]
  },
  {
   "cell_type": "markdown",
   "metadata": {},
   "source": [
    "### 1. 配置python开发环境\n",
    "### 2. 熟悉jupyter notebook\n",
    "### 3. 计算100以内自然数的和"
   ]
  },
  {
   "cell_type": "code",
   "execution_count": 6,
   "metadata": {
    "collapsed": false
   },
   "outputs": [
    {
     "data": {
      "text/plain": [
       "4950"
      ]
     },
     "execution_count": 6,
     "metadata": {},
     "output_type": "execute_result"
    }
   ],
   "source": [
    "sum = 0\n",
    "for i in range(100):\n",
    "    sum += i\n",
    "sum"
   ]
  },
  {
   "cell_type": "markdown",
   "metadata": {},
   "source": [
    "### 4. 找出歌词中出现次数最多的单词"
   ]
  },
  {
   "cell_type": "code",
   "execution_count": 7,
   "metadata": {
    "collapsed": false
   },
   "outputs": [],
   "source": [
    "import re\n",
    "s = '''\n",
    "When I am down and, oh, my soul, so weary;\n",
    "When troubles come and my heart burdened be;\n",
    "Then I am still and wait here in the silence,\n",
    "Until you come and sit awhile with me.\n",
    "You raise me up, so I can stand on mountains;\n",
    "You raise me up to walk on stormy seas;\n",
    "I am strong when I am on your shoulders;\n",
    "You raise me up to more than I can be.\n",
    "You raise me up, so I can stand on mountains;\n",
    "You raise me up to walk on stormy seas;\n",
    "I am strong when I am on your shoulders;\n",
    "You raise me up to more than I can be.\n",
    "There is no life - no life without its hunger;\n",
    "Each restless heart beats so imperfectly;\n",
    "But when you come and I am filled with wonder,\n",
    "Sometimes, I think I glimpse eternity.\n",
    "You raise me up, so I can stand on mountains;\n",
    "You raise me up to walk on stormy seas;\n",
    "I am strong when I am on your shoulders;\n",
    "You raise me up to more than I can be.\n",
    "You raise me up, so I can stand on mountains;\n",
    "You raise me up to walk on stormy seas;\n",
    "I am strong when I am on your shoulders;\n",
    "You raise me up to more than I can be.\n",
    "You raise me up to more than I can be.'''\n",
    "words = re.split('[^a-zA-Z]+', s)"
   ]
  },
  {
   "cell_type": "code",
   "execution_count": 12,
   "metadata": {
    "collapsed": false
   },
   "outputs": [
    {
     "data": {
      "text/plain": [
       "[('I', 22),\n",
       " ('me', 14),\n",
       " ('You', 13),\n",
       " ('raise', 13),\n",
       " ('up', 13),\n",
       " ('on', 12),\n",
       " ('am', 11),\n",
       " ('can', 9),\n",
       " ('to', 9),\n",
       " ('so', 6)]"
      ]
     },
     "execution_count": 12,
     "metadata": {},
     "output_type": "execute_result"
    }
   ],
   "source": [
    "word_counts = {}\n",
    "for word in words:\n",
    "    if word not in word_counts:\n",
    "        word_counts[word] = 1\n",
    "    else:\n",
    "        word_counts[word] += 1\n",
    "\n",
    "word_counts = sorted(word_counts.items(), key=lambda x: x[1], reverse = True)\n",
    "word_counts[0:10]\n"
   ]
  },
  {
   "cell_type": "code",
   "execution_count": 13,
   "metadata": {
    "collapsed": false
   },
   "outputs": [
    {
     "data": {
      "text/plain": [
       "[('I', 22),\n",
       " ('me', 14),\n",
       " ('You', 13),\n",
       " ('raise', 13),\n",
       " ('up', 13),\n",
       " ('on', 12),\n",
       " ('am', 11),\n",
       " ('can', 9),\n",
       " ('to', 9),\n",
       " ('so', 6)]"
      ]
     },
     "execution_count": 13,
     "metadata": {},
     "output_type": "execute_result"
    }
   ],
   "source": [
    "from collections import Counter\n",
    "word_counts = Counter(words)\n",
    "word_counts.most_common(10)"
   ]
  },
  {
   "cell_type": "code",
   "execution_count": 1,
   "metadata": {
    "collapsed": true
   },
   "outputs": [],
   "source": [
    "import re"
   ]
  },
  {
   "cell_type": "code",
   "execution_count": 3,
   "metadata": {
    "collapsed": true
   },
   "outputs": [],
   "source": [
    "?re.compile"
   ]
  },
  {
   "cell_type": "code",
   "execution_count": 6,
   "metadata": {
    "collapsed": false
   },
   "outputs": [
    {
     "data": {
      "text/plain": [
       "re.compile(r'.*', re.UNICODE)"
      ]
     },
     "execution_count": 6,
     "metadata": {},
     "output_type": "execute_result"
    }
   ],
   "source": [
    "obj = re.compile('.*')\n",
    "obj."
   ]
  },
  {
   "cell_type": "code",
   "execution_count": null,
   "metadata": {
    "collapsed": true
   },
   "outputs": [],
   "source": []
  }
 ],
 "metadata": {
  "kernelspec": {
   "display_name": "Python 3",
   "language": "python",
   "name": "python3"
  },
  "language_info": {
   "codemirror_mode": {
    "name": "ipython",
    "version": 3
   },
   "file_extension": ".py",
   "mimetype": "text/x-python",
   "name": "python",
   "nbconvert_exporter": "python",
   "pygments_lexer": "ipython3",
   "version": "3.6.0"
  }
 },
 "nbformat": 4,
 "nbformat_minor": 2
}
