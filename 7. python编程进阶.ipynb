{
 "cells": [
  {
   "cell_type": "markdown",
   "metadata": {},
   "source": [
    "### 课程内容\n",
    "- python数据科学技能树\n",
    "    - 知识体系\n",
    "    - 团队构建\n",
    "    - 部重室和WISER Club提供的支持\n",
    "- python编程进阶实战\n",
    "- python数据科学实战"
   ]
  },
  {
   "cell_type": "markdown",
   "metadata": {},
   "source": [
    "## 一、python数据科学技能树\n",
    "### 1.  知识体系\n",
    "在python的生态系统中可以发现，已经出现如java语言那样坚实稳定的基础\n",
    "![](images/python-ecosystem.png?20170628)"
   ]
  },
  {
   "cell_type": "markdown",
   "metadata": {},
   "source": [
    "### 2. 团队构建\n",
    "数据科学是一门综合型和实验性都很强的学科，在项目实践中，一个人单打独斗的日子已经一去不复返了，知识互补的团队作战才能适应未来。"
   ]
  },
  {
   "cell_type": "markdown",
   "metadata": {},
   "source": [
    "![](images/data-science.png?20170628)"
   ]
  },
  {
   "cell_type": "markdown",
   "metadata": {},
   "source": [
    "团队的成员知识互补达到均衡"
   ]
  },
  {
   "cell_type": "code",
   "execution_count": 1,
   "metadata": {
    "collapsed": true
   },
   "outputs": [],
   "source": [
    "import numpy as np\n",
    "import matplotlib.pyplot as plt\n",
    "%matplotlib inline"
   ]
  },
  {
   "cell_type": "code",
   "execution_count": 2,
   "metadata": {
    "collapsed": false
   },
   "outputs": [
    {
     "data": {
      "text/plain": [
       "<Container object of 7 artists>"
      ]
     },
     "execution_count": 2,
     "metadata": {},
     "output_type": "execute_result"
    },
    {
     "data": {
      "image/png": "[encoded data removed]",
      "text/plain": [
       "<matplotlib.figure.Figure at 0x1d4c742a668>"
      ]
     },
     "metadata": {},
     "output_type": "display_data"
    }
   ],
   "source": [
    "n = 7\n",
    "np.random.seed(123)\n",
    "y = np.random.randint(20, 80, size=n)\n",
    "fig, axs = plt.subplots(1, figsize=(12,6))\n",
    "labels = ['data visualization', 'machine learning', 'mathematics', 'statistics', \n",
    "          'computer science', 'communication skills', 'domain knowledge']\n",
    "x = range(n)\n",
    "plt.bar(x, y, width=0.6, tick_label = labels);\n",
    "for label in axs.get_xmajorticklabels():\n",
    "    label.set_rotation(45)\n",
    "    label.set_fontsize(15)\n",
    "    label.set_horizontalalignment(\"right\")\n",
    "    \n",
    "axs.get_yaxis().set_visible(False)\n",
    "\n",
    "z = np.random.randint(20, 80, size=n)\n",
    "plt.bar(x, z, bottom=y, width=0.6)\n",
    "\n",
    "w = np.random.randint(20, 80, size=n)\n",
    "plt.bar(x, w, bottom=y + z, width=0.6)"
   ]
  },
  {
   "cell_type": "markdown",
   "metadata": {},
   "source": [
    "### 3. 部重室和WISER Club提供的支持\n",
    "- 横向课题\n",
    "- 学生培养\n",
    "- 人才推荐"
   ]
  },
  {
   "cell_type": "markdown",
   "metadata": {},
   "source": [
    "#### 数据共享和计算平台\n",
    "- 学生社区\n",
    "- 课题协作\n",
    "- 可视化平台\n",
    "- 数据API\n",
    "- 在线开发平台\n",
    "- 并行计算平台（建设中）"
   ]
  },
  {
   "cell_type": "markdown",
   "metadata": {},
   "source": [
    "#### 数据API演示"
   ]
  },
  {
   "cell_type": "code",
   "execution_count": 3,
   "metadata": {
    "collapsed": false
   },
   "outputs": [
    {
     "name": "stdout",
     "output_type": "stream",
     "text": [
      "Status: 200 OK\n"
     ]
    },
    {
     "data": {
      "text/plain": [
       "{'data': [{'_id': 'GTA_SZL2_BULLETIN',\n",
       "   'enddate': 0,\n",
       "   'indicator_type_id': None,\n",
       "   'ispcode': '1',\n",
       "   'startdate': 0,\n",
       "   'title': '公告及增值信息'},\n",
       "  {'_id': 'GTA_SZL2_ORDER',\n",
       "   'enddate': 0,\n",
       "   'indicator_type_id': None,\n",
       "   'ispcode': '1',\n",
       "   'startdate': 0,\n",
       "   'title': '逐笔委托'},\n",
       "  {'_id': 'GTA_SZL2_ORDERQUEUE',\n",
       "   'enddate': 0,\n",
       "   'indicator_type_id': None,\n",
       "   'ispcode': '1',\n",
       "   'startdate': 0,\n",
       "   'title': '委托队列'},\n",
       "  {'_id': 'GTA_SZL2_STOCKINFO',\n",
       "   'enddate': 0,\n",
       "   'indicator_type_id': None,\n",
       "   'ispcode': '1',\n",
       "   'startdate': 0,\n",
       "   'title': '证券静态信息'},\n",
       "  {'_id': 'GTA_SZL2_STOCKSTATUS',\n",
       "   'enddate': 0,\n",
       "   'indicator_type_id': None,\n",
       "   'ispcode': '1',\n",
       "   'startdate': 0,\n",
       "   'title': '证券状态'},\n",
       "  {'_id': 'GTA_SZL2_TAQ',\n",
       "   'enddate': 0,\n",
       "   'indicator_type_id': None,\n",
       "   'ispcode': '1',\n",
       "   'startdate': 0,\n",
       "   'title': '十档行情'},\n",
       "  {'_id': 'GTA_SZL2_TRADE',\n",
       "   'enddate': 0,\n",
       "   'indicator_type_id': None,\n",
       "   'ispcode': '1',\n",
       "   'startdate': 0,\n",
       "   'title': '逐笔成交'}],\n",
       " 'msg': 'success'}"
      ]
     },
     "execution_count": 3,
     "metadata": {},
     "output_type": "execute_result"
    }
   ],
   "source": [
    "import requests\n",
    "import json\n",
    "resp = requests.get('http://api.wisesoe.com/getgtatree?codes=GTA_SZL2')\n",
    "print('Status:', resp.status_code, resp.reason)\n",
    "json.loads(resp.text)"
   ]
  },
  {
   "cell_type": "code",
   "execution_count": 4,
   "metadata": {
    "collapsed": false,
    "scrolled": false
   },
   "outputs": [
    {
     "data": {
      "text/plain": [
       "[{'_id': 'SECURITYID',\n",
       "  'description': '',\n",
       "  'is_nullable': 'NO',\n",
       "  'position': 1,\n",
       "  'title': '证券代码'},\n",
       " {'_id': 'TRDDATE',\n",
       "  'description': '以YYYYMMDD表示',\n",
       "  'is_nullable': 'NO',\n",
       "  'position': 2,\n",
       "  'title': '日期'},\n",
       " {'_id': 'DATATIMESTAMP',\n",
       "  'description': '',\n",
       "  'is_nullable': 'YES',\n",
       "  'position': 3,\n",
       "  'title': '数据生成时间'},\n",
       " {'_id': 'PRECLOSEPX',\n",
       "  'description': '3位小数',\n",
       "  'is_nullable': 'YES',\n",
       "  'position': 4,\n",
       "  'title': '昨日收盘价'},\n",
       " {'_id': 'OPENPX',\n",
       "  'description': '3位小数',\n",
       "  'is_nullable': 'YES',\n",
       "  'position': 5,\n",
       "  'title': '开盘价'}]"
      ]
     },
     "execution_count": 4,
     "metadata": {},
     "output_type": "execute_result"
    }
   ],
   "source": [
    "resp = requests.get('http://api.wisesoe.com/getgtaindicator?codes=GTA_SZL2_TAQ')\n",
    "json.loads(resp.text)['data'][:5]"
   ]
  },
  {
   "cell_type": "code",
   "execution_count": 5,
   "metadata": {
    "collapsed": false
   },
   "outputs": [],
   "source": [
    "import pandas\n",
    "resp = requests.get('http://api.wisesoe.com/getgtamap?period=201701,201702&'\\\n",
    "                    'codes=SHL2_TAQ_600153__SECURITYID,SHL2_TAQ_600153__TRDDATE,SHL2_TAQ_600153__DATATIMESTAMP,SHL2_TAQ_600153__LASTPX')\n",
    "result = json.loads(resp.text)['data']"
   ]
  },
  {
   "cell_type": "code",
   "execution_count": 6,
   "metadata": {
    "collapsed": false
   },
   "outputs": [
    {
     "data": {
      "text/html": [
       "<div>\n",
       "<table border=\"1\" class=\"dataframe\">\n",
       "  <thead>\n",
       "    <tr style=\"text-align: right;\">\n",
       "      <th></th>\n",
       "      <th>SHL2_TAQ_600153__SECURITYID</th>\n",
       "      <th>SHL2_TAQ_600153__TRDDATE</th>\n",
       "      <th>SHL2_TAQ_600153__DATATIMESTAMP</th>\n",
       "      <th>SHL2_TAQ_600153__LASTPX</th>\n",
       "    </tr>\n",
       "  </thead>\n",
       "  <tbody>\n",
       "    <tr>\n",
       "      <th>0</th>\n",
       "      <td>600153</td>\n",
       "      <td>20170103</td>\n",
       "      <td>092506</td>\n",
       "      <td>10.71</td>\n",
       "    </tr>\n",
       "    <tr>\n",
       "      <th>1</th>\n",
       "      <td>600153</td>\n",
       "      <td>20170103</td>\n",
       "      <td>092904</td>\n",
       "      <td>10.71</td>\n",
       "    </tr>\n",
       "    <tr>\n",
       "      <th>2</th>\n",
       "      <td>600153</td>\n",
       "      <td>20170103</td>\n",
       "      <td>093002</td>\n",
       "      <td>10.72</td>\n",
       "    </tr>\n",
       "    <tr>\n",
       "      <th>3</th>\n",
       "      <td>600153</td>\n",
       "      <td>20170103</td>\n",
       "      <td>093006</td>\n",
       "      <td>10.71</td>\n",
       "    </tr>\n",
       "    <tr>\n",
       "      <th>4</th>\n",
       "      <td>600153</td>\n",
       "      <td>20170103</td>\n",
       "      <td>093009</td>\n",
       "      <td>10.72</td>\n",
       "    </tr>\n",
       "  </tbody>\n",
       "</table>\n",
       "</div>"
      ],
      "text/plain": [
       "  SHL2_TAQ_600153__SECURITYID SHL2_TAQ_600153__TRDDATE  \\\n",
       "0                      600153                 20170103   \n",
       "1                      600153                 20170103   \n",
       "2                      600153                 20170103   \n",
       "3                      600153                 20170103   \n",
       "4                      600153                 20170103   \n",
       "\n",
       "  SHL2_TAQ_600153__DATATIMESTAMP  SHL2_TAQ_600153__LASTPX  \n",
       "0                         092506                    10.71  \n",
       "1                         092904                    10.71  \n",
       "2                         093002                    10.72  \n",
       "3                         093006                    10.71  \n",
       "4                         093009                    10.72  "
      ]
     },
     "execution_count": 6,
     "metadata": {},
     "output_type": "execute_result"
    }
   ],
   "source": [
    "data = {item['code']: item['value'] for item in result}\n",
    "columns = [item['code'] for item in result]\n",
    "pandas.DataFrame(data, columns=columns).head()"
   ]
  },
  {
   "cell_type": "markdown",
   "metadata": {},
   "source": [
    "## 二、python编程进阶实战\n",
    "python提供了非常多高效的编程语法，我们看看下面几个"
   ]
  },
  {
   "cell_type": "markdown",
   "metadata": {},
   "source": [
    "### 1、迭代器和生成器\n",
    "#### 迭代器\n",
    "- 迭代器就是实现了\\_\\_next\\_\\_方法的对象，\\_\\_next\\_\\_方法返回下一个值\n",
    "- 可迭代对象是实现\\_\\_iter\\_\\_的对象，\\_\\_iter\\_\\_方法会返回一个迭代器，list,tuple,dict和set都是可迭代对象\n",
    "- 可迭代对象和迭代器可以是同一个对象，也可以不是\n",
    "\n",
    "![](images/iter.png?20170710)"
   ]
  },
  {
   "cell_type": "code",
   "execution_count": 66,
   "metadata": {
    "collapsed": false,
    "scrolled": false
   },
   "outputs": [],
   "source": [
    "class Fib:\n",
    "    \n",
    "    def __init__(self, max):\n",
    "        self.a = 0\n",
    "        self.b = 1\n",
    "        self.max = max\n",
    "\n",
    "    def __iter__(self):\n",
    "        return self\n",
    "\n",
    "    def __next__(self): #python 2使用next(self)        \n",
    "        t = self.a\n",
    "        if t > self.max:\n",
    "            raise StopIteration        \n",
    "        self.a, self.b = self.b, self.a + self.b\n",
    "        return t"
   ]
  },
  {
   "cell_type": "markdown",
   "metadata": {},
   "source": [
    "- fib是Fib类的对象，Fib类实现了\\_\\_iter\\_\\_，也实现了\\_\\_next\\_\\_，因而fib既是一个可迭代对象，也是一个迭代器\n",
    "- iter()传入一个可迭代对象，则调用可迭代对象中的\\_\\_iter\\_\\_方法，\\_\\_iter\\_\\_方法返回一个迭代器\n",
    "- next()传入一个迭代器，则调用迭代器的\\_\\_next\\_\\_方法，返回下一个值\n",
    "- next()抛出StopIteration Exception，表示迭代已经穷尽"
   ]
  },
  {
   "cell_type": "code",
   "execution_count": 68,
   "metadata": {
    "collapsed": false
   },
   "outputs": [
    {
     "name": "stdout",
     "output_type": "stream",
     "text": [
      "True True\n",
      "0 1 1 2 3\n"
     ]
    }
   ],
   "source": [
    "from collections import Iterable, Iterator\n",
    "fib = Fib(100)\n",
    "fib_iterator = iter(fib)\n",
    "print(isinstance(fib, Iterable), isinstance(fib, Iterator))\n",
    "print(next(fib_iterator), next(fib_iterator), next(fib_iterator), next(fib_iterator), next(fib_iterator))"
   ]
  },
  {
   "cell_type": "code",
   "execution_count": 69,
   "metadata": {
    "collapsed": false
   },
   "outputs": [
    {
     "name": "stdout",
     "output_type": "stream",
     "text": [
      "5 8 13 21 34 55 89 "
     ]
    }
   ],
   "source": [
    "while True:\n",
    "    try:\n",
    "        print(next(fib_iterator), end=' ')\n",
    "    except StopIteration: \n",
    "        break"
   ]
  },
  {
   "cell_type": "code",
   "execution_count": 70,
   "metadata": {
    "collapsed": false,
    "scrolled": true
   },
   "outputs": [],
   "source": [
    "for i in fib:    \n",
    "    print(i, end=' ')"
   ]
  },
  {
   "cell_type": "markdown",
   "metadata": {},
   "source": [
    "可迭代对象同时将自己作为迭代器，在状态上可能会出现问题。迭代器只会向前迭代，这时内部变量a和b已经被赋新值，如上将继续迭代，而不是重新开始。要得到预期结果，需要重新初始化状态。"
   ]
  },
  {
   "cell_type": "code",
   "execution_count": 72,
   "metadata": {
    "collapsed": true
   },
   "outputs": [],
   "source": [
    "class Fib2:\n",
    "    \n",
    "    def __init__(self, max):       \n",
    "        self.max = max\n",
    "\n",
    "    def __iter__(self):\n",
    "        self.a = 0\n",
    "        self.b = 1\n",
    "        return self\n",
    "\n",
    "    def __next__(self): #python 2使用next(self)\n",
    "        t = self.a\n",
    "        if t > self.max:\n",
    "            raise StopIteration\n",
    "        self.a, self.b = self.b, self.a + self.b\n",
    "        return t"
   ]
  },
  {
   "cell_type": "code",
   "execution_count": 73,
   "metadata": {
    "collapsed": false
   },
   "outputs": [
    {
     "name": "stdout",
     "output_type": "stream",
     "text": [
      "0 1 1 2 3 5 8 13 21 34 55 89 0 1 1 2 3 5 8 13 21 34 55 89 "
     ]
    }
   ],
   "source": [
    "fib2 = Fib2(100)\n",
    "for i in fib2:    \n",
    "    print(i, end=' ')\n",
    "\n",
    "for i in fib2:    \n",
    "    print(i, end=' ')"
   ]
  },
  {
   "cell_type": "markdown",
   "metadata": {},
   "source": [
    "或者编写一个迭代器类，可迭代对象每次都返回一个迭代器类的新实例。"
   ]
  },
  {
   "cell_type": "code",
   "execution_count": 13,
   "metadata": {
    "collapsed": false
   },
   "outputs": [],
   "source": [
    "class Fib3:    \n",
    "\n",
    "    def __init__(self, max):\n",
    "        self.max = max\n",
    "\n",
    "    def __iter__(self):\n",
    "        return Fib3_Iterator(self.max)\n",
    "    \n",
    "class Fib3_Iterator:\n",
    "\n",
    "    def __init__(self, max):\n",
    "        self.a = 0\n",
    "        self.b = 1\n",
    "        self.max = max\n",
    "    \n",
    "    def __iter__(self): #原则上非必须，但要成为Iterator对象必须\n",
    "        return self\n",
    "    \n",
    "    def __next__(self):\n",
    "        t = self.a\n",
    "        if t > self.max:\n",
    "            raise StopIteration\n",
    "        self.a, self.b = self.b, self.a + self.b\n",
    "        return t"
   ]
  },
  {
   "cell_type": "code",
   "execution_count": 14,
   "metadata": {
    "collapsed": false
   },
   "outputs": [
    {
     "name": "stdout",
     "output_type": "stream",
     "text": [
      "True True\n",
      "0 1 1 2 3\n"
     ]
    }
   ],
   "source": [
    "fib3 = Fib3(100)\n",
    "fib3_iterator = iter(fib3)\n",
    "print(isinstance(fib, Iterable), isinstance(fib, Iterator))\n",
    "print(next(fib3_iterator), next(fib3_iterator), next(fib3_iterator), next(fib3_iterator), next(fib3_iterator))"
   ]
  },
  {
   "cell_type": "code",
   "execution_count": 15,
   "metadata": {
    "collapsed": false
   },
   "outputs": [
    {
     "name": "stdout",
     "output_type": "stream",
     "text": [
      "0 1 1 2 3 5 8 13 21 34 55 89 0 1 1 2 3 5 8 13 21 34 55 89 "
     ]
    }
   ],
   "source": [
    "for i in fib3:    \n",
    "    print(i, end=' ')\n",
    "for i in fib3:    \n",
    "    print(i, end=' ')"
   ]
  },
  {
   "cell_type": "markdown",
   "metadata": {},
   "source": [
    "无论可迭代对象和迭代器是否是同一个对象，在使用时都要注意迭代器状态的变化。请对比如下两个例子："
   ]
  },
  {
   "cell_type": "code",
   "execution_count": 16,
   "metadata": {
    "collapsed": false
   },
   "outputs": [
    {
     "data": {
      "text/plain": [
       "[<__main__.Fib3_Iterator at 0x1d4cb44af60>,\n",
       " <__main__.Fib3_Iterator at 0x1d4cb44af60>]"
      ]
     },
     "execution_count": 16,
     "metadata": {},
     "output_type": "execute_result"
    }
   ],
   "source": [
    "fib3 = Fib3(100)\n",
    "fib3_iterator = iter(fib3)\n",
    "fib3_iterator_list = [fib3_iterator] * 2\n",
    "fib3_iterator_list"
   ]
  },
  {
   "cell_type": "code",
   "execution_count": 17,
   "metadata": {
    "collapsed": false
   },
   "outputs": [
    {
     "data": {
      "text/plain": [
       "[(0, 1), (1, 2), (3, 5), (8, 13), (21, 34), (55, 89)]"
      ]
     },
     "execution_count": 17,
     "metadata": {},
     "output_type": "execute_result"
    }
   ],
   "source": [
    "list(zip(fib3_iterator,fib3_iterator))"
   ]
  },
  {
   "cell_type": "code",
   "execution_count": 18,
   "metadata": {
    "collapsed": false,
    "scrolled": true
   },
   "outputs": [
    {
     "data": {
      "text/plain": [
       "[(0, 0),\n",
       " (1, 1),\n",
       " (1, 1),\n",
       " (2, 2),\n",
       " (3, 3),\n",
       " (5, 5),\n",
       " (8, 8),\n",
       " (13, 13),\n",
       " (21, 21),\n",
       " (34, 34),\n",
       " (55, 55),\n",
       " (89, 89)]"
      ]
     },
     "execution_count": 18,
     "metadata": {},
     "output_type": "execute_result"
    }
   ],
   "source": [
    "list(zip(iter(fib3),iter(fib3)))"
   ]
  },
  {
   "cell_type": "markdown",
   "metadata": {},
   "source": [
    "其他方法的应用"
   ]
  },
  {
   "cell_type": "code",
   "execution_count": 19,
   "metadata": {
    "collapsed": false,
    "scrolled": true
   },
   "outputs": [
    {
     "data": {
      "text/plain": [
       "[(0, 0),\n",
       " (1, 1),\n",
       " (2, 1),\n",
       " (3, 2),\n",
       " (4, 3),\n",
       " (5, 5),\n",
       " (6, 8),\n",
       " (7, 13),\n",
       " (8, 21),\n",
       " (9, 34),\n",
       " (10, 55),\n",
       " (11, 89)]"
      ]
     },
     "execution_count": 19,
     "metadata": {},
     "output_type": "execute_result"
    }
   ],
   "source": [
    "list(enumerate(fib3))"
   ]
  },
  {
   "cell_type": "markdown",
   "metadata": {},
   "source": [
    "python内置列表对象迭代器"
   ]
  },
  {
   "cell_type": "code",
   "execution_count": 20,
   "metadata": {
    "collapsed": false,
    "scrolled": true
   },
   "outputs": [
    {
     "name": "stdout",
     "output_type": "stream",
     "text": [
      "True False\n",
      "True True\n"
     ]
    }
   ],
   "source": [
    "li = []\n",
    "print(isinstance(li, Iterable), isinstance(li, Iterator))\n",
    "li_iterator = iter(li)\n",
    "print(isinstance(li_iterator, Iterable), isinstance(li_iterator, Iterator))"
   ]
  },
  {
   "cell_type": "code",
   "execution_count": 21,
   "metadata": {
    "collapsed": false
   },
   "outputs": [
    {
     "data": {
      "text/plain": [
       "<dict_keyiterator at 0x1d4c77d5d18>"
      ]
     },
     "execution_count": 21,
     "metadata": {},
     "output_type": "execute_result"
    }
   ],
   "source": [
    "di = {}\n",
    "iter(di)"
   ]
  },
  {
   "cell_type": "code",
   "execution_count": 22,
   "metadata": {
    "collapsed": false,
    "scrolled": false
   },
   "outputs": [
    {
     "name": "stdout",
     "output_type": "stream",
     "text": [
      "Help on list object:\n",
      "\n",
      "class list(object)\n",
      " |  list() -> new empty list\n",
      " |  list(iterable) -> new list initialized from iterable's items\n",
      " |  \n",
      " |  Methods defined here:\n",
      " |  \n",
      " |  __add__(self, value, /)\n",
      " |      Return self+value.\n",
      " |  \n",
      " |  __contains__(self, key, /)\n",
      " |      Return key in self.\n",
      " |  \n",
      " |  __delitem__(self, key, /)\n",
      " |      Delete self[key].\n",
      " |  \n",
      " |  __eq__(self, value, /)\n",
      " |      Return self==value.\n",
      " |  \n",
      " |  __ge__(self, value, /)\n",
      " |      Return self>=value.\n",
      " |  \n",
      " |  __getattribute__(self, name, /)\n",
      " |      Return getattr(self, name).\n",
      " |  \n",
      " |  __getitem__(...)\n",
      " |      x.__getitem__(y) <==> x[y]\n",
      " |  \n",
      " |  __gt__(self, value, /)\n",
      " |      Return self>value.\n",
      " |  \n",
      " |  __iadd__(self, value, /)\n",
      " |      Implement self+=value.\n",
      " |  \n",
      " |  __imul__(self, value, /)\n",
      " |      Implement self*=value.\n",
      " |  \n",
      " |  __init__(self, /, *args, **kwargs)\n",
      " |      Initialize self.  See help(type(self)) for accurate signature.\n",
      " |  \n",
      " |  __iter__(self, /)\n",
      " |      Implement iter(self).\n",
      " |  \n",
      " |  __le__(self, value, /)\n",
      " |      Return self<=value.\n",
      " |  \n",
      " |  __len__(self, /)\n",
      " |      Return len(self).\n",
      " |  \n",
      " |  __lt__(self, value, /)\n",
      " |      Return self<value.\n",
      " |  \n",
      " |  __mul__(self, value, /)\n",
      " |      Return self*value.n\n",
      " |  \n",
      " |  __ne__(self, value, /)\n",
      " |      Return self!=value.\n",
      " |  \n",
      " |  __new__(*args, **kwargs) from builtins.type\n",
      " |      Create and return a new object.  See help(type) for accurate signature.\n",
      " |  \n",
      " |  __repr__(self, /)\n",
      " |      Return repr(self).\n",
      " |  \n",
      " |  __reversed__(...)\n",
      " |      L.__reversed__() -- return a reverse iterator over the list\n",
      " |  \n",
      " |  __rmul__(self, value, /)\n",
      " |      Return self*value.\n",
      " |  \n",
      " |  __setitem__(self, key, value, /)\n",
      " |      Set self[key] to value.\n",
      " |  \n",
      " |  __sizeof__(...)\n",
      " |      L.__sizeof__() -- size of L in memory, in bytes\n",
      " |  \n",
      " |  append(...)\n",
      " |      L.append(object) -> None -- append object to end\n",
      " |  \n",
      " |  clear(...)\n",
      " |      L.clear() -> None -- remove all items from L\n",
      " |  \n",
      " |  copy(...)\n",
      " |      L.copy() -> list -- a shallow copy of L\n",
      " |  \n",
      " |  count(...)\n",
      " |      L.count(value) -> integer -- return number of occurrences of value\n",
      " |  \n",
      " |  extend(...)\n",
      " |      L.extend(iterable) -> None -- extend list by appending elements from the iterable\n",
      " |  \n",
      " |  index(...)\n",
      " |      L.index(value, [start, [stop]]) -> integer -- return first index of value.\n",
      " |      Raises ValueError if the value is not present.\n",
      " |  \n",
      " |  insert(...)\n",
      " |      L.insert(index, object) -- insert object before index\n",
      " |  \n",
      " |  pop(...)\n",
      " |      L.pop([index]) -> item -- remove and return item at index (default last).\n",
      " |      Raises IndexError if list is empty or index is out of range.\n",
      " |  \n",
      " |  remove(...)\n",
      " |      L.remove(value) -> None -- remove first occurrence of value.\n",
      " |      Raises ValueError if the value is not present.\n",
      " |  \n",
      " |  reverse(...)\n",
      " |      L.reverse() -- reverse *IN PLACE*\n",
      " |  \n",
      " |  sort(...)\n",
      " |      L.sort(key=None, reverse=False) -> None -- stable sort *IN PLACE*\n",
      " |  \n",
      " |  ----------------------------------------------------------------------\n",
      " |  Data and other attributes defined here:\n",
      " |  \n",
      " |  __hash__ = None\n",
      "\n",
      "Help on list_iterator object:\n",
      "\n",
      "class list_iterator(object)\n",
      " |  Methods defined here:\n",
      " |  \n",
      " |  __getattribute__(self, name, /)\n",
      " |      Return getattr(self, name).\n",
      " |  \n",
      " |  __iter__(self, /)\n",
      " |      Implement iter(self).\n",
      " |  \n",
      " |  __length_hint__(...)\n",
      " |      Private method returning an estimate of len(list(it)).\n",
      " |  \n",
      " |  __next__(self, /)\n",
      " |      Implement next(self).\n",
      " |  \n",
      " |  __reduce__(...)\n",
      " |      Return state information for pickling.\n",
      " |  \n",
      " |  __setstate__(...)\n",
      " |      Set state information for unpickling.\n",
      "\n"
     ]
    }
   ],
   "source": [
    "help(li)\n",
    "help(li_iterator)"
   ]
  },
  {
   "cell_type": "markdown",
   "metadata": {},
   "source": [
    "#### 生成器\n",
    "生成器也是迭代器\n",
    "![](images/gen.png?20170710)"
   ]
  },
  {
   "cell_type": "code",
   "execution_count": 23,
   "metadata": {
    "collapsed": false,
    "scrolled": true
   },
   "outputs": [
    {
     "data": {
      "text/plain": [
       "[0, 1, 4, 9, 16, 25, 36, 49, 64, 81]"
      ]
     },
     "execution_count": 23,
     "metadata": {},
     "output_type": "execute_result"
    }
   ],
   "source": [
    "from collections import Iterable, Iterator\n",
    "[x * x for x in range(10)]"
   ]
  },
  {
   "cell_type": "markdown",
   "metadata": {},
   "source": [
    "列表推导式直接改造成生成器"
   ]
  },
  {
   "cell_type": "code",
   "execution_count": 24,
   "metadata": {
    "collapsed": false
   },
   "outputs": [
    {
     "name": "stdout",
     "output_type": "stream",
     "text": [
      "True True\n"
     ]
    },
    {
     "data": {
      "text/plain": [
       "<generator object <genexpr> at 0x000001D4CB44D678>"
      ]
     },
     "execution_count": 24,
     "metadata": {},
     "output_type": "execute_result"
    }
   ],
   "source": [
    "gen = (x * x for x in range(10))\n",
    "print(isinstance(gen, Iterable), isinstance(gen, Iterator))\n",
    "gen"
   ]
  },
  {
   "cell_type": "code",
   "execution_count": 25,
   "metadata": {
    "collapsed": false
   },
   "outputs": [
    {
     "name": "stdout",
     "output_type": "stream",
     "text": [
      "0 1 4 9\n"
     ]
    }
   ],
   "source": [
    "print(next(gen),next(gen),next(gen),next(gen))"
   ]
  },
  {
   "cell_type": "code",
   "execution_count": 26,
   "metadata": {
    "collapsed": false
   },
   "outputs": [
    {
     "name": "stdout",
     "output_type": "stream",
     "text": [
      "True True\n"
     ]
    },
    {
     "data": {
      "text/plain": [
       "<generator object gen_number at 0x000001D4CB44DA98>"
      ]
     },
     "execution_count": 26,
     "metadata": {},
     "output_type": "execute_result"
    }
   ],
   "source": [
    "def gen_number(): # 生成器函数\n",
    "    yield 1\n",
    "    yield 2\n",
    "    yield 3\n",
    "\n",
    "\n",
    "gen2 = gen_number()\n",
    "print(isinstance(gen2, Iterable), isinstance(gen2, Iterator))\n",
    "gen2"
   ]
  },
  {
   "cell_type": "code",
   "execution_count": 27,
   "metadata": {
    "collapsed": false
   },
   "outputs": [
    {
     "name": "stdout",
     "output_type": "stream",
     "text": [
      "1 2 3\n"
     ]
    }
   ],
   "source": [
    "print(next(gen2), next(gen2), next(gen2)) #next()方法调用生成器函数，遇到yield返回其值，并挂起，等待下一次调用"
   ]
  },
  {
   "cell_type": "code",
   "execution_count": 28,
   "metadata": {
    "collapsed": true
   },
   "outputs": [],
   "source": [
    "def get_fib(max):\n",
    "    a = 0\n",
    "    yield a \n",
    "    b = 1\n",
    "    while True: \n",
    "        a, b = b, a + b\n",
    "        if a > max:\n",
    "            break\n",
    "        yield a"
   ]
  },
  {
   "cell_type": "code",
   "execution_count": 29,
   "metadata": {
    "collapsed": false
   },
   "outputs": [
    {
     "data": {
      "text/plain": [
       "<generator object get_fib at 0x000001D4CB44D620>"
      ]
     },
     "execution_count": 29,
     "metadata": {},
     "output_type": "execute_result"
    }
   ],
   "source": [
    "gen3 = get_fib(100) #生成器生成的值，可以看成是yield返回值的序列，类比迭代器调用next()的返回值\n",
    "gen3"
   ]
  },
  {
   "cell_type": "code",
   "execution_count": 30,
   "metadata": {
    "collapsed": false
   },
   "outputs": [
    {
     "data": {
      "text/plain": [
       "[0, 1, 1, 2, 3, 5, 8, 13, 21, 34, 55, 89]"
      ]
     },
     "execution_count": 30,
     "metadata": {},
     "output_type": "execute_result"
    }
   ],
   "source": [
    "list(gen3)"
   ]
  },
  {
   "cell_type": "markdown",
   "metadata": {},
   "source": [
    "生成器函数中不用return的原因是，生成器函数的返回值是一个生成器，而生成器生成的值才是yield的返回值。下面对比与return的不同，return表示离开函数体，但是yeild没有，只是挂起。"
   ]
  },
  {
   "cell_type": "code",
   "execution_count": 31,
   "metadata": {
    "collapsed": true
   },
   "outputs": [],
   "source": [
    "def gen_number2(): \n",
    "    try:\n",
    "        yield 1\n",
    "        yield 2\n",
    "        yield 3\n",
    "    finally:\n",
    "        yield 0"
   ]
  },
  {
   "cell_type": "code",
   "execution_count": 32,
   "metadata": {
    "collapsed": false
   },
   "outputs": [
    {
     "data": {
      "text/plain": [
       "[1, 2, 3, 0]"
      ]
     },
     "execution_count": 32,
     "metadata": {},
     "output_type": "execute_result"
    }
   ],
   "source": [
    "list(gen_number2())"
   ]
  },
  {
   "cell_type": "markdown",
   "metadata": {
    "collapsed": true
   },
   "source": [
    "### 2、面向切面编程：装饰器\n",
    "面向切面编程（Aspect Oriented Program，AOP）是面向对象编程的有力补充。面向对象将不同的功能封装到不同的类的方法中，降低代码的复杂度，做到职责分离。但是职责分离，有可能带来重复的功能代码（比如，类中每个方法可能都要有写日志或权限判断的功能代码），否则就要很有预见的封装到父类中。\n",
    "面向切面编程允许在运行时，动态切入到类的方法，在方法之前或之后执行一些功能代码。装饰器的使用场景包括，日志，缓存，事务，验证，授权等\n",
    "\n",
    "![](images/gun.jpg)\n",
    "![](images/gun2.jpg)\n",
    "\n",
    "\n",
    "下面是一个正常函数及其调用"
   ]
  },
  {
   "cell_type": "code",
   "execution_count": 77,
   "metadata": {
    "collapsed": false
   },
   "outputs": [
    {
     "name": "stdout",
     "output_type": "stream",
     "text": [
      "Do my job\n"
     ]
    }
   ],
   "source": [
    "def do(something = 'nothing'):\n",
    "    print('Do', something)\n",
    "\n",
    "do('my job')"
   ]
  },
  {
   "cell_type": "markdown",
   "metadata": {},
   "source": [
    "函数可以赋值"
   ]
  },
  {
   "cell_type": "code",
   "execution_count": 78,
   "metadata": {
    "collapsed": false
   },
   "outputs": [
    {
     "name": "stdout",
     "output_type": "stream",
     "text": [
      "Do nothing\n"
     ]
    }
   ],
   "source": [
    "enjoy = do\n",
    "enjoy()"
   ]
  },
  {
   "cell_type": "markdown",
   "metadata": {},
   "source": [
    "函数可以作为返回值"
   ]
  },
  {
   "cell_type": "code",
   "execution_count": 35,
   "metadata": {
    "collapsed": false,
    "scrolled": true
   },
   "outputs": [
    {
     "name": "stdout",
     "output_type": "stream",
     "text": [
      "Finish nothing\n"
     ]
    }
   ],
   "source": [
    "def do(something = 'nothing'):\n",
    "    def finish(something = something):\n",
    "        print('Finish', something)\n",
    "    return finish\n",
    "\n",
    "do()()"
   ]
  },
  {
   "cell_type": "markdown",
   "metadata": {},
   "source": [
    "函数可以作为参数"
   ]
  },
  {
   "cell_type": "code",
   "execution_count": 36,
   "metadata": {
    "collapsed": false,
    "scrolled": true
   },
   "outputs": [
    {
     "name": "stdout",
     "output_type": "stream",
     "text": [
      "Before finish\n",
      "Finish nothing\n",
      "After finish\n"
     ]
    }
   ],
   "source": [
    "def finish(something = 'nothing'):\n",
    "    print('Finish', something)\n",
    "\n",
    "def finish_wrapper(func):\n",
    "    print('Before finish')\n",
    "    func()\n",
    "    print('After finish')\n",
    "\n",
    "finish_wrapper(finish)"
   ]
  },
  {
   "cell_type": "markdown",
   "metadata": {},
   "source": [
    "组合以上特性，构建一个装饰器"
   ]
  },
  {
   "cell_type": "code",
   "execution_count": 37,
   "metadata": {
    "collapsed": false,
    "scrolled": false
   },
   "outputs": [
    {
     "name": "stdout",
     "output_type": "stream",
     "text": [
      "Finish nothing\n",
      "Before finish\n",
      "Finish nothing\n",
      "After finish\n"
     ]
    }
   ],
   "source": [
    "def finish(something = 'nothing'):\n",
    "    print('Finish', something)    \n",
    "\n",
    "def finish_wrapper_wrapper(func): #decorator\n",
    "    def finish_wrapper():\n",
    "        print('Before finish')\n",
    "        func()\n",
    "        print('After finish')    \n",
    "    return finish_wrapper\n",
    "\n",
    "finish()\n",
    "finish = finish_wrapper_wrapper(finish)\n",
    "finish()"
   ]
  },
  {
   "cell_type": "code",
   "execution_count": 38,
   "metadata": {
    "collapsed": false,
    "scrolled": true
   },
   "outputs": [
    {
     "name": "stdout",
     "output_type": "stream",
     "text": [
      "Before finish\n",
      "Finish nothing\n",
      "After finish\n",
      "finish_wrapper\n"
     ]
    }
   ],
   "source": [
    "@finish_wrapper_wrapper\n",
    "def finish(something = 'nothing'):\n",
    "    print('Finish', something) \n",
    "\n",
    "finish()\n",
    "print(finish.__name__)"
   ]
  },
  {
   "cell_type": "markdown",
   "metadata": {},
   "source": [
    "本质上此finish已经不是彼finish函数了。解决方案是使用@wraps装饰器，复制finish的函数名称、注释文档、参数列表"
   ]
  },
  {
   "cell_type": "code",
   "execution_count": 39,
   "metadata": {
    "collapsed": false
   },
   "outputs": [
    {
     "name": "stdout",
     "output_type": "stream",
     "text": [
      "Before finish\n",
      "Finish nothing\n",
      "After finish\n",
      "finish\n"
     ]
    }
   ],
   "source": [
    "from functools import wraps\n",
    "\n",
    "def finish_wrapper_wrapper(func): #decorator\n",
    "    @wraps(func)\n",
    "    def finish_wrapper():\n",
    "        print('Before finish')\n",
    "        func()\n",
    "        print('After finish')\n",
    "    return finish_wrapper\n",
    "\n",
    "@finish_wrapper_wrapper\n",
    "def finish(something = 'nothing'):\n",
    "    print('Finish', something)\n",
    "\n",
    "finish()\n",
    "print(finish.__name__)"
   ]
  },
  {
   "cell_type": "markdown",
   "metadata": {},
   "source": [
    "被装饰函数finish函数带参数和返回值的处理"
   ]
  },
  {
   "cell_type": "code",
   "execution_count": 40,
   "metadata": {
    "collapsed": false,
    "scrolled": true
   },
   "outputs": [
    {
     "name": "stdout",
     "output_type": "stream",
     "text": [
      "Before finish\n",
      "Finish my job\n",
      "After finish\n",
      "Done\n"
     ]
    }
   ],
   "source": [
    "from functools import wraps\n",
    "\n",
    "def finish_wrapper_wrapper(func):  #decorator\n",
    "    @wraps(func)\n",
    "    def finish_wrapper(something = 'nothing'):\n",
    "        print('Before finish')\n",
    "        result = func(something = something)\n",
    "        print('After finish')\n",
    "        return result\n",
    "    return finish_wrapper\n",
    "\n",
    "@finish_wrapper_wrapper\n",
    "def finish(something = 'nothing'):\n",
    "    print('Finish', something)\n",
    "    return 'Done'\n",
    "\n",
    "print(finish(something = 'my job'))"
   ]
  },
  {
   "cell_type": "markdown",
   "metadata": {},
   "source": [
    "被装饰函数finish有不定数量的参数的处理"
   ]
  },
  {
   "cell_type": "code",
   "execution_count": 41,
   "metadata": {
    "collapsed": false,
    "scrolled": true
   },
   "outputs": [
    {
     "name": "stdout",
     "output_type": "stream",
     "text": [
      "Before finish\n",
      "Finish the job\n",
      "After finish\n",
      "Done\n",
      "--------------------\n",
      "Before finish\n",
      "You finish the job\n",
      "After finish\n",
      "Done\n"
     ]
    }
   ],
   "source": [
    "from functools import wraps\n",
    "\n",
    "def finish_wrapper_wrapper(func): #decorator\n",
    "    @wraps(func)\n",
    "    def finish_wrapper(*args, **kwargs):\n",
    "        print('Before finish')\n",
    "        result = func(*args, **kwargs)\n",
    "        print('After finish')\n",
    "        return result\n",
    "    return finish_wrapper\n",
    "\n",
    "@finish_wrapper_wrapper\n",
    "def finish(something = 'nothing'):\n",
    "    print('Finish', something)\n",
    "    return 'Done'\n",
    "\n",
    "@finish_wrapper_wrapper\n",
    "def finish2(who, something = 'nothing'):\n",
    "    print(who, 'finish', something)\n",
    "    return 'Done'\n",
    "\n",
    "print(finish(something = \"the job\"))\n",
    "print('-' * 20)\n",
    "print(finish2('You',something = \"the job\"))"
   ]
  },
  {
   "cell_type": "markdown",
   "metadata": {},
   "source": [
    "装饰器finish_wrapper_wrapper带参数的处理"
   ]
  },
  {
   "cell_type": "code",
   "execution_count": 42,
   "metadata": {
    "collapsed": true
   },
   "outputs": [],
   "source": [
    "from functools import wraps\n",
    "\n",
    "def  finish_wrapper_wrapper_wrapper(name):\n",
    "    def finish_wrapper_wrapper(func): #decorator\n",
    "        @wraps(func)\n",
    "        def finish_wrapper(*args, **kwargs):\n",
    "            print('Before', name)\n",
    "            result = func(*args, **kwargs)\n",
    "            print('After', name)\n",
    "            return result\n",
    "        return finish_wrapper\n",
    "    return finish_wrapper_wrapper"
   ]
  },
  {
   "cell_type": "code",
   "execution_count": 43,
   "metadata": {
    "collapsed": false,
    "scrolled": false
   },
   "outputs": [
    {
     "name": "stdout",
     "output_type": "stream",
     "text": [
      "Before finish\n",
      "Finish the job\n",
      "After finish\n",
      "Done\n",
      "--------------------\n",
      "Before finish2\n",
      "You finish the job\n",
      "After finish2\n",
      "Done\n"
     ]
    }
   ],
   "source": [
    "@finish_wrapper_wrapper_wrapper('finish')\n",
    "def finish(something = 'nothing'):\n",
    "    print('Finish', something)\n",
    "    return 'Done'\n",
    "\n",
    "@finish_wrapper_wrapper_wrapper('finish2')\n",
    "def finish2(who, something = 'nothing'):\n",
    "    print(who, 'finish', something)\n",
    "    return 'Done'\n",
    "\n",
    "print(finish(something = \"the job\"))\n",
    "print('-' * 20)\n",
    "print(finish2('You',something = \"the job\"))"
   ]
  },
  {
   "cell_type": "markdown",
   "metadata": {},
   "source": [
    "封装成为类装饰器，使用魔法方法\\_\\_call\\_\\_"
   ]
  },
  {
   "cell_type": "code",
   "execution_count": 44,
   "metadata": {
    "collapsed": false
   },
   "outputs": [],
   "source": [
    "from functools import wraps\n",
    "\n",
    "class FinishDecorator(object):\n",
    "    \n",
    "    def __init__(self, name):\n",
    "        self.name = name\n",
    "    \n",
    "    def __call__(self, func): #decorator\n",
    "        @wraps(func)\n",
    "        def finish_wrapper(*args, **kwargs):\n",
    "            print('Before', self.name)\n",
    "            result = func(*args, **kwargs)\n",
    "            print('After', self.name)\n",
    "            return result\n",
    "        return finish_wrapper"
   ]
  },
  {
   "cell_type": "code",
   "execution_count": 45,
   "metadata": {
    "collapsed": false
   },
   "outputs": [
    {
     "name": "stdout",
     "output_type": "stream",
     "text": [
      "Before finish\n",
      "Finish the job\n",
      "After finish\n",
      "Done\n",
      "--------------------\n",
      "Before finish_2\n",
      "You finish the job\n",
      "After finish_2\n",
      "Done\n"
     ]
    }
   ],
   "source": [
    "@FinishDecorator('finish')\n",
    "def finish(something = 'nothing'):\n",
    "    print('Finish', something)\n",
    "    return 'Done'\n",
    "\n",
    "@FinishDecorator('finish_2')\n",
    "def finish2(who, something = 'nothing'):\n",
    "    print(who, 'finish', something)\n",
    "    return 'Done'\n",
    "\n",
    "print(finish(something = \"the job\"))\n",
    "print('-' * 20)\n",
    "print(finish2('You',something = \"the job\"))"
   ]
  },
  {
   "cell_type": "code",
   "execution_count": 46,
   "metadata": {
    "collapsed": false,
    "scrolled": true
   },
   "outputs": [
    {
     "name": "stdout",
     "output_type": "stream",
     "text": [
      "Before finish_1\n",
      "Before finish_2\n",
      "You finish the job\n",
      "After finish_2\n",
      "After finish_1\n",
      "Done\n"
     ]
    }
   ],
   "source": [
    "@FinishDecorator('finish_1')\n",
    "@FinishDecorator('finish_2')\n",
    "def finish3(who, something = 'nothing'):\n",
    "    print(who, 'finish', something)\n",
    "    return 'Done'\n",
    "\n",
    "print(finish3('You',something = \"the job\"))"
   ]
  },
  {
   "cell_type": "markdown",
   "metadata": {},
   "source": [
    "### 3、面向对象编程\n",
    "面向对象编程（Object Oriented Programming，OOP），是一种程序设计思想。类是面向对象编程的基础，类是一种数据结构，类是现实世界的抽象。对象和实例是类的具体化。可以类比一下，类是蓝图或者模型，用来产生真实的物体(实例)。因此使用关键字class就有类别，种属这样的意义。类是面向对象编程的基础，通过类结构定义实现面向对象的特性：封装、继承和多态。\n",
    "![](images/oop.png?20170710)"
   ]
  },
  {
   "cell_type": "code",
   "execution_count": 47,
   "metadata": {
    "collapsed": true
   },
   "outputs": [],
   "source": [
    "class Plant(object):\n",
    "    def __init__(self, name):\n",
    "        self.name = name\n",
    "        print(self.name, \"is here\")\n",
    "\n",
    "    def make_oxygen(self):\n",
    "        print(self.name,'makes oxygen')\n",
    "\n",
    "\n",
    "class Animal(object):\n",
    "    def __init__(self, name):\n",
    "        self.name = name\n",
    "        print(self.name, 'is here')\n",
    "\n",
    "    def say(self, something):\n",
    "        print(self.name , 'says', something)\n",
    "\n",
    "\n",
    "class Dog(Animal): # 继承\n",
    "    def __init__(self, name):\n",
    "        self.name = name     \n",
    "        super(Dog, self).__init__(name)\n",
    "\n",
    "    def run(self, somewhere):\n",
    "        print(self.name, 'runs to', somewhere)\n",
    "\n",
    "\n",
    "class PlantFish(Plant, Animal):   # 多重继承 \n",
    "    def __init__(self, name):\n",
    "        self.name = name\n",
    "        super(PlantFish, self).__init__(name)\n",
    "    \n",
    "    def think(self, something):\n",
    "        print(self.name, 'thinks', something)"
   ]
  },
  {
   "cell_type": "code",
   "execution_count": 48,
   "metadata": {
    "collapsed": false
   },
   "outputs": [
    {
     "name": "stdout",
     "output_type": "stream",
     "text": [
      "Lucky is here\n",
      "Lucky says hello\n",
      "Lucky runs to park\n",
      "True True\n"
     ]
    }
   ],
   "source": [
    "dog = Dog(\"Lucky\")\n",
    "dog.say('hello')\n",
    "dog.run('park')\n",
    "print(isinstance(dog, Dog), isinstance(dog, Animal))"
   ]
  },
  {
   "cell_type": "code",
   "execution_count": 49,
   "metadata": {
    "collapsed": false,
    "scrolled": true
   },
   "outputs": [
    {
     "name": "stdout",
     "output_type": "stream",
     "text": [
      "Super is here\n",
      "Super says hi\n",
      "Super makes oxygen\n",
      "Super thinks nothing\n",
      "True True True\n"
     ]
    }
   ],
   "source": [
    "plant_fish = PlantFish(\"Super\")\n",
    "plant_fish.say('hi')\n",
    "plant_fish.make_oxygen()\n",
    "plant_fish.think('nothing')\n",
    "print(isinstance(plant_fish, PlantFish) ,isinstance(plant_fish, Animal) ,isinstance(plant_fish, Plant))"
   ]
  },
  {
   "cell_type": "markdown",
   "metadata": {},
   "source": [
    "面向对象的多态，实现的编程思想中的对扩展开发，对修改封闭的基本原则，新增一种Animal子类不需要修改make_sound方法"
   ]
  },
  {
   "cell_type": "code",
   "execution_count": 50,
   "metadata": {
    "collapsed": false,
    "scrolled": false
   },
   "outputs": [
    {
     "name": "stdout",
     "output_type": "stream",
     "text": [
      "Lucky says hello\n",
      "Super says hello\n"
     ]
    }
   ],
   "source": [
    "def make_sound(obj): \n",
    "    obj.say('hello')\n",
    "\n",
    "make_sound(dog)\n",
    "make_sound(plant_fish)"
   ]
  },
  {
   "cell_type": "markdown",
   "metadata": {},
   "source": [
    "python的甚至不需要严格的类继承体系，也能实现多态的效果。这称作“鸭子类型”，一个对象只要“看起来像鸭子，走起路来像鸭子”，那它就可以被看做是鸭子。"
   ]
  },
  {
   "cell_type": "code",
   "execution_count": 51,
   "metadata": {
    "collapsed": false
   },
   "outputs": [
    {
     "name": "stdout",
     "output_type": "stream",
     "text": [
      "Mike is here\n",
      "Mike says hello\n"
     ]
    }
   ],
   "source": [
    "class Person(object):\n",
    "    def __init__(self, name):\n",
    "        self.name = name\n",
    "        print(self.name, 'is here')\n",
    "        \n",
    "    def say(self, something):\n",
    "        print(self.name , 'says', something)\n",
    "        \n",
    "person = Person('Mike')\n",
    "make_sound(person)"
   ]
  },
  {
   "cell_type": "markdown",
   "metadata": {},
   "source": [
    "#### 重构实现类的封装：通过百度下载视频"
   ]
  },
  {
   "cell_type": "code",
   "execution_count": null,
   "metadata": {
    "collapsed": true
   },
   "outputs": [],
   "source": [
    "import requests\n",
    "import re\n",
    "from pyquery import PyQuery as pq\n",
    "\n",
    "key = '如何掌控你的自由时间'\n",
    "baiduUrl = 'https://www.baidu.com/s?wd=%s site:open.163.com'\n",
    "flvUrl = 'http://www.flvcd.com/parse.php?format=&kw=%s'\n",
    "headers = {\"User-Agent\": \"Mozilla/5.0 (Windows NT 10.0; Win64; x64) '\\\n",
    "        'AppleWebKit/537.36 (KHTML, like Gecko) Chrome/58.0.3029.110 Safari/537.36\"}\n",
    "resp = requests.get(baiduUrl % key, headers=headers)\n",
    "page = pq(resp.text)\n",
    "items = [(item('a').attr('href'), item('div.c-span-last').text()) for item in  page('div.c-container div.c-gap-top-small').items()]\n",
    "videoPageUrl = ''\n",
    "if(len(items) > 0):\n",
    "    firstResp = requests.get(items[0][0], allow_redirects=False, headers=headers)\n",
    "    if(firstResp.status_code == 302):\n",
    "        videoPageUrl = firstResp.headers.get('location')\n",
    "    elif(firstResp.status_code == 200):\n",
    "        matchGroup = re.search(r'URL=\\'(.*?)\\'', firstResp.text, re.S)\n",
    "        videoPageUrl = matchGroup.group(1)\n",
    "        print(videoPageUrl)\n",
    "    if videoPageUrl:\n",
    "        flvResp = requests.get(flvUrl % videoPageUrl, headers=headers)\n",
    "        flvPage = pq(flvResp.text)\n",
    "        flvItems = [item.attr('href') for item in flvPage('td.mn a.link').items()]\n",
    "        if(len(flvItems) > 0 and flvItems[0]):\n",
    "            videoUrl = flvItems[0]\n",
    "            print(videoUrl)\n",
    "            if videoUrl:\n",
    "                downResp = requests.get(videoUrl, stream=True)\n",
    "                fileName = 'video/%s.flv' % key\n",
    "                with open(fileName, \"wb\") as file:\n",
    "                    file.write(downResp.content)\n",
    "                    print('finish')"
   ]
  },
  {
   "cell_type": "code",
   "execution_count": null,
   "metadata": {
    "collapsed": true
   },
   "outputs": [],
   "source": [
    "import requests\n",
    "import re\n",
    "from pyquery import PyQuery as pq\n",
    "\n",
    "class OnlineVideoCrawler(object):\n",
    "    def __init__(self, keys):\n",
    "        self.keys = keys\n",
    "        self.baiduUrl = 'https://www.baidu.com/s?wd=%s site:open.163.com'\n",
    "        self.flvUrl = 'http://www.flvcd.com/parse.php?format=&kw=%s'\n",
    "        self.headers = {\"User-Agent\": \"Mozilla/5.0 (Windows NT 10.0; Win64; x64) '\\\n",
    "        'AppleWebKit/537.36 (KHTML, like Gecko) Chrome/58.0.3029.110 Safari/537.36\"}\n",
    "\n",
    "    def getVideoPageUrlFromBaidu(self, key):\n",
    "        resp = requests.get(self.baiduUrl % key, headers=self.headers)\n",
    "        page = pq(resp.text)\n",
    "        items = [(item('a').attr('href'), item('div.c-span-last').text()) for item in  page('div.c-container div.c-gap-top-small').items()]\n",
    "        videoPageUrl = ''\n",
    "        if(len(items) > 0):\n",
    "            firstResp = requests.get(items[0][0], allow_redirects=False, headers=self.headers)\n",
    "            if(firstResp.status_code == 302):\n",
    "                videoPageUrl = firstResp.headers.get('location')\n",
    "            elif(firstResp.status_code == 200):\n",
    "                matchGroup = re.search(r'URL=\\'(.*?)\\'', firstResp.text, re.S)\n",
    "                videoPageUrl = matchGroup.group(1)\n",
    "        print(videoPageUrl)\n",
    "        return videoPageUrl\n",
    "        \n",
    "    \n",
    "    def getVideoUrlFromFlv(self, key):\n",
    "        videoPageUrl = self.getVideoPageUrlFromBaidu(key)\n",
    "        videoUrl = ''\n",
    "        if videoPageUrl:\n",
    "            flvResp = requests.get(self.flvUrl % videoPageUrl, headers=self.headers)\n",
    "            flvPage = pq(flvResp.text)\n",
    "            flvItems = [item.attr('href') for item in flvPage('td.mn a.link').items()]\n",
    "            if(len(flvItems) > 0 and flvItems[0]):\n",
    "                videoUrl = flvItems[0]\n",
    "        print(videoUrl)\n",
    "        return videoUrl\n",
    "    \n",
    "    def downloadVideo(self, key):\n",
    "        videoUrl = self.getVideoUrlFromFlv(key)\n",
    "        downResp = requests.get(videoUrl, stream=True)\n",
    "        total = int(downResp.headers.get('content-length'))\n",
    "        print(total)\n",
    "        fileName = 'video/%s.flv' % key\n",
    "        i = 0\n",
    "        chunk_size = 1024\n",
    "        with open(fileName, \"wb\") as file:\n",
    "            for chunk in downResp.iter_content(chunk_size=chunk_size):\n",
    "                if chunk:\n",
    "                    i += 1\n",
    "                    file.write(chunk)\n",
    "                    file.flush()\n",
    "                    print('%.2f' % (chunk_size * i / total), end='\\r')\n",
    "\n",
    "    def downloadVideos(self):\n",
    "        if len(self.keys) > 0:\n",
    "            for key in self.keys:\n",
    "                try:\n",
    "                    self.downloadVideo(key)\n",
    "                except Exception as e:\n",
    "                    print(e)\n",
    "\n",
    "#if __name__ == '__main__':\n",
    "keys = ['如何掌控你的自由时间','阅读全世界','如何做得更好']\n",
    "crawler = OnlineVideoCrawler(keys)\n",
    "crawler.downloadVideos()"
   ]
  },
  {
   "cell_type": "markdown",
   "metadata": {},
   "source": [
    "#### 面向对象多态：工厂设计模式"
   ]
  },
  {
   "cell_type": "code",
   "execution_count": 52,
   "metadata": {
    "collapsed": false
   },
   "outputs": [],
   "source": [
    "import json\n",
    "import xml.etree.ElementTree as etree\n",
    "\n",
    "class JSONConnector(object):\n",
    "    def __init__(self, filepath):\n",
    "        self.data = {}\n",
    "        with open(filepath, mode='r', encoding='utf-8') as f:\n",
    "            self.data = json.load(f)\n",
    "\n",
    "    @property\n",
    "    def parsed_data(self):\n",
    "        return self.data\n",
    "    \n",
    "    \n",
    "class XMLConnector(object):\n",
    "    def __init__(self, filepath):\n",
    "        self.tree = etree.parse(filepath)\n",
    "\n",
    "    @property\n",
    "    def parsed_data(self):\n",
    "        return self.tree"
   ]
  },
  {
   "cell_type": "code",
   "execution_count": 53,
   "metadata": {
    "collapsed": true
   },
   "outputs": [],
   "source": [
    "def connection_factory(filepath):\n",
    "    if filepath.endswith('json'):\n",
    "        connector = JSONConnector\n",
    "    elif filepath.endswith('xml'):\n",
    "        connector = XMLConnector\n",
    "    else:\n",
    "        raise ValueError('Cannot connect to {}'.format(filepath))\n",
    "    return connector(filepath)\n"
   ]
  },
  {
   "cell_type": "code",
   "execution_count": 54,
   "metadata": {
    "collapsed": false
   },
   "outputs": [
    {
     "data": {
      "text/plain": [
       "<Element 'persons' at 0x000001D4CB45E958>"
      ]
     },
     "execution_count": 54,
     "metadata": {},
     "output_type": "execute_result"
    }
   ],
   "source": [
    "connector = connection_factory('data/ch06/person.xml')\n",
    "connector.parsed_data.getroot()"
   ]
  },
  {
   "cell_type": "code",
   "execution_count": 55,
   "metadata": {
    "collapsed": false
   },
   "outputs": [
    {
     "data": {
      "text/plain": [
       "[{'batters': {'batter': [{'id': '1001', 'type': 'Regular'},\n",
       "    {'id': '1002', 'type': 'Chocolate'},\n",
       "    {'id': '1003', 'type': 'Blue berry'},\n",
       "    {'id': '1004', 'type': \"Devil's Food\"}]},\n",
       "  'id': '0001',\n",
       "  'name': 'Cake',\n",
       "  'ppu': 0.55,\n",
       "  'topping': [{'id': '5001', 'type': 'None'},\n",
       "   {'id': '5002', 'type': 'Glazed'},\n",
       "   {'id': '5005', 'type': 'Sugar'},\n",
       "   {'id': '5007', 'type': 'Powdered Sugar'},\n",
       "   {'id': '5006', 'type': 'Chocolate with Sprinkles'},\n",
       "   {'id': '5003', 'type': 'Chocolate'},\n",
       "   {'id': '5004', 'type': 'Maple'}],\n",
       "  'type': 'donut'},\n",
       " {'batters': {'batter': [{'id': '1001', 'type': 'Regular'}]},\n",
       "  'id': '0002',\n",
       "  'name': 'Raised',\n",
       "  'ppu': 0.55,\n",
       "  'topping': [{'id': '5001', 'type': 'None'},\n",
       "   {'id': '5002', 'type': 'Glazed'},\n",
       "   {'id': '5005', 'type': 'Sugar'},\n",
       "   {'id': '5003', 'type': 'Chocolate'},\n",
       "   {'id': '5004', 'type': 'Maple'}],\n",
       "  'type': 'donut'},\n",
       " {'batters': {'batter': [{'id': '1001', 'type': 'Regular'},\n",
       "    {'id': '1002', 'type': 'Chocolate'}]},\n",
       "  'id': '0003',\n",
       "  'name': 'Old Fashioned',\n",
       "  'ppu': 0.55,\n",
       "  'topping': [{'id': '5001', 'type': 'None'},\n",
       "   {'id': '5002', 'type': 'Glazed'},\n",
       "   {'id': '5003', 'type': 'Chocolate'},\n",
       "   {'id': '5004', 'type': 'Maple'}],\n",
       "  'type': 'donut'}]"
      ]
     },
     "execution_count": 55,
     "metadata": {},
     "output_type": "execute_result"
    }
   ],
   "source": [
    "connector = connection_factory('data/ch06/donut.json')\n",
    "connector.parsed_data"
   ]
  },
  {
   "cell_type": "markdown",
   "metadata": {},
   "source": [
    "## 三、python数据科学实战"
   ]
  },
  {
   "cell_type": "markdown",
   "metadata": {
    "collapsed": true
   },
   "source": [
    "从数据中提取信息，从信息中发现知识，从知识中做出决策"
   ]
  },
  {
   "cell_type": "markdown",
   "metadata": {},
   "source": [
    "### 1. 关于数据科学"
   ]
  },
  {
   "cell_type": "markdown",
   "metadata": {},
   "source": [
    "#### 数据科学工作流程"
   ]
  },
  {
   "cell_type": "markdown",
   "metadata": {},
   "source": [
    "![](images/data-science-process.jpg)"
   ]
  },
  {
   "cell_type": "markdown",
   "metadata": {},
   "source": [
    "#### 算法和模型\n",
    "某种程度上是一样的东西，统计学和计算机科学并行发展的历史遗留问题。所以有特征和标签、自变量和因变量、解释变量和目标变量这样对同样东西的不同说法。"
   ]
  },
  {
   "cell_type": "markdown",
   "metadata": {},
   "source": [
    "3个基础算法：\n",
    "- 线性回归模型：预测算法，表示变量间的数学关系\n",
    "- k近邻模型（KNN）：分类算法，给定已经做好分类的数据集，k近邻学习其中的分类信息，并对尚未分类的类似数据进行分类\n",
    "- k均值模型（K-Means）：聚类算法，没有分类的数据集，算法给出其分类"
   ]
  },
  {
   "cell_type": "markdown",
   "metadata": {},
   "source": [
    "#### 建模基本步骤\n",
    "- 问题定义\n",
    "- 数据探索\n",
    "- 特征工程\n",
    "- 建模和评估"
   ]
  },
  {
   "cell_type": "markdown",
   "metadata": {},
   "source": [
    "### 2. 综合案例：判断一个贷款者在后续两年内是否会违约的概率\n",
    "案例来自kaggle上一个经典的问题，http://www.kaggle.com/c/GiveMeSomeCredit\n",
    "\n",
    "#### 问题定义\n",
    "需要思考的关键问题:\n",
    "- 损失是如何发生的?\n",
    "- 违约的人有哪些特点?\n",
    "- 违约的占比有多少？\n",
    "- 如何能改善我们的损失？\n"
   ]
  },
  {
   "cell_type": "markdown",
   "metadata": {},
   "source": [
    "#### 数据探索\n",
    "- SeriousDlqin2yrs\n",
    "    - 用户在后续两年内出现90天以上的还款逾期，这是目标变量，以下都是解释变量\n",
    "- NumberRealEstateLoansOrLines\t\n",
    "    - 房贷的信贷次数\n",
    "- NumberOfOpenCreditLinesAndLoans\t\n",
    "    - 包括车贷房贷在内的贷款笔数\n",
    "- MonthlyIncome\n",
    "    - 月收入\n",
    "- RevolvingUtilizationOfUnsecuredLines\n",
    "    - 信用卡借款占比\n",
    "- NumberOfDependents\t\n",
    "    - 家庭中需要抚养的人数\n",
    "- DebtRatio\t\n",
    "    - 月度生活成本占月收入的比率\n",
    "- age\t\n",
    "    - 借款人年龄\n",
    "- NumberOfTime30-59DaysPastDueNotWorse\t\n",
    "    - 过去有逾期30-59天还款的次数\n",
    "- NumberOfTime60-89DaysPastDueNotWorse\t\n",
    "    - 过去有逾期60-89天还款的次数\n",
    "- NumberOfTimes90DaysLate\t\n",
    "    - 过去有逾期90天以上还款的次数"
   ]
  },
  {
   "cell_type": "code",
   "execution_count": 2,
   "metadata": {
    "collapsed": true
   },
   "outputs": [],
   "source": [
    "import pandas as pd\n",
    "import numpy as np\n",
    "import seaborn as sns\n",
    "import matplotlib.pyplot as plt\n",
    "%matplotlib inline\n",
    "pd.options.mode.chained_assignment = None"
   ]
  },
  {
   "cell_type": "code",
   "execution_count": 3,
   "metadata": {
    "collapsed": false,
    "scrolled": true
   },
   "outputs": [
    {
     "data": {
      "text/html": [
       "<div>\n",
       "<table border=\"1\" class=\"dataframe\">\n",
       "  <thead>\n",
       "    <tr style=\"text-align: right;\">\n",
       "      <th></th>\n",
       "      <th>SeriousDlqin2yrs</th>\n",
       "      <th>RevolvingUtilizationOfUnsecuredLines</th>\n",
       "      <th>age</th>\n",
       "      <th>NumberOfTime30-59DaysPastDueNotWorse</th>\n",
       "      <th>DebtRatio</th>\n",
       "      <th>MonthlyIncome</th>\n",
       "      <th>NumberOfOpenCreditLinesAndLoans</th>\n",
       "      <th>NumberOfTimes90DaysLate</th>\n",
       "      <th>NumberRealEstateLoansOrLines</th>\n",
       "      <th>NumberOfTime60-89DaysPastDueNotWorse</th>\n",
       "      <th>NumberOfDependents</th>\n",
       "    </tr>\n",
       "  </thead>\n",
       "  <tbody>\n",
       "    <tr>\n",
       "      <th>0</th>\n",
       "      <td>1</td>\n",
       "      <td>0.766127</td>\n",
       "      <td>45</td>\n",
       "      <td>2</td>\n",
       "      <td>0.802982</td>\n",
       "      <td>9120.0</td>\n",
       "      <td>13</td>\n",
       "      <td>0</td>\n",
       "      <td>6</td>\n",
       "      <td>0</td>\n",
       "      <td>2.0</td>\n",
       "    </tr>\n",
       "    <tr>\n",
       "      <th>1</th>\n",
       "      <td>0</td>\n",
       "      <td>0.957151</td>\n",
       "      <td>40</td>\n",
       "      <td>0</td>\n",
       "      <td>0.121876</td>\n",
       "      <td>2600.0</td>\n",
       "      <td>4</td>\n",
       "      <td>0</td>\n",
       "      <td>0</td>\n",
       "      <td>0</td>\n",
       "      <td>1.0</td>\n",
       "    </tr>\n",
       "    <tr>\n",
       "      <th>2</th>\n",
       "      <td>0</td>\n",
       "      <td>0.658180</td>\n",
       "      <td>38</td>\n",
       "      <td>1</td>\n",
       "      <td>0.085113</td>\n",
       "      <td>3042.0</td>\n",
       "      <td>2</td>\n",
       "      <td>1</td>\n",
       "      <td>0</td>\n",
       "      <td>0</td>\n",
       "      <td>0.0</td>\n",
       "    </tr>\n",
       "    <tr>\n",
       "      <th>3</th>\n",
       "      <td>0</td>\n",
       "      <td>0.233810</td>\n",
       "      <td>30</td>\n",
       "      <td>0</td>\n",
       "      <td>0.036050</td>\n",
       "      <td>3300.0</td>\n",
       "      <td>5</td>\n",
       "      <td>0</td>\n",
       "      <td>0</td>\n",
       "      <td>0</td>\n",
       "      <td>0.0</td>\n",
       "    </tr>\n",
       "    <tr>\n",
       "      <th>4</th>\n",
       "      <td>0</td>\n",
       "      <td>0.907239</td>\n",
       "      <td>49</td>\n",
       "      <td>1</td>\n",
       "      <td>0.024926</td>\n",
       "      <td>63588.0</td>\n",
       "      <td>7</td>\n",
       "      <td>0</td>\n",
       "      <td>1</td>\n",
       "      <td>0</td>\n",
       "      <td>0.0</td>\n",
       "    </tr>\n",
       "  </tbody>\n",
       "</table>\n",
       "</div>"
      ],
      "text/plain": [
       "   SeriousDlqin2yrs  RevolvingUtilizationOfUnsecuredLines  age  \\\n",
       "0                 1                              0.766127   45   \n",
       "1                 0                              0.957151   40   \n",
       "2                 0                              0.658180   38   \n",
       "3                 0                              0.233810   30   \n",
       "4                 0                              0.907239   49   \n",
       "\n",
       "   NumberOfTime30-59DaysPastDueNotWorse  DebtRatio  MonthlyIncome  \\\n",
       "0                                     2   0.802982         9120.0   \n",
       "1                                     0   0.121876         2600.0   \n",
       "2                                     1   0.085113         3042.0   \n",
       "3                                     0   0.036050         3300.0   \n",
       "4                                     1   0.024926        63588.0   \n",
       "\n",
       "   NumberOfOpenCreditLinesAndLoans  NumberOfTimes90DaysLate  \\\n",
       "0                               13                        0   \n",
       "1                                4                        0   \n",
       "2                                2                        1   \n",
       "3                                5                        0   \n",
       "4                                7                        0   \n",
       "\n",
       "   NumberRealEstateLoansOrLines  NumberOfTime60-89DaysPastDueNotWorse  \\\n",
       "0                             6                                     0   \n",
       "1                             0                                     0   \n",
       "2                             0                                     0   \n",
       "3                             0                                     0   \n",
       "4                             1                                     0   \n",
       "\n",
       "   NumberOfDependents  \n",
       "0                 2.0  \n",
       "1                 1.0  \n",
       "2                 0.0  \n",
       "3                 0.0  \n",
       "4                 0.0  "
      ]
     },
     "execution_count": 3,
     "metadata": {},
     "output_type": "execute_result"
    }
   ],
   "source": [
    "df = pd.read_csv(\"data/ch06/credit-training.csv\") #读取数据\n",
    "df.head()"
   ]
  },
  {
   "cell_type": "code",
   "execution_count": 85,
   "metadata": {
    "collapsed": false
   },
   "outputs": [
    {
     "ename": "AttributeError",
     "evalue": "'Series' object has no attribute 'consum'",
     "output_type": "error",
     "traceback": [
      "\u001b[0;31m---------------------------------------------------------------------------\u001b[0m",
      "\u001b[0;31mAttributeError\u001b[0m                            Traceback (most recent call last)",
      "\u001b[0;32m<ipython-input-85-29d200028adf>\u001b[0m in \u001b[0;36m<module>\u001b[0;34m()\u001b[0m\n\u001b[0;32m----> 1\u001b[0;31m \u001b[0mdf\u001b[0m\u001b[1;33m.\u001b[0m\u001b[0mNumberOfDependents\u001b[0m\u001b[1;33m.\u001b[0m\u001b[0mvalue_counts\u001b[0m\u001b[1;33m(\u001b[0m\u001b[1;33m)\u001b[0m\u001b[1;33m.\u001b[0m\u001b[0mconsum\u001b[0m\u001b[1;33m(\u001b[0m\u001b[1;33m)\u001b[0m\u001b[1;33m\u001b[0m\u001b[0m\n\u001b[0m",
      "\u001b[0;32mC:\\ProgramData\\Anaconda3\\lib\\site-packages\\pandas\\core\\generic.py\u001b[0m in \u001b[0;36m__getattr__\u001b[0;34m(self, name)\u001b[0m\n\u001b[1;32m   2742\u001b[0m             \u001b[1;32mif\u001b[0m \u001b[0mname\u001b[0m \u001b[1;32min\u001b[0m \u001b[0mself\u001b[0m\u001b[1;33m.\u001b[0m\u001b[0m_info_axis\u001b[0m\u001b[1;33m:\u001b[0m\u001b[1;33m\u001b[0m\u001b[0m\n\u001b[1;32m   2743\u001b[0m                 \u001b[1;32mreturn\u001b[0m \u001b[0mself\u001b[0m\u001b[1;33m[\u001b[0m\u001b[0mname\u001b[0m\u001b[1;33m]\u001b[0m\u001b[1;33m\u001b[0m\u001b[0m\n\u001b[0;32m-> 2744\u001b[0;31m             \u001b[1;32mreturn\u001b[0m \u001b[0mobject\u001b[0m\u001b[1;33m.\u001b[0m\u001b[0m__getattribute__\u001b[0m\u001b[1;33m(\u001b[0m\u001b[0mself\u001b[0m\u001b[1;33m,\u001b[0m \u001b[0mname\u001b[0m\u001b[1;33m)\u001b[0m\u001b[1;33m\u001b[0m\u001b[0m\n\u001b[0m\u001b[1;32m   2745\u001b[0m \u001b[1;33m\u001b[0m\u001b[0m\n\u001b[1;32m   2746\u001b[0m     \u001b[1;32mdef\u001b[0m \u001b[0m__setattr__\u001b[0m\u001b[1;33m(\u001b[0m\u001b[0mself\u001b[0m\u001b[1;33m,\u001b[0m \u001b[0mname\u001b[0m\u001b[1;33m,\u001b[0m \u001b[0mvalue\u001b[0m\u001b[1;33m)\u001b[0m\u001b[1;33m:\u001b[0m\u001b[1;33m\u001b[0m\u001b[0m\n",
      "\u001b[0;31mAttributeError\u001b[0m: 'Series' object has no attribute 'consum'"
     ]
    }
   ],
   "source": [
    "df.NumberOfDependents.value_counts()"
   ]
  },
  {
   "cell_type": "code",
   "execution_count": 4,
   "metadata": {
    "collapsed": false
   },
   "outputs": [
    {
     "data": {
      "text/plain": [
       "(150000, 11)"
      ]
     },
     "execution_count": 4,
     "metadata": {},
     "output_type": "execute_result"
    }
   ],
   "source": [
    "df.shape"
   ]
  },
  {
   "cell_type": "code",
   "execution_count": 5,
   "metadata": {
    "collapsed": false
   },
   "outputs": [
    {
     "name": "stdout",
     "output_type": "stream",
     "text": [
      "<class 'pandas.core.frame.DataFrame'>\n",
      "RangeIndex: 150000 entries, 0 to 149999\n",
      "Data columns (total 11 columns):\n",
      "SeriousDlqin2yrs                        150000 non-null int64\n",
      "RevolvingUtilizationOfUnsecuredLines    150000 non-null float64\n",
      "age                                     150000 non-null int64\n",
      "NumberOfTime30-59DaysPastDueNotWorse    150000 non-null int64\n",
      "DebtRatio                               150000 non-null float64\n",
      "MonthlyIncome                           120269 non-null float64\n",
      "NumberOfOpenCreditLinesAndLoans         150000 non-null int64\n",
      "NumberOfTimes90DaysLate                 150000 non-null int64\n",
      "NumberRealEstateLoansOrLines            150000 non-null int64\n",
      "NumberOfTime60-89DaysPastDueNotWorse    150000 non-null int64\n",
      "NumberOfDependents                      146076 non-null float64\n",
      "dtypes: float64(4), int64(7)\n",
      "memory usage: 12.6 MB\n"
     ]
    }
   ],
   "source": [
    "df.info()"
   ]
  },
  {
   "cell_type": "code",
   "execution_count": 6,
   "metadata": {
    "collapsed": false
   },
   "outputs": [
    {
     "data": {
      "text/html": [
       "<div>\n",
       "<table border=\"1\" class=\"dataframe\">\n",
       "  <thead>\n",
       "    <tr style=\"text-align: right;\">\n",
       "      <th></th>\n",
       "      <th>SeriousDlqin2yrs</th>\n",
       "      <th>RevolvingUtilizationOfUnsecuredLines</th>\n",
       "      <th>age</th>\n",
       "      <th>NumberOfTime30-59DaysPastDueNotWorse</th>\n",
       "      <th>DebtRatio</th>\n",
       "      <th>MonthlyIncome</th>\n",
       "      <th>NumberOfOpenCreditLinesAndLoans</th>\n",
       "      <th>NumberOfTimes90DaysLate</th>\n",
       "      <th>NumberRealEstateLoansOrLines</th>\n",
       "      <th>NumberOfTime60-89DaysPastDueNotWorse</th>\n",
       "      <th>NumberOfDependents</th>\n",
       "    </tr>\n",
       "  </thead>\n",
       "  <tbody>\n",
       "    <tr>\n",
       "      <th>count</th>\n",
       "      <td>150000.000000</td>\n",
       "      <td>150000.000000</td>\n",
       "      <td>150000.000000</td>\n",
       "      <td>150000.000000</td>\n",
       "      <td>150000.000000</td>\n",
       "      <td>1.202690e+05</td>\n",
       "      <td>150000.000000</td>\n",
       "      <td>150000.000000</td>\n",
       "      <td>150000.000000</td>\n",
       "      <td>150000.000000</td>\n",
       "      <td>146076.000000</td>\n",
       "    </tr>\n",
       "    <tr>\n",
       "      <th>mean</th>\n",
       "      <td>0.066840</td>\n",
       "      <td>6.048438</td>\n",
       "      <td>52.295207</td>\n",
       "      <td>0.421033</td>\n",
       "      <td>353.005076</td>\n",
       "      <td>6.670221e+03</td>\n",
       "      <td>8.452760</td>\n",
       "      <td>0.265973</td>\n",
       "      <td>1.018240</td>\n",
       "      <td>0.240387</td>\n",
       "      <td>0.757222</td>\n",
       "    </tr>\n",
       "    <tr>\n",
       "      <th>std</th>\n",
       "      <td>0.249746</td>\n",
       "      <td>249.755371</td>\n",
       "      <td>14.771866</td>\n",
       "      <td>4.192781</td>\n",
       "      <td>2037.818523</td>\n",
       "      <td>1.438467e+04</td>\n",
       "      <td>5.145951</td>\n",
       "      <td>4.169304</td>\n",
       "      <td>1.129771</td>\n",
       "      <td>4.155179</td>\n",
       "      <td>1.115086</td>\n",
       "    </tr>\n",
       "    <tr>\n",
       "      <th>min</th>\n",
       "      <td>0.000000</td>\n",
       "      <td>0.000000</td>\n",
       "      <td>0.000000</td>\n",
       "      <td>0.000000</td>\n",
       "      <td>0.000000</td>\n",
       "      <td>0.000000e+00</td>\n",
       "      <td>0.000000</td>\n",
       "      <td>0.000000</td>\n",
       "      <td>0.000000</td>\n",
       "      <td>0.000000</td>\n",
       "      <td>0.000000</td>\n",
       "    </tr>\n",
       "    <tr>\n",
       "      <th>25%</th>\n",
       "      <td>0.000000</td>\n",
       "      <td>0.029867</td>\n",
       "      <td>41.000000</td>\n",
       "      <td>0.000000</td>\n",
       "      <td>0.175074</td>\n",
       "      <td>3.400000e+03</td>\n",
       "      <td>5.000000</td>\n",
       "      <td>0.000000</td>\n",
       "      <td>0.000000</td>\n",
       "      <td>0.000000</td>\n",
       "      <td>0.000000</td>\n",
       "    </tr>\n",
       "    <tr>\n",
       "      <th>50%</th>\n",
       "      <td>0.000000</td>\n",
       "      <td>0.154181</td>\n",
       "      <td>52.000000</td>\n",
       "      <td>0.000000</td>\n",
       "      <td>0.366508</td>\n",
       "      <td>5.400000e+03</td>\n",
       "      <td>8.000000</td>\n",
       "      <td>0.000000</td>\n",
       "      <td>1.000000</td>\n",
       "      <td>0.000000</td>\n",
       "      <td>0.000000</td>\n",
       "    </tr>\n",
       "    <tr>\n",
       "      <th>75%</th>\n",
       "      <td>0.000000</td>\n",
       "      <td>0.559046</td>\n",
       "      <td>63.000000</td>\n",
       "      <td>0.000000</td>\n",
       "      <td>0.868254</td>\n",
       "      <td>8.249000e+03</td>\n",
       "      <td>11.000000</td>\n",
       "      <td>0.000000</td>\n",
       "      <td>2.000000</td>\n",
       "      <td>0.000000</td>\n",
       "      <td>1.000000</td>\n",
       "    </tr>\n",
       "    <tr>\n",
       "      <th>max</th>\n",
       "      <td>1.000000</td>\n",
       "      <td>50708.000000</td>\n",
       "      <td>109.000000</td>\n",
       "      <td>98.000000</td>\n",
       "      <td>329664.000000</td>\n",
       "      <td>3.008750e+06</td>\n",
       "      <td>58.000000</td>\n",
       "      <td>98.000000</td>\n",
       "      <td>54.000000</td>\n",
       "      <td>98.000000</td>\n",
       "      <td>20.000000</td>\n",
       "    </tr>\n",
       "  </tbody>\n",
       "</table>\n",
       "</div>"
      ],
      "text/plain": [
       "       SeriousDlqin2yrs  RevolvingUtilizationOfUnsecuredLines            age  \\\n",
       "count     150000.000000                         150000.000000  150000.000000   \n",
       "mean           0.066840                              6.048438      52.295207   \n",
       "std            0.249746                            249.755371      14.771866   \n",
       "min            0.000000                              0.000000       0.000000   \n",
       "25%            0.000000                              0.029867      41.000000   \n",
       "50%            0.000000                              0.154181      52.000000   \n",
       "75%            0.000000                              0.559046      63.000000   \n",
       "max            1.000000                          50708.000000     109.000000   \n",
       "\n",
       "       NumberOfTime30-59DaysPastDueNotWorse      DebtRatio  MonthlyIncome  \\\n",
       "count                         150000.000000  150000.000000   1.202690e+05   \n",
       "mean                               0.421033     353.005076   6.670221e+03   \n",
       "std                                4.192781    2037.818523   1.438467e+04   \n",
       "min                                0.000000       0.000000   0.000000e+00   \n",
       "25%                                0.000000       0.175074   3.400000e+03   \n",
       "50%                                0.000000       0.366508   5.400000e+03   \n",
       "75%                                0.000000       0.868254   8.249000e+03   \n",
       "max                               98.000000  329664.000000   3.008750e+06   \n",
       "\n",
       "       NumberOfOpenCreditLinesAndLoans  NumberOfTimes90DaysLate  \\\n",
       "count                    150000.000000            150000.000000   \n",
       "mean                          8.452760                 0.265973   \n",
       "std                           5.145951                 4.169304   \n",
       "min                           0.000000                 0.000000   \n",
       "25%                           5.000000                 0.000000   \n",
       "50%                           8.000000                 0.000000   \n",
       "75%                          11.000000                 0.000000   \n",
       "max                          58.000000                98.000000   \n",
       "\n",
       "       NumberRealEstateLoansOrLines  NumberOfTime60-89DaysPastDueNotWorse  \\\n",
       "count                 150000.000000                         150000.000000   \n",
       "mean                       1.018240                              0.240387   \n",
       "std                        1.129771                              4.155179   \n",
       "min                        0.000000                              0.000000   \n",
       "25%                        0.000000                              0.000000   \n",
       "50%                        1.000000                              0.000000   \n",
       "75%                        2.000000                              0.000000   \n",
       "max                       54.000000                             98.000000   \n",
       "\n",
       "       NumberOfDependents  \n",
       "count       146076.000000  \n",
       "mean             0.757222  \n",
       "std              1.115086  \n",
       "min              0.000000  \n",
       "25%              0.000000  \n",
       "50%              0.000000  \n",
       "75%              1.000000  \n",
       "max             20.000000  "
      ]
     },
     "execution_count": 6,
     "metadata": {},
     "output_type": "execute_result"
    }
   ],
   "source": [
    "df.describe()"
   ]
  },
  {
   "cell_type": "code",
   "execution_count": 7,
   "metadata": {
    "collapsed": false
   },
   "outputs": [
    {
     "data": {
      "text/plain": [
       "0    139974\n",
       "1     10026\n",
       "Name: SeriousDlqin2yrs, dtype: int64"
      ]
     },
     "execution_count": 7,
     "metadata": {},
     "output_type": "execute_result"
    }
   ],
   "source": [
    "df.SeriousDlqin2yrs.value_counts()"
   ]
  },
  {
   "cell_type": "code",
   "execution_count": 8,
   "metadata": {
    "collapsed": false
   },
   "outputs": [
    {
     "data": {
      "text/plain": [
       "array([  2.,   1.,   0.,  nan,   3.,   4.,   5.,   6.,   8.,   7.,  20.,\n",
       "        10.,   9.,  13.])"
      ]
     },
     "execution_count": 8,
     "metadata": {},
     "output_type": "execute_result"
    }
   ],
   "source": [
    "df.NumberOfDependents.unique() "
   ]
  },
  {
   "cell_type": "code",
   "execution_count": 9,
   "metadata": {
    "collapsed": false
   },
   "outputs": [
    {
     "data": {
      "text/plain": [
       "0.0     86902\n",
       "1.0     26316\n",
       "2.0     19522\n",
       "3.0      9483\n",
       "4.0      2862\n",
       "5.0       746\n",
       "6.0       158\n",
       "7.0        51\n",
       "8.0        24\n",
       "9.0         5\n",
       "10.0        5\n",
       "13.0        1\n",
       "20.0        1\n",
       "Name: NumberOfDependents, dtype: int64"
      ]
     },
     "execution_count": 9,
     "metadata": {},
     "output_type": "execute_result"
    }
   ],
   "source": [
    "df.NumberOfDependents.value_counts()"
   ]
  },
  {
   "cell_type": "code",
   "execution_count": 10,
   "metadata": {
    "collapsed": false,
    "scrolled": false
   },
   "outputs": [
    {
     "data": {
      "text/html": [
       "<div>\n",
       "<table border=\"1\" class=\"dataframe\">\n",
       "  <thead>\n",
       "    <tr style=\"text-align: right;\">\n",
       "      <th></th>\n",
       "      <th>RevolvingUtilizationOfUnsecuredLines</th>\n",
       "      <th>age</th>\n",
       "      <th>NumberOfTime30-59DaysPastDueNotWorse</th>\n",
       "      <th>DebtRatio</th>\n",
       "      <th>MonthlyIncome</th>\n",
       "      <th>NumberOfOpenCreditLinesAndLoans</th>\n",
       "      <th>NumberOfTimes90DaysLate</th>\n",
       "      <th>NumberRealEstateLoansOrLines</th>\n",
       "      <th>NumberOfTime60-89DaysPastDueNotWorse</th>\n",
       "      <th>NumberOfDependents</th>\n",
       "    </tr>\n",
       "    <tr>\n",
       "      <th>SeriousDlqin2yrs</th>\n",
       "      <th></th>\n",
       "      <th></th>\n",
       "      <th></th>\n",
       "      <th></th>\n",
       "      <th></th>\n",
       "      <th></th>\n",
       "      <th></th>\n",
       "      <th></th>\n",
       "      <th></th>\n",
       "      <th></th>\n",
       "    </tr>\n",
       "  </thead>\n",
       "  <tbody>\n",
       "    <tr>\n",
       "      <th>0</th>\n",
       "      <td>6.168855</td>\n",
       "      <td>52.751375</td>\n",
       "      <td>0.280109</td>\n",
       "      <td>357.151168</td>\n",
       "      <td>6747.837774</td>\n",
       "      <td>8.493620</td>\n",
       "      <td>0.135225</td>\n",
       "      <td>1.020368</td>\n",
       "      <td>0.126666</td>\n",
       "      <td>0.743417</td>\n",
       "    </tr>\n",
       "    <tr>\n",
       "      <th>1</th>\n",
       "      <td>4.367282</td>\n",
       "      <td>45.926591</td>\n",
       "      <td>2.388490</td>\n",
       "      <td>295.121066</td>\n",
       "      <td>5630.826493</td>\n",
       "      <td>7.882306</td>\n",
       "      <td>2.091362</td>\n",
       "      <td>0.988530</td>\n",
       "      <td>1.828047</td>\n",
       "      <td>0.948208</td>\n",
       "    </tr>\n",
       "  </tbody>\n",
       "</table>\n",
       "</div>"
      ],
      "text/plain": [
       "                  RevolvingUtilizationOfUnsecuredLines        age  \\\n",
       "SeriousDlqin2yrs                                                    \n",
       "0                                             6.168855  52.751375   \n",
       "1                                             4.367282  45.926591   \n",
       "\n",
       "                  NumberOfTime30-59DaysPastDueNotWorse   DebtRatio  \\\n",
       "SeriousDlqin2yrs                                                     \n",
       "0                                             0.280109  357.151168   \n",
       "1                                             2.388490  295.121066   \n",
       "\n",
       "                  MonthlyIncome  NumberOfOpenCreditLinesAndLoans  \\\n",
       "SeriousDlqin2yrs                                                   \n",
       "0                   6747.837774                         8.493620   \n",
       "1                   5630.826493                         7.882306   \n",
       "\n",
       "                  NumberOfTimes90DaysLate  NumberRealEstateLoansOrLines  \\\n",
       "SeriousDlqin2yrs                                                          \n",
       "0                                0.135225                      1.020368   \n",
       "1                                2.091362                      0.988530   \n",
       "\n",
       "                  NumberOfTime60-89DaysPastDueNotWorse  NumberOfDependents  \n",
       "SeriousDlqin2yrs                                                            \n",
       "0                                             0.126666            0.743417  \n",
       "1                                             1.828047            0.948208  "
      ]
     },
     "execution_count": 10,
     "metadata": {},
     "output_type": "execute_result"
    }
   ],
   "source": [
    "df.groupby(\"SeriousDlqin2yrs\").mean()"
   ]
  },
  {
   "cell_type": "code",
   "execution_count": 11,
   "metadata": {
    "collapsed": false,
    "scrolled": false
   },
   "outputs": [
    {
     "data": {
      "image/png": "[encoded data removed]",
      "text/plain": [
       "<matplotlib.figure.Figure at 0x261a9335208>"
      ]
     },
     "metadata": {},
     "output_type": "display_data"
    }
   ],
   "source": [
    "plt.figure(figsize=(10, 5))\n",
    "pd.value_counts(df.NumberOfDependents).plot(kind='bar');"
   ]
  },
  {
   "cell_type": "code",
   "execution_count": 12,
   "metadata": {
    "collapsed": false
   },
   "outputs": [
    {
     "data": {
      "text/html": [
       "<div>\n",
       "<table border=\"1\" class=\"dataframe\">\n",
       "  <thead>\n",
       "    <tr style=\"text-align: right;\">\n",
       "      <th>SeriousDlqin2yrs</th>\n",
       "      <th>0</th>\n",
       "      <th>1</th>\n",
       "    </tr>\n",
       "    <tr>\n",
       "      <th>NumberOfTimes90DaysLate</th>\n",
       "      <th></th>\n",
       "      <th></th>\n",
       "    </tr>\n",
       "  </thead>\n",
       "  <tbody>\n",
       "    <tr>\n",
       "      <th>0</th>\n",
       "      <td>135108</td>\n",
       "      <td>6554</td>\n",
       "    </tr>\n",
       "    <tr>\n",
       "      <th>1</th>\n",
       "      <td>3478</td>\n",
       "      <td>1765</td>\n",
       "    </tr>\n",
       "    <tr>\n",
       "      <th>2</th>\n",
       "      <td>779</td>\n",
       "      <td>776</td>\n",
       "    </tr>\n",
       "    <tr>\n",
       "      <th>3</th>\n",
       "      <td>282</td>\n",
       "      <td>385</td>\n",
       "    </tr>\n",
       "    <tr>\n",
       "      <th>4</th>\n",
       "      <td>96</td>\n",
       "      <td>195</td>\n",
       "    </tr>\n",
       "    <tr>\n",
       "      <th>5</th>\n",
       "      <td>48</td>\n",
       "      <td>83</td>\n",
       "    </tr>\n",
       "    <tr>\n",
       "      <th>6</th>\n",
       "      <td>32</td>\n",
       "      <td>48</td>\n",
       "    </tr>\n",
       "    <tr>\n",
       "      <th>7</th>\n",
       "      <td>7</td>\n",
       "      <td>31</td>\n",
       "    </tr>\n",
       "    <tr>\n",
       "      <th>8</th>\n",
       "      <td>6</td>\n",
       "      <td>15</td>\n",
       "    </tr>\n",
       "    <tr>\n",
       "      <th>9</th>\n",
       "      <td>5</td>\n",
       "      <td>14</td>\n",
       "    </tr>\n",
       "    <tr>\n",
       "      <th>10</th>\n",
       "      <td>3</td>\n",
       "      <td>5</td>\n",
       "    </tr>\n",
       "    <tr>\n",
       "      <th>11</th>\n",
       "      <td>2</td>\n",
       "      <td>3</td>\n",
       "    </tr>\n",
       "    <tr>\n",
       "      <th>12</th>\n",
       "      <td>1</td>\n",
       "      <td>1</td>\n",
       "    </tr>\n",
       "    <tr>\n",
       "      <th>13</th>\n",
       "      <td>2</td>\n",
       "      <td>2</td>\n",
       "    </tr>\n",
       "    <tr>\n",
       "      <th>14</th>\n",
       "      <td>1</td>\n",
       "      <td>1</td>\n",
       "    </tr>\n",
       "    <tr>\n",
       "      <th>15</th>\n",
       "      <td>2</td>\n",
       "      <td>0</td>\n",
       "    </tr>\n",
       "    <tr>\n",
       "      <th>17</th>\n",
       "      <td>0</td>\n",
       "      <td>1</td>\n",
       "    </tr>\n",
       "    <tr>\n",
       "      <th>96</th>\n",
       "      <td>1</td>\n",
       "      <td>4</td>\n",
       "    </tr>\n",
       "    <tr>\n",
       "      <th>98</th>\n",
       "      <td>121</td>\n",
       "      <td>143</td>\n",
       "    </tr>\n",
       "  </tbody>\n",
       "</table>\n",
       "</div>"
      ],
      "text/plain": [
       "SeriousDlqin2yrs              0     1\n",
       "NumberOfTimes90DaysLate              \n",
       "0                        135108  6554\n",
       "1                          3478  1765\n",
       "2                           779   776\n",
       "3                           282   385\n",
       "4                            96   195\n",
       "5                            48    83\n",
       "6                            32    48\n",
       "7                             7    31\n",
       "8                             6    15\n",
       "9                             5    14\n",
       "10                            3     5\n",
       "11                            2     3\n",
       "12                            1     1\n",
       "13                            2     2\n",
       "14                            1     1\n",
       "15                            2     0\n",
       "17                            0     1\n",
       "96                            1     4\n",
       "98                          121   143"
      ]
     },
     "execution_count": 12,
     "metadata": {},
     "output_type": "execute_result"
    }
   ],
   "source": [
    "pd.crosstab(df.NumberOfTimes90DaysLate, df.SeriousDlqin2yrs) #过去有逾期90天以上还款的次数和后续两年内出现90天以上的还款逾期的关系"
   ]
  },
  {
   "cell_type": "code",
   "execution_count": 13,
   "metadata": {
    "collapsed": false,
    "scrolled": false
   },
   "outputs": [
    {
     "data": {
      "text/html": [
       "<div>\n",
       "<table border=\"1\" class=\"dataframe\">\n",
       "  <thead>\n",
       "    <tr style=\"text-align: right;\">\n",
       "      <th>NumberOfDependents</th>\n",
       "      <th>0.0</th>\n",
       "      <th>1.0</th>\n",
       "      <th>2.0</th>\n",
       "      <th>3.0</th>\n",
       "      <th>4.0</th>\n",
       "      <th>5.0</th>\n",
       "      <th>6.0</th>\n",
       "      <th>7.0</th>\n",
       "      <th>8.0</th>\n",
       "      <th>9.0</th>\n",
       "      <th>10.0</th>\n",
       "      <th>13.0</th>\n",
       "      <th>20.0</th>\n",
       "    </tr>\n",
       "    <tr>\n",
       "      <th>age</th>\n",
       "      <th></th>\n",
       "      <th></th>\n",
       "      <th></th>\n",
       "      <th></th>\n",
       "      <th></th>\n",
       "      <th></th>\n",
       "      <th></th>\n",
       "      <th></th>\n",
       "      <th></th>\n",
       "      <th></th>\n",
       "      <th></th>\n",
       "      <th></th>\n",
       "      <th></th>\n",
       "    </tr>\n",
       "  </thead>\n",
       "  <tbody>\n",
       "    <tr>\n",
       "      <th>0</th>\n",
       "      <td>0</td>\n",
       "      <td>0</td>\n",
       "      <td>1</td>\n",
       "      <td>0</td>\n",
       "      <td>0</td>\n",
       "      <td>0</td>\n",
       "      <td>0</td>\n",
       "      <td>0</td>\n",
       "      <td>0</td>\n",
       "      <td>0</td>\n",
       "      <td>0</td>\n",
       "      <td>0</td>\n",
       "      <td>0</td>\n",
       "    </tr>\n",
       "    <tr>\n",
       "      <th>21</th>\n",
       "      <td>148</td>\n",
       "      <td>3</td>\n",
       "      <td>1</td>\n",
       "      <td>0</td>\n",
       "      <td>0</td>\n",
       "      <td>0</td>\n",
       "      <td>0</td>\n",
       "      <td>0</td>\n",
       "      <td>0</td>\n",
       "      <td>0</td>\n",
       "      <td>0</td>\n",
       "      <td>0</td>\n",
       "      <td>0</td>\n",
       "    </tr>\n",
       "    <tr>\n",
       "      <th>22</th>\n",
       "      <td>385</td>\n",
       "      <td>7</td>\n",
       "      <td>2</td>\n",
       "      <td>2</td>\n",
       "      <td>0</td>\n",
       "      <td>0</td>\n",
       "      <td>0</td>\n",
       "      <td>0</td>\n",
       "      <td>0</td>\n",
       "      <td>0</td>\n",
       "      <td>0</td>\n",
       "      <td>0</td>\n",
       "      <td>0</td>\n",
       "    </tr>\n",
       "    <tr>\n",
       "      <th>23</th>\n",
       "      <td>550</td>\n",
       "      <td>33</td>\n",
       "      <td>13</td>\n",
       "      <td>3</td>\n",
       "      <td>0</td>\n",
       "      <td>0</td>\n",
       "      <td>0</td>\n",
       "      <td>0</td>\n",
       "      <td>0</td>\n",
       "      <td>0</td>\n",
       "      <td>0</td>\n",
       "      <td>0</td>\n",
       "      <td>0</td>\n",
       "    </tr>\n",
       "    <tr>\n",
       "      <th>24</th>\n",
       "      <td>689</td>\n",
       "      <td>48</td>\n",
       "      <td>19</td>\n",
       "      <td>3</td>\n",
       "      <td>1</td>\n",
       "      <td>0</td>\n",
       "      <td>0</td>\n",
       "      <td>0</td>\n",
       "      <td>0</td>\n",
       "      <td>0</td>\n",
       "      <td>0</td>\n",
       "      <td>0</td>\n",
       "      <td>0</td>\n",
       "    </tr>\n",
       "    <tr>\n",
       "      <th>25</th>\n",
       "      <td>774</td>\n",
       "      <td>91</td>\n",
       "      <td>31</td>\n",
       "      <td>7</td>\n",
       "      <td>5</td>\n",
       "      <td>1</td>\n",
       "      <td>0</td>\n",
       "      <td>0</td>\n",
       "      <td>0</td>\n",
       "      <td>0</td>\n",
       "      <td>0</td>\n",
       "      <td>0</td>\n",
       "      <td>0</td>\n",
       "    </tr>\n",
       "    <tr>\n",
       "      <th>26</th>\n",
       "      <td>946</td>\n",
       "      <td>128</td>\n",
       "      <td>56</td>\n",
       "      <td>14</td>\n",
       "      <td>4</td>\n",
       "      <td>0</td>\n",
       "      <td>0</td>\n",
       "      <td>0</td>\n",
       "      <td>0</td>\n",
       "      <td>0</td>\n",
       "      <td>0</td>\n",
       "      <td>0</td>\n",
       "      <td>0</td>\n",
       "    </tr>\n",
       "    <tr>\n",
       "      <th>27</th>\n",
       "      <td>1001</td>\n",
       "      <td>192</td>\n",
       "      <td>53</td>\n",
       "      <td>32</td>\n",
       "      <td>4</td>\n",
       "      <td>0</td>\n",
       "      <td>0</td>\n",
       "      <td>0</td>\n",
       "      <td>0</td>\n",
       "      <td>0</td>\n",
       "      <td>0</td>\n",
       "      <td>0</td>\n",
       "      <td>0</td>\n",
       "    </tr>\n",
       "    <tr>\n",
       "      <th>28</th>\n",
       "      <td>1142</td>\n",
       "      <td>210</td>\n",
       "      <td>114</td>\n",
       "      <td>45</td>\n",
       "      <td>8</td>\n",
       "      <td>1</td>\n",
       "      <td>0</td>\n",
       "      <td>0</td>\n",
       "      <td>0</td>\n",
       "      <td>0</td>\n",
       "      <td>0</td>\n",
       "      <td>0</td>\n",
       "      <td>0</td>\n",
       "    </tr>\n",
       "    <tr>\n",
       "      <th>29</th>\n",
       "      <td>1195</td>\n",
       "      <td>254</td>\n",
       "      <td>145</td>\n",
       "      <td>53</td>\n",
       "      <td>14</td>\n",
       "      <td>1</td>\n",
       "      <td>1</td>\n",
       "      <td>0</td>\n",
       "      <td>0</td>\n",
       "      <td>0</td>\n",
       "      <td>0</td>\n",
       "      <td>0</td>\n",
       "      <td>0</td>\n",
       "    </tr>\n",
       "    <tr>\n",
       "      <th>30</th>\n",
       "      <td>1337</td>\n",
       "      <td>288</td>\n",
       "      <td>178</td>\n",
       "      <td>72</td>\n",
       "      <td>14</td>\n",
       "      <td>7</td>\n",
       "      <td>1</td>\n",
       "      <td>1</td>\n",
       "      <td>0</td>\n",
       "      <td>0</td>\n",
       "      <td>0</td>\n",
       "      <td>0</td>\n",
       "      <td>0</td>\n",
       "    </tr>\n",
       "    <tr>\n",
       "      <th>31</th>\n",
       "      <td>1314</td>\n",
       "      <td>344</td>\n",
       "      <td>245</td>\n",
       "      <td>91</td>\n",
       "      <td>18</td>\n",
       "      <td>4</td>\n",
       "      <td>0</td>\n",
       "      <td>0</td>\n",
       "      <td>0</td>\n",
       "      <td>0</td>\n",
       "      <td>0</td>\n",
       "      <td>0</td>\n",
       "      <td>0</td>\n",
       "    </tr>\n",
       "    <tr>\n",
       "      <th>32</th>\n",
       "      <td>1207</td>\n",
       "      <td>380</td>\n",
       "      <td>275</td>\n",
       "      <td>106</td>\n",
       "      <td>53</td>\n",
       "      <td>3</td>\n",
       "      <td>0</td>\n",
       "      <td>0</td>\n",
       "      <td>0</td>\n",
       "      <td>0</td>\n",
       "      <td>0</td>\n",
       "      <td>0</td>\n",
       "      <td>0</td>\n",
       "    </tr>\n",
       "    <tr>\n",
       "      <th>33</th>\n",
       "      <td>1254</td>\n",
       "      <td>449</td>\n",
       "      <td>315</td>\n",
       "      <td>140</td>\n",
       "      <td>50</td>\n",
       "      <td>10</td>\n",
       "      <td>2</td>\n",
       "      <td>0</td>\n",
       "      <td>0</td>\n",
       "      <td>0</td>\n",
       "      <td>0</td>\n",
       "      <td>0</td>\n",
       "      <td>0</td>\n",
       "    </tr>\n",
       "    <tr>\n",
       "      <th>34</th>\n",
       "      <td>1152</td>\n",
       "      <td>389</td>\n",
       "      <td>360</td>\n",
       "      <td>145</td>\n",
       "      <td>65</td>\n",
       "      <td>11</td>\n",
       "      <td>1</td>\n",
       "      <td>0</td>\n",
       "      <td>0</td>\n",
       "      <td>0</td>\n",
       "      <td>0</td>\n",
       "      <td>0</td>\n",
       "      <td>0</td>\n",
       "    </tr>\n",
       "    <tr>\n",
       "      <th>35</th>\n",
       "      <td>1136</td>\n",
       "      <td>418</td>\n",
       "      <td>398</td>\n",
       "      <td>184</td>\n",
       "      <td>58</td>\n",
       "      <td>15</td>\n",
       "      <td>3</td>\n",
       "      <td>1</td>\n",
       "      <td>1</td>\n",
       "      <td>0</td>\n",
       "      <td>0</td>\n",
       "      <td>0</td>\n",
       "      <td>0</td>\n",
       "    </tr>\n",
       "    <tr>\n",
       "      <th>36</th>\n",
       "      <td>1139</td>\n",
       "      <td>445</td>\n",
       "      <td>486</td>\n",
       "      <td>202</td>\n",
       "      <td>50</td>\n",
       "      <td>15</td>\n",
       "      <td>5</td>\n",
       "      <td>1</td>\n",
       "      <td>0</td>\n",
       "      <td>0</td>\n",
       "      <td>0</td>\n",
       "      <td>0</td>\n",
       "      <td>0</td>\n",
       "    </tr>\n",
       "    <tr>\n",
       "      <th>37</th>\n",
       "      <td>1088</td>\n",
       "      <td>488</td>\n",
       "      <td>541</td>\n",
       "      <td>274</td>\n",
       "      <td>77</td>\n",
       "      <td>18</td>\n",
       "      <td>2</td>\n",
       "      <td>0</td>\n",
       "      <td>0</td>\n",
       "      <td>1</td>\n",
       "      <td>0</td>\n",
       "      <td>0</td>\n",
       "      <td>0</td>\n",
       "    </tr>\n",
       "    <tr>\n",
       "      <th>38</th>\n",
       "      <td>1113</td>\n",
       "      <td>484</td>\n",
       "      <td>604</td>\n",
       "      <td>283</td>\n",
       "      <td>84</td>\n",
       "      <td>26</td>\n",
       "      <td>3</td>\n",
       "      <td>0</td>\n",
       "      <td>1</td>\n",
       "      <td>1</td>\n",
       "      <td>0</td>\n",
       "      <td>0</td>\n",
       "      <td>0</td>\n",
       "    </tr>\n",
       "    <tr>\n",
       "      <th>39</th>\n",
       "      <td>1202</td>\n",
       "      <td>544</td>\n",
       "      <td>691</td>\n",
       "      <td>383</td>\n",
       "      <td>111</td>\n",
       "      <td>27</td>\n",
       "      <td>4</td>\n",
       "      <td>1</td>\n",
       "      <td>1</td>\n",
       "      <td>0</td>\n",
       "      <td>1</td>\n",
       "      <td>0</td>\n",
       "      <td>0</td>\n",
       "    </tr>\n",
       "    <tr>\n",
       "      <th>40</th>\n",
       "      <td>1185</td>\n",
       "      <td>570</td>\n",
       "      <td>758</td>\n",
       "      <td>391</td>\n",
       "      <td>104</td>\n",
       "      <td>43</td>\n",
       "      <td>5</td>\n",
       "      <td>1</td>\n",
       "      <td>1</td>\n",
       "      <td>0</td>\n",
       "      <td>0</td>\n",
       "      <td>0</td>\n",
       "      <td>1</td>\n",
       "    </tr>\n",
       "    <tr>\n",
       "      <th>41</th>\n",
       "      <td>1193</td>\n",
       "      <td>517</td>\n",
       "      <td>791</td>\n",
       "      <td>445</td>\n",
       "      <td>113</td>\n",
       "      <td>30</td>\n",
       "      <td>4</td>\n",
       "      <td>0</td>\n",
       "      <td>1</td>\n",
       "      <td>0</td>\n",
       "      <td>0</td>\n",
       "      <td>0</td>\n",
       "      <td>0</td>\n",
       "    </tr>\n",
       "    <tr>\n",
       "      <th>42</th>\n",
       "      <td>1159</td>\n",
       "      <td>526</td>\n",
       "      <td>755</td>\n",
       "      <td>427</td>\n",
       "      <td>142</td>\n",
       "      <td>38</td>\n",
       "      <td>7</td>\n",
       "      <td>2</td>\n",
       "      <td>0</td>\n",
       "      <td>0</td>\n",
       "      <td>0</td>\n",
       "      <td>0</td>\n",
       "      <td>0</td>\n",
       "    </tr>\n",
       "    <tr>\n",
       "      <th>43</th>\n",
       "      <td>1205</td>\n",
       "      <td>556</td>\n",
       "      <td>789</td>\n",
       "      <td>431</td>\n",
       "      <td>156</td>\n",
       "      <td>33</td>\n",
       "      <td>9</td>\n",
       "      <td>4</td>\n",
       "      <td>1</td>\n",
       "      <td>0</td>\n",
       "      <td>1</td>\n",
       "      <td>0</td>\n",
       "      <td>0</td>\n",
       "    </tr>\n",
       "    <tr>\n",
       "      <th>44</th>\n",
       "      <td>1209</td>\n",
       "      <td>574</td>\n",
       "      <td>854</td>\n",
       "      <td>461</td>\n",
       "      <td>133</td>\n",
       "      <td>32</td>\n",
       "      <td>7</td>\n",
       "      <td>2</td>\n",
       "      <td>1</td>\n",
       "      <td>0</td>\n",
       "      <td>1</td>\n",
       "      <td>0</td>\n",
       "      <td>0</td>\n",
       "    </tr>\n",
       "    <tr>\n",
       "      <th>45</th>\n",
       "      <td>1363</td>\n",
       "      <td>608</td>\n",
       "      <td>828</td>\n",
       "      <td>457</td>\n",
       "      <td>165</td>\n",
       "      <td>35</td>\n",
       "      <td>11</td>\n",
       "      <td>3</td>\n",
       "      <td>0</td>\n",
       "      <td>0</td>\n",
       "      <td>0</td>\n",
       "      <td>0</td>\n",
       "      <td>0</td>\n",
       "    </tr>\n",
       "    <tr>\n",
       "      <th>46</th>\n",
       "      <td>1373</td>\n",
       "      <td>695</td>\n",
       "      <td>876</td>\n",
       "      <td>498</td>\n",
       "      <td>165</td>\n",
       "      <td>35</td>\n",
       "      <td>8</td>\n",
       "      <td>8</td>\n",
       "      <td>2</td>\n",
       "      <td>0</td>\n",
       "      <td>0</td>\n",
       "      <td>0</td>\n",
       "      <td>0</td>\n",
       "    </tr>\n",
       "    <tr>\n",
       "      <th>47</th>\n",
       "      <td>1439</td>\n",
       "      <td>672</td>\n",
       "      <td>863</td>\n",
       "      <td>491</td>\n",
       "      <td>148</td>\n",
       "      <td>46</td>\n",
       "      <td>9</td>\n",
       "      <td>0</td>\n",
       "      <td>2</td>\n",
       "      <td>0</td>\n",
       "      <td>1</td>\n",
       "      <td>0</td>\n",
       "      <td>0</td>\n",
       "    </tr>\n",
       "    <tr>\n",
       "      <th>48</th>\n",
       "      <td>1509</td>\n",
       "      <td>771</td>\n",
       "      <td>791</td>\n",
       "      <td>459</td>\n",
       "      <td>157</td>\n",
       "      <td>37</td>\n",
       "      <td>11</td>\n",
       "      <td>3</td>\n",
       "      <td>1</td>\n",
       "      <td>2</td>\n",
       "      <td>0</td>\n",
       "      <td>0</td>\n",
       "      <td>0</td>\n",
       "    </tr>\n",
       "    <tr>\n",
       "      <th>49</th>\n",
       "      <td>1632</td>\n",
       "      <td>717</td>\n",
       "      <td>790</td>\n",
       "      <td>439</td>\n",
       "      <td>143</td>\n",
       "      <td>46</td>\n",
       "      <td>8</td>\n",
       "      <td>6</td>\n",
       "      <td>1</td>\n",
       "      <td>0</td>\n",
       "      <td>0</td>\n",
       "      <td>0</td>\n",
       "      <td>0</td>\n",
       "    </tr>\n",
       "    <tr>\n",
       "      <th>...</th>\n",
       "      <td>...</td>\n",
       "      <td>...</td>\n",
       "      <td>...</td>\n",
       "      <td>...</td>\n",
       "      <td>...</td>\n",
       "      <td>...</td>\n",
       "      <td>...</td>\n",
       "      <td>...</td>\n",
       "      <td>...</td>\n",
       "      <td>...</td>\n",
       "      <td>...</td>\n",
       "      <td>...</td>\n",
       "      <td>...</td>\n",
       "    </tr>\n",
       "    <tr>\n",
       "      <th>74</th>\n",
       "      <td>1164</td>\n",
       "      <td>184</td>\n",
       "      <td>23</td>\n",
       "      <td>4</td>\n",
       "      <td>2</td>\n",
       "      <td>0</td>\n",
       "      <td>0</td>\n",
       "      <td>1</td>\n",
       "      <td>1</td>\n",
       "      <td>0</td>\n",
       "      <td>0</td>\n",
       "      <td>0</td>\n",
       "      <td>0</td>\n",
       "    </tr>\n",
       "    <tr>\n",
       "      <th>75</th>\n",
       "      <td>981</td>\n",
       "      <td>167</td>\n",
       "      <td>17</td>\n",
       "      <td>3</td>\n",
       "      <td>0</td>\n",
       "      <td>0</td>\n",
       "      <td>0</td>\n",
       "      <td>0</td>\n",
       "      <td>0</td>\n",
       "      <td>0</td>\n",
       "      <td>0</td>\n",
       "      <td>0</td>\n",
       "      <td>0</td>\n",
       "    </tr>\n",
       "    <tr>\n",
       "      <th>76</th>\n",
       "      <td>933</td>\n",
       "      <td>165</td>\n",
       "      <td>16</td>\n",
       "      <td>0</td>\n",
       "      <td>0</td>\n",
       "      <td>0</td>\n",
       "      <td>0</td>\n",
       "      <td>0</td>\n",
       "      <td>0</td>\n",
       "      <td>0</td>\n",
       "      <td>0</td>\n",
       "      <td>0</td>\n",
       "      <td>0</td>\n",
       "    </tr>\n",
       "    <tr>\n",
       "      <th>77</th>\n",
       "      <td>890</td>\n",
       "      <td>129</td>\n",
       "      <td>11</td>\n",
       "      <td>2</td>\n",
       "      <td>0</td>\n",
       "      <td>0</td>\n",
       "      <td>0</td>\n",
       "      <td>0</td>\n",
       "      <td>0</td>\n",
       "      <td>0</td>\n",
       "      <td>0</td>\n",
       "      <td>0</td>\n",
       "      <td>0</td>\n",
       "    </tr>\n",
       "    <tr>\n",
       "      <th>78</th>\n",
       "      <td>837</td>\n",
       "      <td>137</td>\n",
       "      <td>13</td>\n",
       "      <td>2</td>\n",
       "      <td>1</td>\n",
       "      <td>0</td>\n",
       "      <td>0</td>\n",
       "      <td>0</td>\n",
       "      <td>0</td>\n",
       "      <td>0</td>\n",
       "      <td>0</td>\n",
       "      <td>0</td>\n",
       "      <td>0</td>\n",
       "    </tr>\n",
       "    <tr>\n",
       "      <th>79</th>\n",
       "      <td>770</td>\n",
       "      <td>131</td>\n",
       "      <td>10</td>\n",
       "      <td>4</td>\n",
       "      <td>0</td>\n",
       "      <td>0</td>\n",
       "      <td>0</td>\n",
       "      <td>0</td>\n",
       "      <td>0</td>\n",
       "      <td>0</td>\n",
       "      <td>0</td>\n",
       "      <td>0</td>\n",
       "      <td>0</td>\n",
       "    </tr>\n",
       "    <tr>\n",
       "      <th>80</th>\n",
       "      <td>704</td>\n",
       "      <td>109</td>\n",
       "      <td>7</td>\n",
       "      <td>2</td>\n",
       "      <td>0</td>\n",
       "      <td>0</td>\n",
       "      <td>0</td>\n",
       "      <td>0</td>\n",
       "      <td>0</td>\n",
       "      <td>0</td>\n",
       "      <td>0</td>\n",
       "      <td>0</td>\n",
       "      <td>0</td>\n",
       "    </tr>\n",
       "    <tr>\n",
       "      <th>81</th>\n",
       "      <td>629</td>\n",
       "      <td>76</td>\n",
       "      <td>6</td>\n",
       "      <td>1</td>\n",
       "      <td>0</td>\n",
       "      <td>0</td>\n",
       "      <td>0</td>\n",
       "      <td>0</td>\n",
       "      <td>0</td>\n",
       "      <td>0</td>\n",
       "      <td>0</td>\n",
       "      <td>0</td>\n",
       "      <td>0</td>\n",
       "    </tr>\n",
       "    <tr>\n",
       "      <th>82</th>\n",
       "      <td>527</td>\n",
       "      <td>69</td>\n",
       "      <td>1</td>\n",
       "      <td>0</td>\n",
       "      <td>1</td>\n",
       "      <td>0</td>\n",
       "      <td>0</td>\n",
       "      <td>0</td>\n",
       "      <td>0</td>\n",
       "      <td>0</td>\n",
       "      <td>0</td>\n",
       "      <td>0</td>\n",
       "      <td>0</td>\n",
       "    </tr>\n",
       "    <tr>\n",
       "      <th>83</th>\n",
       "      <td>417</td>\n",
       "      <td>44</td>\n",
       "      <td>2</td>\n",
       "      <td>0</td>\n",
       "      <td>0</td>\n",
       "      <td>0</td>\n",
       "      <td>0</td>\n",
       "      <td>0</td>\n",
       "      <td>0</td>\n",
       "      <td>0</td>\n",
       "      <td>0</td>\n",
       "      <td>0</td>\n",
       "      <td>0</td>\n",
       "    </tr>\n",
       "    <tr>\n",
       "      <th>84</th>\n",
       "      <td>406</td>\n",
       "      <td>32</td>\n",
       "      <td>1</td>\n",
       "      <td>0</td>\n",
       "      <td>0</td>\n",
       "      <td>0</td>\n",
       "      <td>0</td>\n",
       "      <td>0</td>\n",
       "      <td>0</td>\n",
       "      <td>0</td>\n",
       "      <td>0</td>\n",
       "      <td>0</td>\n",
       "      <td>0</td>\n",
       "    </tr>\n",
       "    <tr>\n",
       "      <th>85</th>\n",
       "      <td>403</td>\n",
       "      <td>30</td>\n",
       "      <td>2</td>\n",
       "      <td>0</td>\n",
       "      <td>0</td>\n",
       "      <td>0</td>\n",
       "      <td>0</td>\n",
       "      <td>0</td>\n",
       "      <td>0</td>\n",
       "      <td>0</td>\n",
       "      <td>0</td>\n",
       "      <td>0</td>\n",
       "      <td>0</td>\n",
       "    </tr>\n",
       "    <tr>\n",
       "      <th>86</th>\n",
       "      <td>318</td>\n",
       "      <td>46</td>\n",
       "      <td>2</td>\n",
       "      <td>0</td>\n",
       "      <td>1</td>\n",
       "      <td>0</td>\n",
       "      <td>0</td>\n",
       "      <td>0</td>\n",
       "      <td>0</td>\n",
       "      <td>0</td>\n",
       "      <td>0</td>\n",
       "      <td>0</td>\n",
       "      <td>0</td>\n",
       "    </tr>\n",
       "    <tr>\n",
       "      <th>87</th>\n",
       "      <td>279</td>\n",
       "      <td>29</td>\n",
       "      <td>1</td>\n",
       "      <td>1</td>\n",
       "      <td>0</td>\n",
       "      <td>0</td>\n",
       "      <td>0</td>\n",
       "      <td>0</td>\n",
       "      <td>0</td>\n",
       "      <td>0</td>\n",
       "      <td>0</td>\n",
       "      <td>0</td>\n",
       "      <td>0</td>\n",
       "    </tr>\n",
       "    <tr>\n",
       "      <th>88</th>\n",
       "      <td>244</td>\n",
       "      <td>20</td>\n",
       "      <td>1</td>\n",
       "      <td>0</td>\n",
       "      <td>0</td>\n",
       "      <td>0</td>\n",
       "      <td>0</td>\n",
       "      <td>0</td>\n",
       "      <td>0</td>\n",
       "      <td>0</td>\n",
       "      <td>0</td>\n",
       "      <td>0</td>\n",
       "      <td>0</td>\n",
       "    </tr>\n",
       "    <tr>\n",
       "      <th>89</th>\n",
       "      <td>230</td>\n",
       "      <td>11</td>\n",
       "      <td>1</td>\n",
       "      <td>0</td>\n",
       "      <td>0</td>\n",
       "      <td>0</td>\n",
       "      <td>0</td>\n",
       "      <td>0</td>\n",
       "      <td>0</td>\n",
       "      <td>0</td>\n",
       "      <td>0</td>\n",
       "      <td>0</td>\n",
       "      <td>0</td>\n",
       "    </tr>\n",
       "    <tr>\n",
       "      <th>90</th>\n",
       "      <td>148</td>\n",
       "      <td>19</td>\n",
       "      <td>0</td>\n",
       "      <td>0</td>\n",
       "      <td>0</td>\n",
       "      <td>0</td>\n",
       "      <td>0</td>\n",
       "      <td>0</td>\n",
       "      <td>0</td>\n",
       "      <td>0</td>\n",
       "      <td>0</td>\n",
       "      <td>0</td>\n",
       "      <td>0</td>\n",
       "    </tr>\n",
       "    <tr>\n",
       "      <th>91</th>\n",
       "      <td>119</td>\n",
       "      <td>10</td>\n",
       "      <td>0</td>\n",
       "      <td>0</td>\n",
       "      <td>0</td>\n",
       "      <td>0</td>\n",
       "      <td>0</td>\n",
       "      <td>0</td>\n",
       "      <td>0</td>\n",
       "      <td>0</td>\n",
       "      <td>0</td>\n",
       "      <td>0</td>\n",
       "      <td>0</td>\n",
       "    </tr>\n",
       "    <tr>\n",
       "      <th>92</th>\n",
       "      <td>75</td>\n",
       "      <td>7</td>\n",
       "      <td>0</td>\n",
       "      <td>0</td>\n",
       "      <td>0</td>\n",
       "      <td>0</td>\n",
       "      <td>0</td>\n",
       "      <td>0</td>\n",
       "      <td>0</td>\n",
       "      <td>0</td>\n",
       "      <td>0</td>\n",
       "      <td>0</td>\n",
       "      <td>0</td>\n",
       "    </tr>\n",
       "    <tr>\n",
       "      <th>93</th>\n",
       "      <td>67</td>\n",
       "      <td>3</td>\n",
       "      <td>0</td>\n",
       "      <td>0</td>\n",
       "      <td>0</td>\n",
       "      <td>0</td>\n",
       "      <td>0</td>\n",
       "      <td>0</td>\n",
       "      <td>0</td>\n",
       "      <td>0</td>\n",
       "      <td>0</td>\n",
       "      <td>0</td>\n",
       "      <td>0</td>\n",
       "    </tr>\n",
       "    <tr>\n",
       "      <th>94</th>\n",
       "      <td>33</td>\n",
       "      <td>2</td>\n",
       "      <td>0</td>\n",
       "      <td>0</td>\n",
       "      <td>0</td>\n",
       "      <td>0</td>\n",
       "      <td>0</td>\n",
       "      <td>0</td>\n",
       "      <td>0</td>\n",
       "      <td>0</td>\n",
       "      <td>0</td>\n",
       "      <td>0</td>\n",
       "      <td>0</td>\n",
       "    </tr>\n",
       "    <tr>\n",
       "      <th>95</th>\n",
       "      <td>33</td>\n",
       "      <td>4</td>\n",
       "      <td>0</td>\n",
       "      <td>0</td>\n",
       "      <td>0</td>\n",
       "      <td>0</td>\n",
       "      <td>0</td>\n",
       "      <td>0</td>\n",
       "      <td>0</td>\n",
       "      <td>0</td>\n",
       "      <td>0</td>\n",
       "      <td>0</td>\n",
       "      <td>0</td>\n",
       "    </tr>\n",
       "    <tr>\n",
       "      <th>96</th>\n",
       "      <td>12</td>\n",
       "      <td>2</td>\n",
       "      <td>0</td>\n",
       "      <td>0</td>\n",
       "      <td>0</td>\n",
       "      <td>0</td>\n",
       "      <td>0</td>\n",
       "      <td>0</td>\n",
       "      <td>0</td>\n",
       "      <td>0</td>\n",
       "      <td>0</td>\n",
       "      <td>0</td>\n",
       "      <td>0</td>\n",
       "    </tr>\n",
       "    <tr>\n",
       "      <th>97</th>\n",
       "      <td>11</td>\n",
       "      <td>1</td>\n",
       "      <td>0</td>\n",
       "      <td>0</td>\n",
       "      <td>0</td>\n",
       "      <td>0</td>\n",
       "      <td>0</td>\n",
       "      <td>0</td>\n",
       "      <td>0</td>\n",
       "      <td>0</td>\n",
       "      <td>0</td>\n",
       "      <td>0</td>\n",
       "      <td>0</td>\n",
       "    </tr>\n",
       "    <tr>\n",
       "      <th>98</th>\n",
       "      <td>5</td>\n",
       "      <td>0</td>\n",
       "      <td>0</td>\n",
       "      <td>0</td>\n",
       "      <td>0</td>\n",
       "      <td>0</td>\n",
       "      <td>0</td>\n",
       "      <td>0</td>\n",
       "      <td>0</td>\n",
       "      <td>0</td>\n",
       "      <td>0</td>\n",
       "      <td>0</td>\n",
       "      <td>0</td>\n",
       "    </tr>\n",
       "    <tr>\n",
       "      <th>99</th>\n",
       "      <td>5</td>\n",
       "      <td>0</td>\n",
       "      <td>0</td>\n",
       "      <td>0</td>\n",
       "      <td>0</td>\n",
       "      <td>0</td>\n",
       "      <td>0</td>\n",
       "      <td>0</td>\n",
       "      <td>0</td>\n",
       "      <td>0</td>\n",
       "      <td>0</td>\n",
       "      <td>0</td>\n",
       "      <td>0</td>\n",
       "    </tr>\n",
       "    <tr>\n",
       "      <th>101</th>\n",
       "      <td>3</td>\n",
       "      <td>0</td>\n",
       "      <td>0</td>\n",
       "      <td>0</td>\n",
       "      <td>0</td>\n",
       "      <td>0</td>\n",
       "      <td>0</td>\n",
       "      <td>0</td>\n",
       "      <td>0</td>\n",
       "      <td>0</td>\n",
       "      <td>0</td>\n",
       "      <td>0</td>\n",
       "      <td>0</td>\n",
       "    </tr>\n",
       "    <tr>\n",
       "      <th>102</th>\n",
       "      <td>2</td>\n",
       "      <td>1</td>\n",
       "      <td>0</td>\n",
       "      <td>0</td>\n",
       "      <td>0</td>\n",
       "      <td>0</td>\n",
       "      <td>0</td>\n",
       "      <td>0</td>\n",
       "      <td>0</td>\n",
       "      <td>0</td>\n",
       "      <td>0</td>\n",
       "      <td>0</td>\n",
       "      <td>0</td>\n",
       "    </tr>\n",
       "    <tr>\n",
       "      <th>103</th>\n",
       "      <td>3</td>\n",
       "      <td>0</td>\n",
       "      <td>0</td>\n",
       "      <td>0</td>\n",
       "      <td>0</td>\n",
       "      <td>0</td>\n",
       "      <td>0</td>\n",
       "      <td>0</td>\n",
       "      <td>0</td>\n",
       "      <td>0</td>\n",
       "      <td>0</td>\n",
       "      <td>0</td>\n",
       "      <td>0</td>\n",
       "    </tr>\n",
       "    <tr>\n",
       "      <th>107</th>\n",
       "      <td>1</td>\n",
       "      <td>0</td>\n",
       "      <td>0</td>\n",
       "      <td>0</td>\n",
       "      <td>0</td>\n",
       "      <td>0</td>\n",
       "      <td>0</td>\n",
       "      <td>0</td>\n",
       "      <td>0</td>\n",
       "      <td>0</td>\n",
       "      <td>0</td>\n",
       "      <td>0</td>\n",
       "      <td>0</td>\n",
       "    </tr>\n",
       "  </tbody>\n",
       "</table>\n",
       "<p>84 rows × 13 columns</p>\n",
       "</div>"
      ],
      "text/plain": [
       "NumberOfDependents  0.0   1.0   2.0   3.0   4.0   5.0   6.0   7.0   8.0   \\\n",
       "age                                                                        \n",
       "0                      0     0     1     0     0     0     0     0     0   \n",
       "21                   148     3     1     0     0     0     0     0     0   \n",
       "22                   385     7     2     2     0     0     0     0     0   \n",
       "23                   550    33    13     3     0     0     0     0     0   \n",
       "24                   689    48    19     3     1     0     0     0     0   \n",
       "25                   774    91    31     7     5     1     0     0     0   \n",
       "26                   946   128    56    14     4     0     0     0     0   \n",
       "27                  1001   192    53    32     4     0     0     0     0   \n",
       "28                  1142   210   114    45     8     1     0     0     0   \n",
       "29                  1195   254   145    53    14     1     1     0     0   \n",
       "30                  1337   288   178    72    14     7     1     1     0   \n",
       "31                  1314   344   245    91    18     4     0     0     0   \n",
       "32                  1207   380   275   106    53     3     0     0     0   \n",
       "33                  1254   449   315   140    50    10     2     0     0   \n",
       "34                  1152   389   360   145    65    11     1     0     0   \n",
       "35                  1136   418   398   184    58    15     3     1     1   \n",
       "36                  1139   445   486   202    50    15     5     1     0   \n",
       "37                  1088   488   541   274    77    18     2     0     0   \n",
       "38                  1113   484   604   283    84    26     3     0     1   \n",
       "39                  1202   544   691   383   111    27     4     1     1   \n",
       "40                  1185   570   758   391   104    43     5     1     1   \n",
       "41                  1193   517   791   445   113    30     4     0     1   \n",
       "42                  1159   526   755   427   142    38     7     2     0   \n",
       "43                  1205   556   789   431   156    33     9     4     1   \n",
       "44                  1209   574   854   461   133    32     7     2     1   \n",
       "45                  1363   608   828   457   165    35    11     3     0   \n",
       "46                  1373   695   876   498   165    35     8     8     2   \n",
       "47                  1439   672   863   491   148    46     9     0     2   \n",
       "48                  1509   771   791   459   157    37    11     3     1   \n",
       "49                  1632   717   790   439   143    46     8     6     1   \n",
       "..                   ...   ...   ...   ...   ...   ...   ...   ...   ...   \n",
       "74                  1164   184    23     4     2     0     0     1     1   \n",
       "75                   981   167    17     3     0     0     0     0     0   \n",
       "76                   933   165    16     0     0     0     0     0     0   \n",
       "77                   890   129    11     2     0     0     0     0     0   \n",
       "78                   837   137    13     2     1     0     0     0     0   \n",
       "79                   770   131    10     4     0     0     0     0     0   \n",
       "80                   704   109     7     2     0     0     0     0     0   \n",
       "81                   629    76     6     1     0     0     0     0     0   \n",
       "82                   527    69     1     0     1     0     0     0     0   \n",
       "83                   417    44     2     0     0     0     0     0     0   \n",
       "84                   406    32     1     0     0     0     0     0     0   \n",
       "85                   403    30     2     0     0     0     0     0     0   \n",
       "86                   318    46     2     0     1     0     0     0     0   \n",
       "87                   279    29     1     1     0     0     0     0     0   \n",
       "88                   244    20     1     0     0     0     0     0     0   \n",
       "89                   230    11     1     0     0     0     0     0     0   \n",
       "90                   148    19     0     0     0     0     0     0     0   \n",
       "91                   119    10     0     0     0     0     0     0     0   \n",
       "92                    75     7     0     0     0     0     0     0     0   \n",
       "93                    67     3     0     0     0     0     0     0     0   \n",
       "94                    33     2     0     0     0     0     0     0     0   \n",
       "95                    33     4     0     0     0     0     0     0     0   \n",
       "96                    12     2     0     0     0     0     0     0     0   \n",
       "97                    11     1     0     0     0     0     0     0     0   \n",
       "98                     5     0     0     0     0     0     0     0     0   \n",
       "99                     5     0     0     0     0     0     0     0     0   \n",
       "101                    3     0     0     0     0     0     0     0     0   \n",
       "102                    2     1     0     0     0     0     0     0     0   \n",
       "103                    3     0     0     0     0     0     0     0     0   \n",
       "107                    1     0     0     0     0     0     0     0     0   \n",
       "\n",
       "NumberOfDependents  9.0   10.0  13.0  20.0  \n",
       "age                                         \n",
       "0                      0     0     0     0  \n",
       "21                     0     0     0     0  \n",
       "22                     0     0     0     0  \n",
       "23                     0     0     0     0  \n",
       "24                     0     0     0     0  \n",
       "25                     0     0     0     0  \n",
       "26                     0     0     0     0  \n",
       "27                     0     0     0     0  \n",
       "28                     0     0     0     0  \n",
       "29                     0     0     0     0  \n",
       "30                     0     0     0     0  \n",
       "31                     0     0     0     0  \n",
       "32                     0     0     0     0  \n",
       "33                     0     0     0     0  \n",
       "34                     0     0     0     0  \n",
       "35                     0     0     0     0  \n",
       "36                     0     0     0     0  \n",
       "37                     1     0     0     0  \n",
       "38                     1     0     0     0  \n",
       "39                     0     1     0     0  \n",
       "40                     0     0     0     1  \n",
       "41                     0     0     0     0  \n",
       "42                     0     0     0     0  \n",
       "43                     0     1     0     0  \n",
       "44                     0     1     0     0  \n",
       "45                     0     0     0     0  \n",
       "46                     0     0     0     0  \n",
       "47                     0     1     0     0  \n",
       "48                     2     0     0     0  \n",
       "49                     0     0     0     0  \n",
       "..                   ...   ...   ...   ...  \n",
       "74                     0     0     0     0  \n",
       "75                     0     0     0     0  \n",
       "76                     0     0     0     0  \n",
       "77                     0     0     0     0  \n",
       "78                     0     0     0     0  \n",
       "79                     0     0     0     0  \n",
       "80                     0     0     0     0  \n",
       "81                     0     0     0     0  \n",
       "82                     0     0     0     0  \n",
       "83                     0     0     0     0  \n",
       "84                     0     0     0     0  \n",
       "85                     0     0     0     0  \n",
       "86                     0     0     0     0  \n",
       "87                     0     0     0     0  \n",
       "88                     0     0     0     0  \n",
       "89                     0     0     0     0  \n",
       "90                     0     0     0     0  \n",
       "91                     0     0     0     0  \n",
       "92                     0     0     0     0  \n",
       "93                     0     0     0     0  \n",
       "94                     0     0     0     0  \n",
       "95                     0     0     0     0  \n",
       "96                     0     0     0     0  \n",
       "97                     0     0     0     0  \n",
       "98                     0     0     0     0  \n",
       "99                     0     0     0     0  \n",
       "101                    0     0     0     0  \n",
       "102                    0     0     0     0  \n",
       "103                    0     0     0     0  \n",
       "107                    0     0     0     0  \n",
       "\n",
       "[84 rows x 13 columns]"
      ]
     },
     "execution_count": 13,
     "metadata": {},
     "output_type": "execute_result"
    }
   ],
   "source": [
    "pd.crosstab(df.age, df.NumberOfDependents) #年龄和需要抚养人数的关系"
   ]
  },
  {
   "cell_type": "markdown",
   "metadata": {},
   "source": [
    "#### 数据清理"
   ]
  },
  {
   "cell_type": "code",
   "execution_count": 14,
   "metadata": {
    "collapsed": false
   },
   "outputs": [
    {
     "data": {
      "text/plain": [
       "Index(['SeriousDlqin2yrs', 'RevolvingUtilizationOfUnsecuredLines', 'age',\n",
       "       'NumberOfTime30-59DaysPastDueNotWorse', 'DebtRatio', 'MonthlyIncome',\n",
       "       'NumberOfOpenCreditLinesAndLoans', 'NumberOfTimes90DaysLate',\n",
       "       'NumberRealEstateLoansOrLines', 'NumberOfTime60-89DaysPastDueNotWorse',\n",
       "       'NumberOfDependents'],\n",
       "      dtype='object')"
      ]
     },
     "execution_count": 14,
     "metadata": {},
     "output_type": "execute_result"
    }
   ],
   "source": [
    "df.columns"
   ]
  },
  {
   "cell_type": "code",
   "execution_count": 15,
   "metadata": {
    "collapsed": true
   },
   "outputs": [],
   "source": [
    "from sklearn.neighbors import KNeighborsRegressor\n",
    "income_imputer = KNeighborsRegressor(n_neighbors=1) #n_neighbors即KNN中的K值\n",
    "\n",
    "# 把数据分为两部分，有缺失的和无缺失的，用无缺失的数据建立模型来判断缺失数据的可能取值\n",
    "train_w_monthly_income = df[df.MonthlyIncome.isnull()==False]\n",
    "train_w_null_monthly_income = df[df.MonthlyIncome.isnull()==True]"
   ]
  },
  {
   "cell_type": "code",
   "execution_count": 80,
   "metadata": {
    "collapsed": false,
    "scrolled": true
   },
   "outputs": [
    {
     "data": {
      "text/plain": [
       "KNeighborsRegressor(algorithm='auto', leaf_size=30, metric='minkowski',\n",
       "          metric_params=None, n_jobs=1, n_neighbors=1, p=2,\n",
       "          weights='uniform')"
      ]
     },
     "execution_count": 80,
     "metadata": {},
     "output_type": "execute_result"
    }
   ],
   "source": [
    "# 用房贷的信贷次数、包括车贷房贷在内的贷款笔数和年龄来训练月收入\n",
    "cols = ['NumberRealEstateLoansOrLines', 'NumberOfOpenCreditLinesAndLoans', 'age'] \n",
    "income_imputer.fit(train_w_monthly_income[cols], train_w_monthly_income.MonthlyIncome) "
   ]
  },
  {
   "cell_type": "code",
   "execution_count": 81,
   "metadata": {
    "collapsed": true
   },
   "outputs": [],
   "source": [
    "new_values = income_imputer.predict(train_w_null_monthly_income[cols])\n",
    "train_w_null_monthly_income.ix[:, 'MonthlyIncome'] = new_values #填充月收入缺失值"
   ]
  },
  {
   "cell_type": "code",
   "execution_count": 82,
   "metadata": {
    "collapsed": false
   },
   "outputs": [
    {
     "data": {
      "text/plain": [
       "array([ 2600.,  2240.,  4590., ...,  5756.,  4891.,  8108.])"
      ]
     },
     "execution_count": 82,
     "metadata": {},
     "output_type": "execute_result"
    }
   ],
   "source": [
    "new_values"
   ]
  },
  {
   "cell_type": "code",
   "execution_count": 18,
   "metadata": {
    "collapsed": false
   },
   "outputs": [
    {
     "data": {
      "text/plain": [
       "(150000, 11)"
      ]
     },
     "execution_count": 18,
     "metadata": {},
     "output_type": "execute_result"
    }
   ],
   "source": [
    "df_imputed = train_w_monthly_income.append(train_w_null_monthly_income)\n",
    "df_imputed.shape"
   ]
  },
  {
   "cell_type": "code",
   "execution_count": 19,
   "metadata": {
    "collapsed": true
   },
   "outputs": [],
   "source": [
    "df_imputed.ix[df_imputed.NumberOfDependents.isnull(),'NumberOfDependents'] = -1 #填充需要抚养人数缺失值"
   ]
  },
  {
   "cell_type": "code",
   "execution_count": 20,
   "metadata": {
    "collapsed": false,
    "scrolled": true
   },
   "outputs": [
    {
     "name": "stdout",
     "output_type": "stream",
     "text": [
      "<class 'pandas.core.frame.DataFrame'>\n",
      "Int64Index: 150000 entries, 0 to 149997\n",
      "Data columns (total 11 columns):\n",
      "SeriousDlqin2yrs                        150000 non-null int64\n",
      "RevolvingUtilizationOfUnsecuredLines    150000 non-null float64\n",
      "age                                     150000 non-null int64\n",
      "NumberOfTime30-59DaysPastDueNotWorse    150000 non-null int64\n",
      "DebtRatio                               150000 non-null float64\n",
      "MonthlyIncome                           150000 non-null float64\n",
      "NumberOfOpenCreditLinesAndLoans         150000 non-null int64\n",
      "NumberOfTimes90DaysLate                 150000 non-null int64\n",
      "NumberRealEstateLoansOrLines            150000 non-null int64\n",
      "NumberOfTime60-89DaysPastDueNotWorse    150000 non-null int64\n",
      "NumberOfDependents                      150000 non-null float64\n",
      "dtypes: float64(4), int64(7)\n",
      "memory usage: 13.7 MB\n"
     ]
    }
   ],
   "source": [
    "df_imputed.info()"
   ]
  },
  {
   "cell_type": "markdown",
   "metadata": {},
   "source": [
    "#### 特征工程"
   ]
  },
  {
   "cell_type": "code",
   "execution_count": 21,
   "metadata": {
    "collapsed": false,
    "scrolled": true
   },
   "outputs": [
    {
     "data": {
      "text/plain": [
       "<matplotlib.axes._subplots.AxesSubplot at 0x261a9c16828>"
      ]
     },
     "execution_count": 21,
     "metadata": {},
     "output_type": "execute_result"
    },
    {
     "data": {
      "image/png": "[encoded data removed]",
      "text/plain": [
       "<matplotlib.figure.Figure at 0x261a9c3aa90>"
      ]
     },
     "metadata": {},
     "output_type": "display_data"
    }
   ],
   "source": [
    "df_imputed.MonthlyIncome.hist() #个别高收入群体拉高了平均值"
   ]
  },
  {
   "cell_type": "code",
   "execution_count": 22,
   "metadata": {
    "collapsed": false
   },
   "outputs": [
    {
     "data": {
      "text/plain": [
       "6391"
      ]
     },
     "execution_count": 22,
     "metadata": {},
     "output_type": "execute_result"
    }
   ],
   "source": [
    "df_imputed.ix[df_imputed.MonthlyIncome > 15000, 'MonthlyIncome'].count()"
   ]
  },
  {
   "cell_type": "code",
   "execution_count": 23,
   "metadata": {
    "collapsed": true
   },
   "outputs": [],
   "source": [
    "def cap_values(x, cap):\n",
    "    if x > cap:\n",
    "        return cap\n",
    "    else:\n",
    "        return x\n",
    "# 设定上限\n",
    "df_imputed.MonthlyIncome = df_imputed.MonthlyIncome.apply(lambda x: cap_values(x, 15000))"
   ]
  },
  {
   "cell_type": "code",
   "execution_count": 24,
   "metadata": {
    "collapsed": false
   },
   "outputs": [
    {
     "data": {
      "text/plain": [
       "<matplotlib.axes._subplots.AxesSubplot at 0x261a9bab470>"
      ]
     },
     "execution_count": 24,
     "metadata": {},
     "output_type": "execute_result"
    },
    {
     "data": {
      "image/png": "[encoded data removed]",
      "text/plain": [
       "<matplotlib.figure.Figure at 0x261a9b9cfd0>"
      ]
     },
     "metadata": {},
     "output_type": "display_data"
    }
   ],
   "source": [
    "df_imputed.MonthlyIncome.hist()"
   ]
  },
  {
   "cell_type": "code",
   "execution_count": 25,
   "metadata": {
    "collapsed": false,
    "scrolled": true
   },
   "outputs": [
    {
     "data": {
      "text/plain": [
       "4     19350\n",
       "3     19219\n",
       "2     17020\n",
       "5     16450\n",
       "6     12837\n",
       "7     11130\n",
       "1      9076\n",
       "8      9061\n",
       "14     8199\n",
       "9      7336\n",
       "0      6146\n",
       "10     5654\n",
       "11     3606\n",
       "12     2966\n",
       "13     1950\n",
       "Name: income_bins, dtype: int64"
      ]
     },
     "execution_count": 25,
     "metadata": {},
     "output_type": "execute_result"
    }
   ],
   "source": [
    "# 月收入离散化\n",
    "df_imputed['income_bins'] = pd.cut(df_imputed.MonthlyIncome, bins=15, labels=False)\n",
    "pd.value_counts(df_imputed.income_bins)"
   ]
  },
  {
   "cell_type": "code",
   "execution_count": 26,
   "metadata": {
    "collapsed": false
   },
   "outputs": [
    {
     "data": {
      "text/plain": [
       "13     13700.0\n",
       "55     13793.0\n",
       "123    14000.0\n",
       "239    14000.0\n",
       "295    13054.0\n",
       "Name: MonthlyIncome, dtype: float64"
      ]
     },
     "execution_count": 26,
     "metadata": {},
     "output_type": "execute_result"
    }
   ],
   "source": [
    "df_imputed.ix[df_imputed.income_bins == 13, 'MonthlyIncome'].head()"
   ]
  },
  {
   "cell_type": "code",
   "execution_count": 29,
   "metadata": {
    "collapsed": false
   },
   "outputs": [
    {
     "data": {
      "text/html": [
       "<div>\n",
       "<table border=\"1\" class=\"dataframe\">\n",
       "  <thead>\n",
       "    <tr style=\"text-align: right;\">\n",
       "      <th></th>\n",
       "      <th>SeriousDlqin2yrs</th>\n",
       "    </tr>\n",
       "    <tr>\n",
       "      <th>income_bins</th>\n",
       "      <th></th>\n",
       "    </tr>\n",
       "  </thead>\n",
       "  <tbody>\n",
       "    <tr>\n",
       "      <th>0</th>\n",
       "      <td>0.058737</td>\n",
       "    </tr>\n",
       "    <tr>\n",
       "      <th>1</th>\n",
       "      <td>0.100705</td>\n",
       "    </tr>\n",
       "    <tr>\n",
       "      <th>2</th>\n",
       "      <td>0.089600</td>\n",
       "    </tr>\n",
       "    <tr>\n",
       "      <th>3</th>\n",
       "      <td>0.082783</td>\n",
       "    </tr>\n",
       "    <tr>\n",
       "      <th>4</th>\n",
       "      <td>0.070956</td>\n",
       "    </tr>\n",
       "    <tr>\n",
       "      <th>5</th>\n",
       "      <td>0.065593</td>\n",
       "    </tr>\n",
       "    <tr>\n",
       "      <th>6</th>\n",
       "      <td>0.060217</td>\n",
       "    </tr>\n",
       "    <tr>\n",
       "      <th>7</th>\n",
       "      <td>0.054268</td>\n",
       "    </tr>\n",
       "    <tr>\n",
       "      <th>8</th>\n",
       "      <td>0.050988</td>\n",
       "    </tr>\n",
       "    <tr>\n",
       "      <th>9</th>\n",
       "      <td>0.050164</td>\n",
       "    </tr>\n",
       "    <tr>\n",
       "      <th>10</th>\n",
       "      <td>0.042448</td>\n",
       "    </tr>\n",
       "    <tr>\n",
       "      <th>11</th>\n",
       "      <td>0.039933</td>\n",
       "    </tr>\n",
       "    <tr>\n",
       "      <th>12</th>\n",
       "      <td>0.040121</td>\n",
       "    </tr>\n",
       "    <tr>\n",
       "      <th>13</th>\n",
       "      <td>0.040513</td>\n",
       "    </tr>\n",
       "    <tr>\n",
       "      <th>14</th>\n",
       "      <td>0.048055</td>\n",
       "    </tr>\n",
       "  </tbody>\n",
       "</table>\n",
       "</div>"
      ],
      "text/plain": [
       "             SeriousDlqin2yrs\n",
       "income_bins                  \n",
       "0                    0.058737\n",
       "1                    0.100705\n",
       "2                    0.089600\n",
       "3                    0.082783\n",
       "4                    0.070956\n",
       "5                    0.065593\n",
       "6                    0.060217\n",
       "7                    0.054268\n",
       "8                    0.050988\n",
       "9                    0.050164\n",
       "10                   0.042448\n",
       "11                   0.039933\n",
       "12                   0.040121\n",
       "13                   0.040513\n",
       "14                   0.048055"
      ]
     },
     "execution_count": 29,
     "metadata": {},
     "output_type": "execute_result"
    }
   ],
   "source": [
    "# 按月收入分类计算出现逾期平均值\n",
    "df_imputed[[\"income_bins\", \"SeriousDlqin2yrs\"]].groupby(\"income_bins\").mean()"
   ]
  },
  {
   "cell_type": "code",
   "execution_count": 30,
   "metadata": {
    "collapsed": false,
    "scrolled": true
   },
   "outputs": [
    {
     "data": {
      "image/png": "[encoded data removed]",
      "text/plain": [
       "<matplotlib.figure.Figure at 0x261a959eeb8>"
      ]
     },
     "metadata": {},
     "output_type": "display_data"
    }
   ],
   "source": [
    "cols = [\"income_bins\", \"SeriousDlqin2yrs\"]\n",
    "df_imputed[cols].groupby(\"income_bins\").mean().plot();"
   ]
  },
  {
   "cell_type": "code",
   "execution_count": 31,
   "metadata": {
    "collapsed": false
   },
   "outputs": [
    {
     "data": {
      "image/png": "[encoded data removed]",
      "text/plain": [
       "<matplotlib.figure.Figure at 0x261aafae2b0>"
      ]
     },
     "metadata": {},
     "output_type": "display_data"
    }
   ],
   "source": [
    "# 按年龄计算出现逾期平均值\n",
    "cols = ['age', 'SeriousDlqin2yrs']\n",
    "df_imputed[cols].groupby(\"age\").mean().plot();"
   ]
  },
  {
   "cell_type": "code",
   "execution_count": 32,
   "metadata": {
    "collapsed": false
   },
   "outputs": [
    {
     "data": {
      "text/plain": [
       "(45, 50]     18829\n",
       "(50, 55]     17861\n",
       "(55, 60]     16945\n",
       "(60, 65]     16461\n",
       "(40, 45]     16208\n",
       "(35, 40]     13611\n",
       "(65, 70]     10963\n",
       "(30, 35]     10728\n",
       "(75, 120]    10129\n",
       "(25, 30]      7730\n",
       "(70, 75]      7507\n",
       "(20, 25]      3027\n",
       "(0, 20]          0\n",
       "Name: age_bin, dtype: int64"
      ]
     },
     "execution_count": 32,
     "metadata": {},
     "output_type": "execute_result"
    }
   ],
   "source": [
    "df_imputed['age_bin'] = pd.cut(df_imputed.age, bins=[0] + list(range(20, 80, 5)) + [120])\n",
    "pd.value_counts(df_imputed['age_bin'])"
   ]
  },
  {
   "cell_type": "code",
   "execution_count": 33,
   "metadata": {
    "collapsed": false
   },
   "outputs": [
    {
     "data": {
      "text/plain": [
       "0    0.823997\n",
       "1   -0.944376\n",
       "2   -0.824496\n",
       "3   -0.754520\n",
       "4    2.418788\n",
       "Name: monthly_income_scaled, dtype: float64"
      ]
     },
     "execution_count": 33,
     "metadata": {},
     "output_type": "execute_result"
    }
   ],
   "source": [
    "#月收入标准化\n",
    "from sklearn.preprocessing import StandardScaler\n",
    "df_imputed['monthly_income_scaled'] = StandardScaler().fit_transform(df_imputed.MonthlyIncome.values.reshape(-1,1))\n",
    "df_imputed['monthly_income_scaled'].head()"
   ]
  },
  {
   "cell_type": "markdown",
   "metadata": {},
   "source": [
    "#### 建模和评估"
   ]
  },
  {
   "cell_type": "code",
   "execution_count": 34,
   "metadata": {
    "collapsed": false
   },
   "outputs": [
    {
     "data": {
      "text/plain": [
       "Index(['SeriousDlqin2yrs', 'RevolvingUtilizationOfUnsecuredLines', 'age',\n",
       "       'NumberOfTime30-59DaysPastDueNotWorse', 'DebtRatio', 'MonthlyIncome',\n",
       "       'NumberOfOpenCreditLinesAndLoans', 'NumberOfTimes90DaysLate',\n",
       "       'NumberRealEstateLoansOrLines', 'NumberOfTime60-89DaysPastDueNotWorse',\n",
       "       'NumberOfDependents', 'income_bins', 'age_bin',\n",
       "       'monthly_income_scaled'],\n",
       "      dtype='object')"
      ]
     },
     "execution_count": 34,
     "metadata": {},
     "output_type": "execute_result"
    }
   ],
   "source": [
    "df_imputed.columns"
   ]
  },
  {
   "cell_type": "code",
   "execution_count": 35,
   "metadata": {
    "collapsed": true
   },
   "outputs": [],
   "source": [
    "# 特征选取\n",
    "features = ['RevolvingUtilizationOfUnsecuredLines',\n",
    " 'age',\n",
    " 'NumberOfTime30-59DaysPastDueNotWorse',\n",
    " 'DebtRatio',\n",
    " 'MonthlyIncome',\n",
    " 'NumberOfOpenCreditLinesAndLoans',\n",
    " 'NumberOfTimes90DaysLate',\n",
    " 'NumberRealEstateLoansOrLines',\n",
    " 'NumberOfTime60-89DaysPastDueNotWorse',\n",
    " 'NumberOfDependents',\n",
    " 'income_bins',\n",
    " 'age_bin',\n",
    " 'monthly_income_scaled']"
   ]
  },
  {
   "cell_type": "code",
   "execution_count": 36,
   "metadata": {
    "collapsed": true
   },
   "outputs": [],
   "source": [
    "X = pd.get_dummies(df_imputed[features], columns = ['income_bins', 'age_bin'])"
   ]
  },
  {
   "cell_type": "code",
   "execution_count": 37,
   "metadata": {
    "collapsed": false
   },
   "outputs": [
    {
     "name": "stdout",
     "output_type": "stream",
     "text": [
      "<class 'pandas.core.frame.DataFrame'>\n",
      "Int64Index: 150000 entries, 0 to 149997\n",
      "Data columns (total 39 columns):\n",
      "RevolvingUtilizationOfUnsecuredLines    150000 non-null float64\n",
      "age                                     150000 non-null int64\n",
      "NumberOfTime30-59DaysPastDueNotWorse    150000 non-null int64\n",
      "DebtRatio                               150000 non-null float64\n",
      "MonthlyIncome                           150000 non-null float64\n",
      "NumberOfOpenCreditLinesAndLoans         150000 non-null int64\n",
      "NumberOfTimes90DaysLate                 150000 non-null int64\n",
      "NumberRealEstateLoansOrLines            150000 non-null int64\n",
      "NumberOfTime60-89DaysPastDueNotWorse    150000 non-null int64\n",
      "NumberOfDependents                      150000 non-null float64\n",
      "monthly_income_scaled                   150000 non-null float64\n",
      "income_bins_0                           150000 non-null uint8\n",
      "income_bins_1                           150000 non-null uint8\n",
      "income_bins_2                           150000 non-null uint8\n",
      "income_bins_3                           150000 non-null uint8\n",
      "income_bins_4                           150000 non-null uint8\n",
      "income_bins_5                           150000 non-null uint8\n",
      "income_bins_6                           150000 non-null uint8\n",
      "income_bins_7                           150000 non-null uint8\n",
      "income_bins_8                           150000 non-null uint8\n",
      "income_bins_9                           150000 non-null uint8\n",
      "income_bins_10                          150000 non-null uint8\n",
      "income_bins_11                          150000 non-null uint8\n",
      "income_bins_12                          150000 non-null uint8\n",
      "income_bins_13                          150000 non-null uint8\n",
      "income_bins_14                          150000 non-null uint8\n",
      "age_bin_(0, 20]                         150000 non-null uint8\n",
      "age_bin_(20, 25]                        150000 non-null uint8\n",
      "age_bin_(25, 30]                        150000 non-null uint8\n",
      "age_bin_(30, 35]                        150000 non-null uint8\n",
      "age_bin_(35, 40]                        150000 non-null uint8\n",
      "age_bin_(40, 45]                        150000 non-null uint8\n",
      "age_bin_(45, 50]                        150000 non-null uint8\n",
      "age_bin_(50, 55]                        150000 non-null uint8\n",
      "age_bin_(55, 60]                        150000 non-null uint8\n",
      "age_bin_(60, 65]                        150000 non-null uint8\n",
      "age_bin_(65, 70]                        150000 non-null uint8\n",
      "age_bin_(70, 75]                        150000 non-null uint8\n",
      "age_bin_(75, 120]                       150000 non-null uint8\n",
      "dtypes: float64(5), int64(6), uint8(28)\n",
      "memory usage: 17.7 MB\n"
     ]
    }
   ],
   "source": [
    "X.info()"
   ]
  },
  {
   "cell_type": "code",
   "execution_count": 38,
   "metadata": {
    "collapsed": false
   },
   "outputs": [],
   "source": [
    "y = df_imputed.SeriousDlqin2yrs"
   ]
  },
  {
   "cell_type": "code",
   "execution_count": 39,
   "metadata": {
    "collapsed": false
   },
   "outputs": [],
   "source": [
    "#将数据集分为训练集和测试集两个部分\n",
    "from sklearn.model_selection import train_test_split \n",
    "train_X, test_X, train_y, test_y = train_test_split(X, y ,train_size=0.7,random_state=1) "
   ]
  },
  {
   "cell_type": "code",
   "execution_count": 40,
   "metadata": {
    "collapsed": false
   },
   "outputs": [
    {
     "data": {
      "text/plain": [
       "(105000, 39)"
      ]
     },
     "execution_count": 40,
     "metadata": {},
     "output_type": "execute_result"
    }
   ],
   "source": [
    "train_X.shape"
   ]
  },
  {
   "cell_type": "code",
   "execution_count": 41,
   "metadata": {
    "collapsed": false
   },
   "outputs": [
    {
     "data": {
      "text/plain": [
       "(45000, 39)"
      ]
     },
     "execution_count": 41,
     "metadata": {},
     "output_type": "execute_result"
    }
   ],
   "source": [
    "test_X.shape"
   ]
  },
  {
   "cell_type": "code",
   "execution_count": 42,
   "metadata": {
    "collapsed": false
   },
   "outputs": [
    {
     "data": {
      "text/plain": [
       "LogisticRegression(C=1.0, class_weight=None, dual=False, fit_intercept=True,\n",
       "          intercept_scaling=1, max_iter=100, multi_class='ovr', n_jobs=1,\n",
       "          penalty='l2', random_state=None, solver='liblinear', tol=0.0001,\n",
       "          verbose=0, warm_start=False)"
      ]
     },
     "execution_count": 42,
     "metadata": {},
     "output_type": "execute_result"
    }
   ],
   "source": [
    "from sklearn.linear_model import LogisticRegression\n",
    "from sklearn.ensemble import RandomForestClassifier, GradientBoostingClassifier\n",
    "\n",
    "clf = LogisticRegression() #使用逻辑回归进行训练\n",
    "clf.fit(train_X, train_y)"
   ]
  },
  {
   "cell_type": "code",
   "execution_count": 43,
   "metadata": {
    "collapsed": false,
    "scrolled": true
   },
   "outputs": [
    {
     "data": {
      "text/plain": [
       "array([0, 0, 0, ..., 0, 0, 0], dtype=int64)"
      ]
     },
     "execution_count": 43,
     "metadata": {},
     "output_type": "execute_result"
    }
   ],
   "source": [
    "pred_y = clf.predict(test_X)\n",
    "pred_y"
   ]
  },
  {
   "cell_type": "code",
   "execution_count": 44,
   "metadata": {
    "collapsed": false
   },
   "outputs": [
    {
     "data": {
      "text/plain": [
       "array([[41868,   100],\n",
       "       [ 2894,   138]])"
      ]
     },
     "execution_count": 44,
     "metadata": {},
     "output_type": "execute_result"
    }
   ],
   "source": [
    "#模型评估\n",
    "from sklearn.metrics import confusion_matrix, classification_report, roc_auc_score, roc_curve\n",
    "confusion_matrix(test_y, pred_y) "
   ]
  },
  {
   "cell_type": "code",
   "execution_count": 54,
   "metadata": {
    "collapsed": false,
    "scrolled": true
   },
   "outputs": [
    {
     "name": "stdout",
     "output_type": "stream",
     "text": [
      "             precision    recall  f1-score   support\n",
      "\n",
      "          0       0.94      1.00      0.97     41968\n",
      "          1       0.58      0.05      0.08      3032\n",
      "\n",
      "avg / total       0.91      0.93      0.91     45000\n",
      "\n"
     ]
    }
   ],
   "source": [
    "print (classification_report(test_y, pred_y, labels=[0, 1]))"
   ]
  },
  {
   "cell_type": "markdown",
   "metadata": {},
   "source": [
    "Precision: $P=\\frac{TP}{(TP+FP)}$\n",
    "Recall: $R=\\frac{TP}{(TP+FN)}$\n",
    "F1-score: $F1=\\frac{2TP}{2TP+FP+FN}$"
   ]
  },
  {
   "cell_type": "code",
   "execution_count": 55,
   "metadata": {
    "collapsed": false
   },
   "outputs": [
    {
     "data": {
      "text/plain": [
       "array([[ 0.93116405,  0.06883595],\n",
       "       [ 0.96587459,  0.03412541],\n",
       "       [ 0.97439392,  0.02560608],\n",
       "       ..., \n",
       "       [ 0.96092895,  0.03907105],\n",
       "       [ 0.86773956,  0.13226044],\n",
       "       [ 0.97486237,  0.02513763]])"
      ]
     },
     "execution_count": 55,
     "metadata": {},
     "output_type": "execute_result"
    }
   ],
   "source": [
    "pred_proba_y = clf.predict_proba(test_X) \n",
    "pred_proba_y"
   ]
  },
  {
   "cell_type": "code",
   "execution_count": 56,
   "metadata": {
    "collapsed": false
   },
   "outputs": [
    {
     "data": {
      "text/plain": [
       "0.70867831468152143"
      ]
     },
     "execution_count": 56,
     "metadata": {},
     "output_type": "execute_result"
    }
   ],
   "source": [
    "roc_auc_score(test_y, pred_proba_y[:, 1]) "
   ]
  },
  {
   "cell_type": "code",
   "execution_count": 63,
   "metadata": {
    "collapsed": false,
    "scrolled": true
   },
   "outputs": [
    {
     "data": {
      "text/plain": [
       "[<matplotlib.lines.Line2D at 0x261b1993e80>]"
      ]
     },
     "execution_count": 63,
     "metadata": {},
     "output_type": "execute_result"
    },
    {
     "data": {
      "image/png": "[encoded data removed]",
      "text/plain": [
       "<matplotlib.figure.Figure at 0x261b19245f8>"
      ]
     },
     "metadata": {},
     "output_type": "display_data"
    }
   ],
   "source": [
    "fpr, tpr, thresholds = roc_curve(test_y, pred_proba_y[:, 1]) \n",
    "plt.plot(fpr, tpr)"
   ]
  },
  {
   "cell_type": "code",
   "execution_count": null,
   "metadata": {
    "collapsed": true
   },
   "outputs": [],
   "source": []
  }
 ],
 "metadata": {
  "kernelspec": {
   "display_name": "Python 3",
   "language": "python",
   "name": "python3"
  },
  "language_info": {
   "codemirror_mode": {
    "name": "ipython",
    "version": 3
   },
   "file_extension": ".py",
   "mimetype": "text/x-python",
   "name": "python",
   "nbconvert_exporter": "python",
   "pygments_lexer": "ipython3",
   "version": "3.6.0"
  }
 },
 "nbformat": 4,
 "nbformat_minor": 2
}
