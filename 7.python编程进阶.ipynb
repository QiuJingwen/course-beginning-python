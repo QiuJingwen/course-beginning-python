{
 "cells": [
  {
   "cell_type": "markdown",
   "metadata": {},
   "source": [
    "### 课程内容\n",
    "- python数据科学技能树\n",
    "    - 知识体系\n",
    "    - 团队构建\n",
    "    - 部重室和WISER Club提供的支持\n",
    "- python编程进阶实战"
   ]
  },
  {
   "cell_type": "markdown",
   "metadata": {},
   "source": [
    "## 一、python数据科学技能树\n",
    "### 1.  知识体系\n",
    "在python的生态系统中可以发现，已经出现如java语言那样坚实稳定的基础\n",
    "![](images/python-ecosystem.png?20170628)"
   ]
  },
  {
   "cell_type": "markdown",
   "metadata": {},
   "source": [
    "### 2. 团队构建\n",
    "数据科学是一门综合型和实验性都很强的学科，在项目实践中，一个人单打独斗的日子已经一去不复返了，知识互补的团队作战才能适应未来。"
   ]
  },
  {
   "cell_type": "markdown",
   "metadata": {},
   "source": [
    "![](images/data-science.png?20170628)"
   ]
  },
  {
   "cell_type": "markdown",
   "metadata": {},
   "source": [
    "团队的成员知识互补达到均衡"
   ]
  },
  {
   "cell_type": "code",
   "execution_count": 1,
   "metadata": {
    "collapsed": true
   },
   "outputs": [],
   "source": [
    "import numpy as np\n",
    "import matplotlib.pyplot as plt\n",
    "%matplotlib inline"
   ]
  },
  {
   "cell_type": "code",
   "execution_count": 2,
   "metadata": {
    "collapsed": false
   },
   "outputs": [
    {
     "data": {
      "text/plain": [
       "<Container object of 7 artists>"
      ]
     },
     "execution_count": 2,
     "metadata": {},
     "output_type": "execute_result"
    },
    {
     "data": {
      "image/png": "[encoded data removed]",
      "text/plain": [
       "<matplotlib.figure.Figure at 0x1d4c742a668>"
      ]
     },
     "metadata": {},
     "output_type": "display_data"
    }
   ],
   "source": [
    "n = 7\n",
    "np.random.seed(123)\n",
    "y = np.random.randint(20, 80, size=n)\n",
    "fig, axs = plt.subplots(1, figsize=(12,6))\n",
    "labels = ['data visualization', 'machine learning', 'mathematics', 'statistics', \n",
    "          'computer science', 'communication skills', 'domain knowledge']\n",
    "x = range(n)\n",
    "plt.bar(x, y, width=0.6, tick_label = labels);\n",
    "for label in axs.get_xmajorticklabels():\n",
    "    label.set_rotation(45)\n",
    "    label.set_fontsize(15)\n",
    "    label.set_horizontalalignment(\"right\")\n",
    "    \n",
    "axs.get_yaxis().set_visible(False)\n",
    "\n",
    "z = np.random.randint(20, 80, size=n)\n",
    "plt.bar(x, z, bottom=y, width=0.6)\n",
    "\n",
    "w = np.random.randint(20, 80, size=n)\n",
    "plt.bar(x, w, bottom=y + z, width=0.6)"
   ]
  },
  {
   "cell_type": "markdown",
   "metadata": {},
   "source": [
    "### 3. 部重室和WISER Club提供的支持\n",
    "- 横向课题\n",
    "- 学生培养\n",
    "- 人才推荐"
   ]
  },
  {
   "cell_type": "markdown",
   "metadata": {},
   "source": [
    "#### 数据共享和计算平台\n",
    "- 学生社区\n",
    "- 课题协作\n",
    "- 可视化平台\n",
    "- 数据API\n",
    "- 在线开发平台\n",
    "- 并行计算平台（建设中）"
   ]
  },
  {
   "cell_type": "markdown",
   "metadata": {},
   "source": [
    "#### 数据API演示"
   ]
  },
  {
   "cell_type": "code",
   "execution_count": 3,
   "metadata": {
    "collapsed": false
   },
   "outputs": [
    {
     "name": "stdout",
     "output_type": "stream",
     "text": [
      "Status: 200 OK\n"
     ]
    },
    {
     "data": {
      "text/plain": [
       "{'data': [{'_id': 'GTA_SZL2_BULLETIN',\n",
       "   'enddate': 0,\n",
       "   'indicator_type_id': None,\n",
       "   'ispcode': '1',\n",
       "   'startdate': 0,\n",
       "   'title': '公告及增值信息'},\n",
       "  {'_id': 'GTA_SZL2_ORDER',\n",
       "   'enddate': 0,\n",
       "   'indicator_type_id': None,\n",
       "   'ispcode': '1',\n",
       "   'startdate': 0,\n",
       "   'title': '逐笔委托'},\n",
       "  {'_id': 'GTA_SZL2_ORDERQUEUE',\n",
       "   'enddate': 0,\n",
       "   'indicator_type_id': None,\n",
       "   'ispcode': '1',\n",
       "   'startdate': 0,\n",
       "   'title': '委托队列'},\n",
       "  {'_id': 'GTA_SZL2_STOCKINFO',\n",
       "   'enddate': 0,\n",
       "   'indicator_type_id': None,\n",
       "   'ispcode': '1',\n",
       "   'startdate': 0,\n",
       "   'title': '证券静态信息'},\n",
       "  {'_id': 'GTA_SZL2_STOCKSTATUS',\n",
       "   'enddate': 0,\n",
       "   'indicator_type_id': None,\n",
       "   'ispcode': '1',\n",
       "   'startdate': 0,\n",
       "   'title': '证券状态'},\n",
       "  {'_id': 'GTA_SZL2_TAQ',\n",
       "   'enddate': 0,\n",
       "   'indicator_type_id': None,\n",
       "   'ispcode': '1',\n",
       "   'startdate': 0,\n",
       "   'title': '十档行情'},\n",
       "  {'_id': 'GTA_SZL2_TRADE',\n",
       "   'enddate': 0,\n",
       "   'indicator_type_id': None,\n",
       "   'ispcode': '1',\n",
       "   'startdate': 0,\n",
       "   'title': '逐笔成交'}],\n",
       " 'msg': 'success'}"
      ]
     },
     "execution_count": 3,
     "metadata": {},
     "output_type": "execute_result"
    }
   ],
   "source": [
    "import requests\n",
    "import json\n",
    "resp = requests.get('http://api.wisesoe.com/getgtatree?codes=GTA_SZL2')\n",
    "print('Status:', resp.status_code, resp.reason)\n",
    "json.loads(resp.text)"
   ]
  },
  {
   "cell_type": "code",
   "execution_count": 4,
   "metadata": {
    "collapsed": false,
    "scrolled": false
   },
   "outputs": [
    {
     "data": {
      "text/plain": [
       "[{'_id': 'SECURITYID',\n",
       "  'description': '',\n",
       "  'is_nullable': 'NO',\n",
       "  'position': 1,\n",
       "  'title': '证券代码'},\n",
       " {'_id': 'TRDDATE',\n",
       "  'description': '以YYYYMMDD表示',\n",
       "  'is_nullable': 'NO',\n",
       "  'position': 2,\n",
       "  'title': '日期'},\n",
       " {'_id': 'DATATIMESTAMP',\n",
       "  'description': '',\n",
       "  'is_nullable': 'YES',\n",
       "  'position': 3,\n",
       "  'title': '数据生成时间'},\n",
       " {'_id': 'PRECLOSEPX',\n",
       "  'description': '3位小数',\n",
       "  'is_nullable': 'YES',\n",
       "  'position': 4,\n",
       "  'title': '昨日收盘价'},\n",
       " {'_id': 'OPENPX',\n",
       "  'description': '3位小数',\n",
       "  'is_nullable': 'YES',\n",
       "  'position': 5,\n",
       "  'title': '开盘价'}]"
      ]
     },
     "execution_count": 4,
     "metadata": {},
     "output_type": "execute_result"
    }
   ],
   "source": [
    "resp = requests.get('http://api.wisesoe.com/getgtaindicator?codes=GTA_SZL2_TAQ')\n",
    "json.loads(resp.text)['data'][:5]"
   ]
  },
  {
   "cell_type": "code",
   "execution_count": 5,
   "metadata": {
    "collapsed": false
   },
   "outputs": [],
   "source": [
    "import pandas\n",
    "resp = requests.get('http://api.wisesoe.com/getgtamap?period=201701,201702&'\\\n",
    "                    'codes=SHL2_TAQ_600153__SECURITYID,SHL2_TAQ_600153__TRDDATE,SHL2_TAQ_600153__DATATIMESTAMP,SHL2_TAQ_600153__LASTPX')\n",
    "result = json.loads(resp.text)['data']"
   ]
  },
  {
   "cell_type": "code",
   "execution_count": 6,
   "metadata": {
    "collapsed": false
   },
   "outputs": [
    {
     "data": {
      "text/html": [
       "<div>\n",
       "<table border=\"1\" class=\"dataframe\">\n",
       "  <thead>\n",
       "    <tr style=\"text-align: right;\">\n",
       "      <th></th>\n",
       "      <th>SHL2_TAQ_600153__SECURITYID</th>\n",
       "      <th>SHL2_TAQ_600153__TRDDATE</th>\n",
       "      <th>SHL2_TAQ_600153__DATATIMESTAMP</th>\n",
       "      <th>SHL2_TAQ_600153__LASTPX</th>\n",
       "    </tr>\n",
       "  </thead>\n",
       "  <tbody>\n",
       "    <tr>\n",
       "      <th>0</th>\n",
       "      <td>600153</td>\n",
       "      <td>20170103</td>\n",
       "      <td>092506</td>\n",
       "      <td>10.71</td>\n",
       "    </tr>\n",
       "    <tr>\n",
       "      <th>1</th>\n",
       "      <td>600153</td>\n",
       "      <td>20170103</td>\n",
       "      <td>092904</td>\n",
       "      <td>10.71</td>\n",
       "    </tr>\n",
       "    <tr>\n",
       "      <th>2</th>\n",
       "      <td>600153</td>\n",
       "      <td>20170103</td>\n",
       "      <td>093002</td>\n",
       "      <td>10.72</td>\n",
       "    </tr>\n",
       "    <tr>\n",
       "      <th>3</th>\n",
       "      <td>600153</td>\n",
       "      <td>20170103</td>\n",
       "      <td>093006</td>\n",
       "      <td>10.71</td>\n",
       "    </tr>\n",
       "    <tr>\n",
       "      <th>4</th>\n",
       "      <td>600153</td>\n",
       "      <td>20170103</td>\n",
       "      <td>093009</td>\n",
       "      <td>10.72</td>\n",
       "    </tr>\n",
       "  </tbody>\n",
       "</table>\n",
       "</div>"
      ],
      "text/plain": [
       "  SHL2_TAQ_600153__SECURITYID SHL2_TAQ_600153__TRDDATE  \\\n",
       "0                      600153                 20170103   \n",
       "1                      600153                 20170103   \n",
       "2                      600153                 20170103   \n",
       "3                      600153                 20170103   \n",
       "4                      600153                 20170103   \n",
       "\n",
       "  SHL2_TAQ_600153__DATATIMESTAMP  SHL2_TAQ_600153__LASTPX  \n",
       "0                         092506                    10.71  \n",
       "1                         092904                    10.71  \n",
       "2                         093002                    10.72  \n",
       "3                         093006                    10.71  \n",
       "4                         093009                    10.72  "
      ]
     },
     "execution_count": 6,
     "metadata": {},
     "output_type": "execute_result"
    }
   ],
   "source": [
    "data = {item['code']: item['value'] for item in result}\n",
    "columns = [item['code'] for item in result]\n",
    "pandas.DataFrame(data, columns=columns).head()"
   ]
  },
  {
   "cell_type": "markdown",
   "metadata": {},
   "source": [
    "## 二、python编程进阶实战\n",
    "python提供了非常多高效的编程语法，我们看看下面几个"
   ]
  },
  {
   "cell_type": "markdown",
   "metadata": {},
   "source": [
    "### 1、迭代器和生成器\n",
    "#### 迭代器\n",
    "- 迭代器就是实现了\\_\\_next\\_\\_方法的对象，\\_\\_next\\_\\_方法返回下一个值\n",
    "- 可迭代对象是实现\\_\\_iter\\_\\_的对象，\\_\\_iter\\_\\_方法会返回一个迭代器，list,tuple,dict和set都是可迭代对象\n",
    "- 可迭代对象和迭代器可以是同一个对象，也可以不是\n",
    "\n",
    "![](images/iter.png?20170710)"
   ]
  },
  {
   "cell_type": "code",
   "execution_count": 66,
   "metadata": {
    "collapsed": false,
    "scrolled": false
   },
   "outputs": [],
   "source": [
    "class Fib:\n",
    "    \n",
    "    def __init__(self, max):\n",
    "        self.a = 0\n",
    "        self.b = 1\n",
    "        self.max = max\n",
    "\n",
    "    def __iter__(self):\n",
    "        return self\n",
    "\n",
    "    def __next__(self): #python 2使用next(self)        \n",
    "        t = self.a\n",
    "        if t > self.max:\n",
    "            raise StopIteration        \n",
    "        self.a, self.b = self.b, self.a + self.b\n",
    "        return t"
   ]
  },
  {
   "cell_type": "markdown",
   "metadata": {},
   "source": [
    "- fib是Fib类的对象，Fib类实现了\\_\\_iter\\_\\_，也实现了\\_\\_next\\_\\_，因而fib既是一个可迭代对象，也是一个迭代器\n",
    "- iter()传入一个可迭代对象，则调用可迭代对象中的\\_\\_iter\\_\\_方法，\\_\\_iter\\_\\_方法返回一个迭代器\n",
    "- next()传入一个迭代器，则调用迭代器的\\_\\_next\\_\\_方法，返回下一个值\n",
    "- next()抛出StopIteration Exception，表示迭代已经穷尽"
   ]
  },
  {
   "cell_type": "code",
   "execution_count": 68,
   "metadata": {
    "collapsed": false
   },
   "outputs": [
    {
     "name": "stdout",
     "output_type": "stream",
     "text": [
      "True True\n",
      "0 1 1 2 3\n"
     ]
    }
   ],
   "source": [
    "from collections import Iterable, Iterator\n",
    "fib = Fib(100)\n",
    "fib_iterator = iter(fib)\n",
    "print(isinstance(fib, Iterable), isinstance(fib, Iterator))\n",
    "print(next(fib_iterator), next(fib_iterator), next(fib_iterator), next(fib_iterator), next(fib_iterator))"
   ]
  },
  {
   "cell_type": "code",
   "execution_count": 69,
   "metadata": {
    "collapsed": false
   },
   "outputs": [
    {
     "name": "stdout",
     "output_type": "stream",
     "text": [
      "5 8 13 21 34 55 89 "
     ]
    }
   ],
   "source": [
    "while True:\n",
    "    try:\n",
    "        print(next(fib_iterator), end=' ')\n",
    "    except StopIteration: \n",
    "        break"
   ]
  },
  {
   "cell_type": "code",
   "execution_count": 70,
   "metadata": {
    "collapsed": false,
    "scrolled": true
   },
   "outputs": [],
   "source": [
    "for i in fib:    \n",
    "    print(i, end=' ')"
   ]
  },
  {
   "cell_type": "markdown",
   "metadata": {},
   "source": [
    "可迭代对象同时将自己作为迭代器，在状态上可能会出现问题。迭代器只会向前迭代，这时内部变量a和b已经被赋新值，如上将继续迭代，而不是重新开始。要得到预期结果，需要重新初始化状态。"
   ]
  },
  {
   "cell_type": "code",
   "execution_count": 72,
   "metadata": {
    "collapsed": true
   },
   "outputs": [],
   "source": [
    "class Fib2:\n",
    "    \n",
    "    def __init__(self, max):       \n",
    "        self.max = max\n",
    "\n",
    "    def __iter__(self):\n",
    "        self.a = 0\n",
    "        self.b = 1\n",
    "        return self\n",
    "\n",
    "    def __next__(self): #python 2使用next(self)\n",
    "        t = self.a\n",
    "        if t > self.max:\n",
    "            raise StopIteration\n",
    "        self.a, self.b = self.b, self.a + self.b\n",
    "        return t"
   ]
  },
  {
   "cell_type": "code",
   "execution_count": 73,
   "metadata": {
    "collapsed": false
   },
   "outputs": [
    {
     "name": "stdout",
     "output_type": "stream",
     "text": [
      "0 1 1 2 3 5 8 13 21 34 55 89 0 1 1 2 3 5 8 13 21 34 55 89 "
     ]
    }
   ],
   "source": [
    "fib2 = Fib2(100)\n",
    "for i in fib2:    \n",
    "    print(i, end=' ')\n",
    "\n",
    "for i in fib2:    \n",
    "    print(i, end=' ')"
   ]
  },
  {
   "cell_type": "markdown",
   "metadata": {},
   "source": [
    "或者编写一个迭代器类，可迭代对象每次都返回一个迭代器类的新实例。"
   ]
  },
  {
   "cell_type": "code",
   "execution_count": 13,
   "metadata": {
    "collapsed": false
   },
   "outputs": [],
   "source": [
    "class Fib3:    \n",
    "\n",
    "    def __init__(self, max):\n",
    "        self.max = max\n",
    "\n",
    "    def __iter__(self):\n",
    "        return Fib3_Iterator(self.max)\n",
    "    \n",
    "class Fib3_Iterator:\n",
    "\n",
    "    def __init__(self, max):\n",
    "        self.a = 0\n",
    "        self.b = 1\n",
    "        self.max = max\n",
    "    \n",
    "    def __iter__(self): #原则上非必须，但要成为Iterator对象必须\n",
    "        return self\n",
    "    \n",
    "    def __next__(self):\n",
    "        t = self.a\n",
    "        if t > self.max:\n",
    "            raise StopIteration\n",
    "        self.a, self.b = self.b, self.a + self.b\n",
    "        return t"
   ]
  },
  {
   "cell_type": "code",
   "execution_count": 14,
   "metadata": {
    "collapsed": false
   },
   "outputs": [
    {
     "name": "stdout",
     "output_type": "stream",
     "text": [
      "True True\n",
      "0 1 1 2 3\n"
     ]
    }
   ],
   "source": [
    "fib3 = Fib3(100)\n",
    "fib3_iterator = iter(fib3)\n",
    "print(isinstance(fib, Iterable), isinstance(fib, Iterator))\n",
    "print(next(fib3_iterator), next(fib3_iterator), next(fib3_iterator), next(fib3_iterator), next(fib3_iterator))"
   ]
  },
  {
   "cell_type": "code",
   "execution_count": 15,
   "metadata": {
    "collapsed": false
   },
   "outputs": [
    {
     "name": "stdout",
     "output_type": "stream",
     "text": [
      "0 1 1 2 3 5 8 13 21 34 55 89 0 1 1 2 3 5 8 13 21 34 55 89 "
     ]
    }
   ],
   "source": [
    "for i in fib3:    \n",
    "    print(i, end=' ')\n",
    "for i in fib3:    \n",
    "    print(i, end=' ')"
   ]
  },
  {
   "cell_type": "markdown",
   "metadata": {},
   "source": [
    "无论可迭代对象和迭代器是否是同一个对象，在使用时都要注意迭代器状态的变化。请对比如下两个例子："
   ]
  },
  {
   "cell_type": "code",
   "execution_count": 16,
   "metadata": {
    "collapsed": false
   },
   "outputs": [
    {
     "data": {
      "text/plain": [
       "[<__main__.Fib3_Iterator at 0x1d4cb44af60>,\n",
       " <__main__.Fib3_Iterator at 0x1d4cb44af60>]"
      ]
     },
     "execution_count": 16,
     "metadata": {},
     "output_type": "execute_result"
    }
   ],
   "source": [
    "fib3 = Fib3(100)\n",
    "fib3_iterator = iter(fib3)\n",
    "fib3_iterator_list = [fib3_iterator] * 2\n",
    "fib3_iterator_list"
   ]
  },
  {
   "cell_type": "code",
   "execution_count": 17,
   "metadata": {
    "collapsed": false
   },
   "outputs": [
    {
     "data": {
      "text/plain": [
       "[(0, 1), (1, 2), (3, 5), (8, 13), (21, 34), (55, 89)]"
      ]
     },
     "execution_count": 17,
     "metadata": {},
     "output_type": "execute_result"
    }
   ],
   "source": [
    "list(zip(fib3_iterator,fib3_iterator))"
   ]
  },
  {
   "cell_type": "code",
   "execution_count": 18,
   "metadata": {
    "collapsed": false,
    "scrolled": true
   },
   "outputs": [
    {
     "data": {
      "text/plain": [
       "[(0, 0),\n",
       " (1, 1),\n",
       " (1, 1),\n",
       " (2, 2),\n",
       " (3, 3),\n",
       " (5, 5),\n",
       " (8, 8),\n",
       " (13, 13),\n",
       " (21, 21),\n",
       " (34, 34),\n",
       " (55, 55),\n",
       " (89, 89)]"
      ]
     },
     "execution_count": 18,
     "metadata": {},
     "output_type": "execute_result"
    }
   ],
   "source": [
    "list(zip(iter(fib3),iter(fib3)))"
   ]
  },
  {
   "cell_type": "markdown",
   "metadata": {},
   "source": [
    "其他方法的应用"
   ]
  },
  {
   "cell_type": "code",
   "execution_count": 19,
   "metadata": {
    "collapsed": false,
    "scrolled": true
   },
   "outputs": [
    {
     "data": {
      "text/plain": [
       "[(0, 0),\n",
       " (1, 1),\n",
       " (2, 1),\n",
       " (3, 2),\n",
       " (4, 3),\n",
       " (5, 5),\n",
       " (6, 8),\n",
       " (7, 13),\n",
       " (8, 21),\n",
       " (9, 34),\n",
       " (10, 55),\n",
       " (11, 89)]"
      ]
     },
     "execution_count": 19,
     "metadata": {},
     "output_type": "execute_result"
    }
   ],
   "source": [
    "list(enumerate(fib3))"
   ]
  },
  {
   "cell_type": "markdown",
   "metadata": {},
   "source": [
    "python内置列表对象迭代器"
   ]
  },
  {
   "cell_type": "code",
   "execution_count": 20,
   "metadata": {
    "collapsed": false,
    "scrolled": true
   },
   "outputs": [
    {
     "name": "stdout",
     "output_type": "stream",
     "text": [
      "True False\n",
      "True True\n"
     ]
    }
   ],
   "source": [
    "li = []\n",
    "print(isinstance(li, Iterable), isinstance(li, Iterator))\n",
    "li_iterator = iter(li)\n",
    "print(isinstance(li_iterator, Iterable), isinstance(li_iterator, Iterator))"
   ]
  },
  {
   "cell_type": "code",
   "execution_count": 21,
   "metadata": {
    "collapsed": false
   },
   "outputs": [
    {
     "data": {
      "text/plain": [
       "<dict_keyiterator at 0x1d4c77d5d18>"
      ]
     },
     "execution_count": 21,
     "metadata": {},
     "output_type": "execute_result"
    }
   ],
   "source": [
    "di = {}\n",
    "iter(di)"
   ]
  },
  {
   "cell_type": "code",
   "execution_count": 22,
   "metadata": {
    "collapsed": false,
    "scrolled": false
   },
   "outputs": [
    {
     "name": "stdout",
     "output_type": "stream",
     "text": [
      "Help on list object:\n",
      "\n",
      "class list(object)\n",
      " |  list() -> new empty list\n",
      " |  list(iterable) -> new list initialized from iterable's items\n",
      " |  \n",
      " |  Methods defined here:\n",
      " |  \n",
      " |  __add__(self, value, /)\n",
      " |      Return self+value.\n",
      " |  \n",
      " |  __contains__(self, key, /)\n",
      " |      Return key in self.\n",
      " |  \n",
      " |  __delitem__(self, key, /)\n",
      " |      Delete self[key].\n",
      " |  \n",
      " |  __eq__(self, value, /)\n",
      " |      Return self==value.\n",
      " |  \n",
      " |  __ge__(self, value, /)\n",
      " |      Return self>=value.\n",
      " |  \n",
      " |  __getattribute__(self, name, /)\n",
      " |      Return getattr(self, name).\n",
      " |  \n",
      " |  __getitem__(...)\n",
      " |      x.__getitem__(y) <==> x[y]\n",
      " |  \n",
      " |  __gt__(self, value, /)\n",
      " |      Return self>value.\n",
      " |  \n",
      " |  __iadd__(self, value, /)\n",
      " |      Implement self+=value.\n",
      " |  \n",
      " |  __imul__(self, value, /)\n",
      " |      Implement self*=value.\n",
      " |  \n",
      " |  __init__(self, /, *args, **kwargs)\n",
      " |      Initialize self.  See help(type(self)) for accurate signature.\n",
      " |  \n",
      " |  __iter__(self, /)\n",
      " |      Implement iter(self).\n",
      " |  \n",
      " |  __le__(self, value, /)\n",
      " |      Return self<=value.\n",
      " |  \n",
      " |  __len__(self, /)\n",
      " |      Return len(self).\n",
      " |  \n",
      " |  __lt__(self, value, /)\n",
      " |      Return self<value.\n",
      " |  \n",
      " |  __mul__(self, value, /)\n",
      " |      Return self*value.n\n",
      " |  \n",
      " |  __ne__(self, value, /)\n",
      " |      Return self!=value.\n",
      " |  \n",
      " |  __new__(*args, **kwargs) from builtins.type\n",
      " |      Create and return a new object.  See help(type) for accurate signature.\n",
      " |  \n",
      " |  __repr__(self, /)\n",
      " |      Return repr(self).\n",
      " |  \n",
      " |  __reversed__(...)\n",
      " |      L.__reversed__() -- return a reverse iterator over the list\n",
      " |  \n",
      " |  __rmul__(self, value, /)\n",
      " |      Return self*value.\n",
      " |  \n",
      " |  __setitem__(self, key, value, /)\n",
      " |      Set self[key] to value.\n",
      " |  \n",
      " |  __sizeof__(...)\n",
      " |      L.__sizeof__() -- size of L in memory, in bytes\n",
      " |  \n",
      " |  append(...)\n",
      " |      L.append(object) -> None -- append object to end\n",
      " |  \n",
      " |  clear(...)\n",
      " |      L.clear() -> None -- remove all items from L\n",
      " |  \n",
      " |  copy(...)\n",
      " |      L.copy() -> list -- a shallow copy of L\n",
      " |  \n",
      " |  count(...)\n",
      " |      L.count(value) -> integer -- return number of occurrences of value\n",
      " |  \n",
      " |  extend(...)\n",
      " |      L.extend(iterable) -> None -- extend list by appending elements from the iterable\n",
      " |  \n",
      " |  index(...)\n",
      " |      L.index(value, [start, [stop]]) -> integer -- return first index of value.\n",
      " |      Raises ValueError if the value is not present.\n",
      " |  \n",
      " |  insert(...)\n",
      " |      L.insert(index, object) -- insert object before index\n",
      " |  \n",
      " |  pop(...)\n",
      " |      L.pop([index]) -> item -- remove and return item at index (default last).\n",
      " |      Raises IndexError if list is empty or index is out of range.\n",
      " |  \n",
      " |  remove(...)\n",
      " |      L.remove(value) -> None -- remove first occurrence of value.\n",
      " |      Raises ValueError if the value is not present.\n",
      " |  \n",
      " |  reverse(...)\n",
      " |      L.reverse() -- reverse *IN PLACE*\n",
      " |  \n",
      " |  sort(...)\n",
      " |      L.sort(key=None, reverse=False) -> None -- stable sort *IN PLACE*\n",
      " |  \n",
      " |  ----------------------------------------------------------------------\n",
      " |  Data and other attributes defined here:\n",
      " |  \n",
      " |  __hash__ = None\n",
      "\n",
      "Help on list_iterator object:\n",
      "\n",
      "class list_iterator(object)\n",
      " |  Methods defined here:\n",
      " |  \n",
      " |  __getattribute__(self, name, /)\n",
      " |      Return getattr(self, name).\n",
      " |  \n",
      " |  __iter__(self, /)\n",
      " |      Implement iter(self).\n",
      " |  \n",
      " |  __length_hint__(...)\n",
      " |      Private method returning an estimate of len(list(it)).\n",
      " |  \n",
      " |  __next__(self, /)\n",
      " |      Implement next(self).\n",
      " |  \n",
      " |  __reduce__(...)\n",
      " |      Return state information for pickling.\n",
      " |  \n",
      " |  __setstate__(...)\n",
      " |      Set state information for unpickling.\n",
      "\n"
     ]
    }
   ],
   "source": [
    "help(li)\n",
    "help(li_iterator)"
   ]
  },
  {
   "cell_type": "markdown",
   "metadata": {},
   "source": [
    "#### 生成器\n",
    "生成器也是迭代器\n",
    "![](images/gen.png?20170710)"
   ]
  },
  {
   "cell_type": "code",
   "execution_count": 23,
   "metadata": {
    "collapsed": false,
    "scrolled": true
   },
   "outputs": [
    {
     "data": {
      "text/plain": [
       "[0, 1, 4, 9, 16, 25, 36, 49, 64, 81]"
      ]
     },
     "execution_count": 23,
     "metadata": {},
     "output_type": "execute_result"
    }
   ],
   "source": [
    "from collections import Iterable, Iterator\n",
    "[x * x for x in range(10)]"
   ]
  },
  {
   "cell_type": "markdown",
   "metadata": {},
   "source": [
    "列表推导式直接改造成生成器"
   ]
  },
  {
   "cell_type": "code",
   "execution_count": 24,
   "metadata": {
    "collapsed": false
   },
   "outputs": [
    {
     "name": "stdout",
     "output_type": "stream",
     "text": [
      "True True\n"
     ]
    },
    {
     "data": {
      "text/plain": [
       "<generator object <genexpr> at 0x000001D4CB44D678>"
      ]
     },
     "execution_count": 24,
     "metadata": {},
     "output_type": "execute_result"
    }
   ],
   "source": [
    "gen = (x * x for x in range(10))\n",
    "print(isinstance(gen, Iterable), isinstance(gen, Iterator))\n",
    "gen"
   ]
  },
  {
   "cell_type": "code",
   "execution_count": 25,
   "metadata": {
    "collapsed": false
   },
   "outputs": [
    {
     "name": "stdout",
     "output_type": "stream",
     "text": [
      "0 1 4 9\n"
     ]
    }
   ],
   "source": [
    "print(next(gen),next(gen),next(gen),next(gen))"
   ]
  },
  {
   "cell_type": "code",
   "execution_count": 26,
   "metadata": {
    "collapsed": false
   },
   "outputs": [
    {
     "name": "stdout",
     "output_type": "stream",
     "text": [
      "True True\n"
     ]
    },
    {
     "data": {
      "text/plain": [
       "<generator object gen_number at 0x000001D4CB44DA98>"
      ]
     },
     "execution_count": 26,
     "metadata": {},
     "output_type": "execute_result"
    }
   ],
   "source": [
    "def gen_number(): # 生成器函数\n",
    "    yield 1\n",
    "    yield 2\n",
    "    yield 3\n",
    "\n",
    "\n",
    "gen2 = gen_number()\n",
    "print(isinstance(gen2, Iterable), isinstance(gen2, Iterator))\n",
    "gen2"
   ]
  },
  {
   "cell_type": "code",
   "execution_count": 27,
   "metadata": {
    "collapsed": false
   },
   "outputs": [
    {
     "name": "stdout",
     "output_type": "stream",
     "text": [
      "1 2 3\n"
     ]
    }
   ],
   "source": [
    "print(next(gen2), next(gen2), next(gen2)) #next()方法调用生成器函数，遇到yield返回其值，并挂起，等待下一次调用"
   ]
  },
  {
   "cell_type": "code",
   "execution_count": 28,
   "metadata": {
    "collapsed": true
   },
   "outputs": [],
   "source": [
    "def get_fib(max):\n",
    "    a = 0\n",
    "    yield a \n",
    "    b = 1\n",
    "    while True: \n",
    "        a, b = b, a + b\n",
    "        if a > max:\n",
    "            break\n",
    "        yield a"
   ]
  },
  {
   "cell_type": "code",
   "execution_count": 29,
   "metadata": {
    "collapsed": false
   },
   "outputs": [
    {
     "data": {
      "text/plain": [
       "<generator object get_fib at 0x000001D4CB44D620>"
      ]
     },
     "execution_count": 29,
     "metadata": {},
     "output_type": "execute_result"
    }
   ],
   "source": [
    "gen3 = get_fib(100) #生成器生成的值，可以看成是yield返回值的序列，类比迭代器调用next()的返回值\n",
    "gen3"
   ]
  },
  {
   "cell_type": "code",
   "execution_count": 30,
   "metadata": {
    "collapsed": false
   },
   "outputs": [
    {
     "data": {
      "text/plain": [
       "[0, 1, 1, 2, 3, 5, 8, 13, 21, 34, 55, 89]"
      ]
     },
     "execution_count": 30,
     "metadata": {},
     "output_type": "execute_result"
    }
   ],
   "source": [
    "list(gen3)"
   ]
  },
  {
   "cell_type": "markdown",
   "metadata": {},
   "source": [
    "生成器函数中不用return的原因是，生成器函数的返回值是一个生成器，而生成器生成的值才是yield的返回值。下面对比与return的不同，return表示离开函数体，但是yeild没有，只是挂起。"
   ]
  },
  {
   "cell_type": "code",
   "execution_count": 31,
   "metadata": {
    "collapsed": true
   },
   "outputs": [],
   "source": [
    "def gen_number2(): \n",
    "    try:\n",
    "        yield 1\n",
    "        yield 2\n",
    "        yield 3\n",
    "    finally:\n",
    "        yield 0"
   ]
  },
  {
   "cell_type": "code",
   "execution_count": 32,
   "metadata": {
    "collapsed": false
   },
   "outputs": [
    {
     "data": {
      "text/plain": [
       "[1, 2, 3, 0]"
      ]
     },
     "execution_count": 32,
     "metadata": {},
     "output_type": "execute_result"
    }
   ],
   "source": [
    "list(gen_number2())"
   ]
  },
  {
   "cell_type": "markdown",
   "metadata": {
    "collapsed": true
   },
   "source": [
    "### 2、面向切面编程：装饰器\n",
    "面向切面编程（Aspect Oriented Program，AOP）是面向对象编程的有力补充。面向对象将不同的功能封装到不同的类的方法中，降低代码的复杂度，做到职责分离。但是职责分离，有可能带来重复的功能代码（比如，类中每个方法可能都要有写日志或权限判断的功能代码），否则就要很有预见的封装到父类中。\n",
    "面向切面编程允许在运行时，动态切入到类的方法，在方法之前或之后执行一些功能代码。装饰器的使用场景包括，日志，缓存，事务，验证，授权等\n",
    "\n",
    "![](images/gun.jpg)\n",
    "![](images/gun2.jpg)\n",
    "\n",
    "\n",
    "下面是一个正常函数及其调用"
   ]
  },
  {
   "cell_type": "code",
   "execution_count": 77,
   "metadata": {
    "collapsed": false
   },
   "outputs": [
    {
     "name": "stdout",
     "output_type": "stream",
     "text": [
      "Do my job\n"
     ]
    }
   ],
   "source": [
    "def do(something = 'nothing'):\n",
    "    print('Do', something)\n",
    "\n",
    "do('my job')"
   ]
  },
  {
   "cell_type": "markdown",
   "metadata": {},
   "source": [
    "函数可以赋值"
   ]
  },
  {
   "cell_type": "code",
   "execution_count": 78,
   "metadata": {
    "collapsed": false
   },
   "outputs": [
    {
     "name": "stdout",
     "output_type": "stream",
     "text": [
      "Do nothing\n"
     ]
    }
   ],
   "source": [
    "enjoy = do\n",
    "enjoy()"
   ]
  },
  {
   "cell_type": "markdown",
   "metadata": {},
   "source": [
    "函数可以作为返回值"
   ]
  },
  {
   "cell_type": "code",
   "execution_count": 35,
   "metadata": {
    "collapsed": false,
    "scrolled": true
   },
   "outputs": [
    {
     "name": "stdout",
     "output_type": "stream",
     "text": [
      "Finish nothing\n"
     ]
    }
   ],
   "source": [
    "def do(something = 'nothing'):\n",
    "    def finish(something = something):\n",
    "        print('Finish', something)\n",
    "    return finish\n",
    "\n",
    "do()()"
   ]
  },
  {
   "cell_type": "markdown",
   "metadata": {},
   "source": [
    "函数可以作为参数"
   ]
  },
  {
   "cell_type": "code",
   "execution_count": 36,
   "metadata": {
    "collapsed": false,
    "scrolled": true
   },
   "outputs": [
    {
     "name": "stdout",
     "output_type": "stream",
     "text": [
      "Before finish\n",
      "Finish nothing\n",
      "After finish\n"
     ]
    }
   ],
   "source": [
    "def finish(something = 'nothing'):\n",
    "    print('Finish', something)\n",
    "\n",
    "def finish_wrapper(func):\n",
    "    print('Before finish')\n",
    "    func()\n",
    "    print('After finish')\n",
    "\n",
    "finish_wrapper(finish)"
   ]
  },
  {
   "cell_type": "markdown",
   "metadata": {},
   "source": [
    "组合以上特性，构建一个装饰器"
   ]
  },
  {
   "cell_type": "code",
   "execution_count": 37,
   "metadata": {
    "collapsed": false,
    "scrolled": false
   },
   "outputs": [
    {
     "name": "stdout",
     "output_type": "stream",
     "text": [
      "Finish nothing\n",
      "Before finish\n",
      "Finish nothing\n",
      "After finish\n"
     ]
    }
   ],
   "source": [
    "def finish(something = 'nothing'):\n",
    "    print('Finish', something)    \n",
    "\n",
    "def finish_wrapper_wrapper(func): #decorator\n",
    "    def finish_wrapper():\n",
    "        print('Before finish')\n",
    "        func()\n",
    "        print('After finish')    \n",
    "    return finish_wrapper\n",
    "\n",
    "finish()\n",
    "finish = finish_wrapper_wrapper(finish)\n",
    "finish()"
   ]
  },
  {
   "cell_type": "code",
   "execution_count": 38,
   "metadata": {
    "collapsed": false,
    "scrolled": true
   },
   "outputs": [
    {
     "name": "stdout",
     "output_type": "stream",
     "text": [
      "Before finish\n",
      "Finish nothing\n",
      "After finish\n",
      "finish_wrapper\n"
     ]
    }
   ],
   "source": [
    "@finish_wrapper_wrapper\n",
    "def finish(something = 'nothing'):\n",
    "    print('Finish', something) \n",
    "\n",
    "finish()\n",
    "print(finish.__name__)"
   ]
  },
  {
   "cell_type": "markdown",
   "metadata": {},
   "source": [
    "本质上此finish已经不是彼finish函数了。解决方案是使用@wraps装饰器，复制finish的函数名称、注释文档、参数列表"
   ]
  },
  {
   "cell_type": "code",
   "execution_count": 39,
   "metadata": {
    "collapsed": false
   },
   "outputs": [
    {
     "name": "stdout",
     "output_type": "stream",
     "text": [
      "Before finish\n",
      "Finish nothing\n",
      "After finish\n",
      "finish\n"
     ]
    }
   ],
   "source": [
    "from functools import wraps\n",
    "\n",
    "def finish_wrapper_wrapper(func): #decorator\n",
    "    @wraps(func)\n",
    "    def finish_wrapper():\n",
    "        print('Before finish')\n",
    "        func()\n",
    "        print('After finish')\n",
    "    return finish_wrapper\n",
    "\n",
    "@finish_wrapper_wrapper\n",
    "def finish(something = 'nothing'):\n",
    "    print('Finish', something)\n",
    "\n",
    "finish()\n",
    "print(finish.__name__)"
   ]
  },
  {
   "cell_type": "markdown",
   "metadata": {},
   "source": [
    "被装饰函数finish函数带参数和返回值的处理"
   ]
  },
  {
   "cell_type": "code",
   "execution_count": 40,
   "metadata": {
    "collapsed": false,
    "scrolled": true
   },
   "outputs": [
    {
     "name": "stdout",
     "output_type": "stream",
     "text": [
      "Before finish\n",
      "Finish my job\n",
      "After finish\n",
      "Done\n"
     ]
    }
   ],
   "source": [
    "from functools import wraps\n",
    "\n",
    "def finish_wrapper_wrapper(func):  #decorator\n",
    "    @wraps(func)\n",
    "    def finish_wrapper(something = 'nothing'):\n",
    "        print('Before finish')\n",
    "        result = func(something = something)\n",
    "        print('After finish')\n",
    "        return result\n",
    "    return finish_wrapper\n",
    "\n",
    "@finish_wrapper_wrapper\n",
    "def finish(something = 'nothing'):\n",
    "    print('Finish', something)\n",
    "    return 'Done'\n",
    "\n",
    "print(finish(something = 'my job'))"
   ]
  },
  {
   "cell_type": "markdown",
   "metadata": {},
   "source": [
    "被装饰函数finish有不定数量的参数的处理"
   ]
  },
  {
   "cell_type": "code",
   "execution_count": 41,
   "metadata": {
    "collapsed": false,
    "scrolled": true
   },
   "outputs": [
    {
     "name": "stdout",
     "output_type": "stream",
     "text": [
      "Before finish\n",
      "Finish the job\n",
      "After finish\n",
      "Done\n",
      "--------------------\n",
      "Before finish\n",
      "You finish the job\n",
      "After finish\n",
      "Done\n"
     ]
    }
   ],
   "source": [
    "from functools import wraps\n",
    "\n",
    "def finish_wrapper_wrapper(func): #decorator\n",
    "    @wraps(func)\n",
    "    def finish_wrapper(*args, **kwargs):\n",
    "        print('Before finish')\n",
    "        result = func(*args, **kwargs)\n",
    "        print('After finish')\n",
    "        return result\n",
    "    return finish_wrapper\n",
    "\n",
    "@finish_wrapper_wrapper\n",
    "def finish(something = 'nothing'):\n",
    "    print('Finish', something)\n",
    "    return 'Done'\n",
    "\n",
    "@finish_wrapper_wrapper\n",
    "def finish2(who, something = 'nothing'):\n",
    "    print(who, 'finish', something)\n",
    "    return 'Done'\n",
    "\n",
    "print(finish(something = \"the job\"))\n",
    "print('-' * 20)\n",
    "print(finish2('You',something = \"the job\"))"
   ]
  },
  {
   "cell_type": "markdown",
   "metadata": {},
   "source": [
    "装饰器finish_wrapper_wrapper带参数的处理"
   ]
  },
  {
   "cell_type": "code",
   "execution_count": 42,
   "metadata": {
    "collapsed": true
   },
   "outputs": [],
   "source": [
    "from functools import wraps\n",
    "\n",
    "def  finish_wrapper_wrapper_wrapper(name):\n",
    "    def finish_wrapper_wrapper(func): #decorator\n",
    "        @wraps(func)\n",
    "        def finish_wrapper(*args, **kwargs):\n",
    "            print('Before', name)\n",
    "            result = func(*args, **kwargs)\n",
    "            print('After', name)\n",
    "            return result\n",
    "        return finish_wrapper\n",
    "    return finish_wrapper_wrapper"
   ]
  },
  {
   "cell_type": "code",
   "execution_count": 43,
   "metadata": {
    "collapsed": false,
    "scrolled": false
   },
   "outputs": [
    {
     "name": "stdout",
     "output_type": "stream",
     "text": [
      "Before finish\n",
      "Finish the job\n",
      "After finish\n",
      "Done\n",
      "--------------------\n",
      "Before finish2\n",
      "You finish the job\n",
      "After finish2\n",
      "Done\n"
     ]
    }
   ],
   "source": [
    "@finish_wrapper_wrapper_wrapper('finish')\n",
    "def finish(something = 'nothing'):\n",
    "    print('Finish', something)\n",
    "    return 'Done'\n",
    "\n",
    "@finish_wrapper_wrapper_wrapper('finish2')\n",
    "def finish2(who, something = 'nothing'):\n",
    "    print(who, 'finish', something)\n",
    "    return 'Done'\n",
    "\n",
    "print(finish(something = \"the job\"))\n",
    "print('-' * 20)\n",
    "print(finish2('You',something = \"the job\"))"
   ]
  },
  {
   "cell_type": "markdown",
   "metadata": {},
   "source": [
    "封装成为类装饰器，使用魔法方法\\_\\_call\\_\\_"
   ]
  },
  {
   "cell_type": "code",
   "execution_count": 44,
   "metadata": {
    "collapsed": false
   },
   "outputs": [],
   "source": [
    "from functools import wraps\n",
    "\n",
    "class FinishDecorator(object):\n",
    "    \n",
    "    def __init__(self, name):\n",
    "        self.name = name\n",
    "    \n",
    "    def __call__(self, func): #decorator\n",
    "        @wraps(func)\n",
    "        def finish_wrapper(*args, **kwargs):\n",
    "            print('Before', self.name)\n",
    "            result = func(*args, **kwargs)\n",
    "            print('After', self.name)\n",
    "            return result\n",
    "        return finish_wrapper"
   ]
  },
  {
   "cell_type": "code",
   "execution_count": 45,
   "metadata": {
    "collapsed": false
   },
   "outputs": [
    {
     "name": "stdout",
     "output_type": "stream",
     "text": [
      "Before finish\n",
      "Finish the job\n",
      "After finish\n",
      "Done\n",
      "--------------------\n",
      "Before finish_2\n",
      "You finish the job\n",
      "After finish_2\n",
      "Done\n"
     ]
    }
   ],
   "source": [
    "@FinishDecorator('finish')\n",
    "def finish(something = 'nothing'):\n",
    "    print('Finish', something)\n",
    "    return 'Done'\n",
    "\n",
    "@FinishDecorator('finish_2')\n",
    "def finish2(who, something = 'nothing'):\n",
    "    print(who, 'finish', something)\n",
    "    return 'Done'\n",
    "\n",
    "print(finish(something = \"the job\"))\n",
    "print('-' * 20)\n",
    "print(finish2('You',something = \"the job\"))"
   ]
  },
  {
   "cell_type": "code",
   "execution_count": 46,
   "metadata": {
    "collapsed": false,
    "scrolled": true
   },
   "outputs": [
    {
     "name": "stdout",
     "output_type": "stream",
     "text": [
      "Before finish_1\n",
      "Before finish_2\n",
      "You finish the job\n",
      "After finish_2\n",
      "After finish_1\n",
      "Done\n"
     ]
    }
   ],
   "source": [
    "@FinishDecorator('finish_1')\n",
    "@FinishDecorator('finish_2')\n",
    "def finish3(who, something = 'nothing'):\n",
    "    print(who, 'finish', something)\n",
    "    return 'Done'\n",
    "\n",
    "print(finish3('You',something = \"the job\"))"
   ]
  },
  {
   "cell_type": "markdown",
   "metadata": {},
   "source": [
    "### 3、面向对象编程\n",
    "面向对象编程（Object Oriented Programming，OOP），是一种程序设计思想。类是面向对象编程的基础，类是一种数据结构，类是现实世界的抽象。对象和实例是类的具体化。可以类比一下，类是蓝图或者模型，用来产生真实的物体(实例)。因此使用关键字class就有类别，种属这样的意义。类是面向对象编程的基础，通过类结构定义实现面向对象的特性：封装、继承和多态。\n",
    "![](images/oop.png?20170710)"
   ]
  },
  {
   "cell_type": "code",
   "execution_count": 47,
   "metadata": {
    "collapsed": true
   },
   "outputs": [],
   "source": [
    "class Plant(object):\n",
    "    def __init__(self, name):\n",
    "        self.name = name\n",
    "        print(self.name, \"is here\")\n",
    "\n",
    "    def make_oxygen(self):\n",
    "        print(self.name,'makes oxygen')\n",
    "\n",
    "\n",
    "class Animal(object):\n",
    "    def __init__(self, name):\n",
    "        self.name = name\n",
    "        print(self.name, 'is here')\n",
    "\n",
    "    def say(self, something):\n",
    "        print(self.name , 'says', something)\n",
    "\n",
    "\n",
    "class Dog(Animal): # 继承\n",
    "    def __init__(self, name):\n",
    "        self.name = name     \n",
    "        super(Dog, self).__init__(name)\n",
    "\n",
    "    def run(self, somewhere):\n",
    "        print(self.name, 'runs to', somewhere)\n",
    "\n",
    "\n",
    "class PlantFish(Plant, Animal):   # 多重继承 \n",
    "    def __init__(self, name):\n",
    "        self.name = name\n",
    "        super(PlantFish, self).__init__(name)\n",
    "    \n",
    "    def think(self, something):\n",
    "        print(self.name, 'thinks', something)"
   ]
  },
  {
   "cell_type": "code",
   "execution_count": 48,
   "metadata": {
    "collapsed": false
   },
   "outputs": [
    {
     "name": "stdout",
     "output_type": "stream",
     "text": [
      "Lucky is here\n",
      "Lucky says hello\n",
      "Lucky runs to park\n",
      "True True\n"
     ]
    }
   ],
   "source": [
    "dog = Dog(\"Lucky\")\n",
    "dog.say('hello')\n",
    "dog.run('park')\n",
    "print(isinstance(dog, Dog), isinstance(dog, Animal))"
   ]
  },
  {
   "cell_type": "code",
   "execution_count": 49,
   "metadata": {
    "collapsed": false,
    "scrolled": true
   },
   "outputs": [
    {
     "name": "stdout",
     "output_type": "stream",
     "text": [
      "Super is here\n",
      "Super says hi\n",
      "Super makes oxygen\n",
      "Super thinks nothing\n",
      "True True True\n"
     ]
    }
   ],
   "source": [
    "plant_fish = PlantFish(\"Super\")\n",
    "plant_fish.say('hi')\n",
    "plant_fish.make_oxygen()\n",
    "plant_fish.think('nothing')\n",
    "print(isinstance(plant_fish, PlantFish) ,isinstance(plant_fish, Animal) ,isinstance(plant_fish, Plant))"
   ]
  },
  {
   "cell_type": "markdown",
   "metadata": {},
   "source": [
    "面向对象的多态，实现的编程思想中的对扩展开发，对修改封闭的基本原则，新增一种Animal子类不需要修改make_sound方法"
   ]
  },
  {
   "cell_type": "code",
   "execution_count": 50,
   "metadata": {
    "collapsed": false,
    "scrolled": false
   },
   "outputs": [
    {
     "name": "stdout",
     "output_type": "stream",
     "text": [
      "Lucky says hello\n",
      "Super says hello\n"
     ]
    }
   ],
   "source": [
    "def make_sound(obj): \n",
    "    obj.say('hello')\n",
    "\n",
    "make_sound(dog)\n",
    "make_sound(plant_fish)"
   ]
  },
  {
   "cell_type": "markdown",
   "metadata": {},
   "source": [
    "python的甚至不需要严格的类继承体系，也能实现多态的效果。这称作“鸭子类型”，一个对象只要“看起来像鸭子，走起路来像鸭子”，那它就可以被看做是鸭子。"
   ]
  },
  {
   "cell_type": "code",
   "execution_count": 51,
   "metadata": {
    "collapsed": false
   },
   "outputs": [
    {
     "name": "stdout",
     "output_type": "stream",
     "text": [
      "Mike is here\n",
      "Mike says hello\n"
     ]
    }
   ],
   "source": [
    "class Person(object):\n",
    "    def __init__(self, name):\n",
    "        self.name = name\n",
    "        print(self.name, 'is here')\n",
    "        \n",
    "    def say(self, something):\n",
    "        print(self.name , 'says', something)\n",
    "        \n",
    "person = Person('Mike')\n",
    "make_sound(person)"
   ]
  },
  {
   "cell_type": "markdown",
   "metadata": {},
   "source": [
    "#### 重构实现类的封装：通过百度下载视频"
   ]
  },
  {
   "cell_type": "code",
   "execution_count": null,
   "metadata": {
    "collapsed": true
   },
   "outputs": [],
   "source": [
    "import requests\n",
    "import re\n",
    "from pyquery import PyQuery as pq\n",
    "\n",
    "key = '如何掌控你的自由时间'\n",
    "baiduUrl = 'https://www.baidu.com/s?wd=%s site:open.163.com'\n",
    "flvUrl = 'http://www.flvcd.com/parse.php?format=&kw=%s'\n",
    "headers = {\"User-Agent\": \"Mozilla/5.0 (Windows NT 10.0; Win64; x64) '\\\n",
    "        'AppleWebKit/537.36 (KHTML, like Gecko) Chrome/58.0.3029.110 Safari/537.36\"}\n",
    "resp = requests.get(baiduUrl % key, headers=headers)\n",
    "page = pq(resp.text)\n",
    "items = [(item('a').attr('href'), item('div.c-span-last').text()) for item in  page('div.c-container div.c-gap-top-small').items()]\n",
    "videoPageUrl = ''\n",
    "if(len(items) > 0):\n",
    "    firstResp = requests.get(items[0][0], allow_redirects=False, headers=headers)\n",
    "    if(firstResp.status_code == 302):\n",
    "        videoPageUrl = firstResp.headers.get('location')\n",
    "    elif(firstResp.status_code == 200):\n",
    "        matchGroup = re.search(r'URL=\\'(.*?)\\'', firstResp.text, re.S)\n",
    "        videoPageUrl = matchGroup.group(1)\n",
    "        print(videoPageUrl)\n",
    "    if videoPageUrl:\n",
    "        flvResp = requests.get(flvUrl % videoPageUrl, headers=headers)\n",
    "        flvPage = pq(flvResp.text)\n",
    "        flvItems = [item.attr('href') for item in flvPage('td.mn a.link').items()]\n",
    "        if(len(flvItems) > 0 and flvItems[0]):\n",
    "            videoUrl = flvItems[0]\n",
    "            print(videoUrl)\n",
    "            if videoUrl:\n",
    "                downResp = requests.get(videoUrl, stream=True)\n",
    "                fileName = 'video/%s.flv' % key\n",
    "                with open(fileName, \"wb\") as file:\n",
    "                    file.write(downResp.content)\n",
    "                    print('finish')"
   ]
  },
  {
   "cell_type": "code",
   "execution_count": null,
   "metadata": {
    "collapsed": true
   },
   "outputs": [],
   "source": [
    "import requests\n",
    "import re\n",
    "from pyquery import PyQuery as pq\n",
    "\n",
    "class OnlineVideoCrawler(object):\n",
    "    def __init__(self, keys):\n",
    "        self.keys = keys\n",
    "        self.baiduUrl = 'https://www.baidu.com/s?wd=%s site:open.163.com'\n",
    "        self.flvUrl = 'http://www.flvcd.com/parse.php?format=&kw=%s'\n",
    "        self.headers = {\"User-Agent\": \"Mozilla/5.0 (Windows NT 10.0; Win64; x64) '\\\n",
    "        'AppleWebKit/537.36 (KHTML, like Gecko) Chrome/58.0.3029.110 Safari/537.36\"}\n",
    "\n",
    "    def getVideoPageUrlFromBaidu(self, key):\n",
    "        resp = requests.get(self.baiduUrl % key, headers=self.headers)\n",
    "        page = pq(resp.text)\n",
    "        items = [(item('a').attr('href'), item('div.c-span-last').text()) for item in  page('div.c-container div.c-gap-top-small').items()]\n",
    "        videoPageUrl = ''\n",
    "        if(len(items) > 0):\n",
    "            firstResp = requests.get(items[0][0], allow_redirects=False, headers=self.headers)\n",
    "            if(firstResp.status_code == 302):\n",
    "                videoPageUrl = firstResp.headers.get('location')\n",
    "            elif(firstResp.status_code == 200):\n",
    "                matchGroup = re.search(r'URL=\\'(.*?)\\'', firstResp.text, re.S)\n",
    "                videoPageUrl = matchGroup.group(1)\n",
    "        print(videoPageUrl)\n",
    "        return videoPageUrl\n",
    "        \n",
    "    \n",
    "    def getVideoUrlFromFlv(self, key):\n",
    "        videoPageUrl = self.getVideoPageUrlFromBaidu(key)\n",
    "        videoUrl = ''\n",
    "        if videoPageUrl:\n",
    "            flvResp = requests.get(self.flvUrl % videoPageUrl, headers=self.headers)\n",
    "            flvPage = pq(flvResp.text)\n",
    "            flvItems = [item.attr('href') for item in flvPage('td.mn a.link').items()]\n",
    "            if(len(flvItems) > 0 and flvItems[0]):\n",
    "                videoUrl = flvItems[0]\n",
    "        print(videoUrl)\n",
    "        return videoUrl\n",
    "    \n",
    "    def downloadVideo(self, key):\n",
    "        videoUrl = self.getVideoUrlFromFlv(key)\n",
    "        downResp = requests.get(videoUrl, stream=True)\n",
    "        total = int(downResp.headers.get('content-length'))\n",
    "        print(total)\n",
    "        fileName = 'video/%s.flv' % key\n",
    "        i = 0\n",
    "        chunk_size = 1024\n",
    "        with open(fileName, \"wb\") as file:\n",
    "            for chunk in downResp.iter_content(chunk_size=chunk_size):\n",
    "                if chunk:\n",
    "                    i += 1\n",
    "                    file.write(chunk)\n",
    "                    file.flush()\n",
    "                    print('%.2f' % (chunk_size * i / total), end='\\r')\n",
    "\n",
    "    def downloadVideos(self):\n",
    "        if len(self.keys) > 0:\n",
    "            for key in self.keys:\n",
    "                try:\n",
    "                    self.downloadVideo(key)\n",
    "                except Exception as e:\n",
    "                    print(e)\n",
    "\n",
    "#if __name__ == '__main__':\n",
    "keys = ['如何掌控你的自由时间','阅读全世界','如何做得更好']\n",
    "crawler = OnlineVideoCrawler(keys)\n",
    "crawler.downloadVideos()"
   ]
  },
  {
   "cell_type": "markdown",
   "metadata": {},
   "source": [
    "#### 面向对象多态：工厂设计模式"
   ]
  },
  {
   "cell_type": "code",
   "execution_count": 52,
   "metadata": {
    "collapsed": false
   },
   "outputs": [],
   "source": [
    "import json\n",
    "import xml.etree.ElementTree as etree\n",
    "\n",
    "class JSONConnector(object):\n",
    "    def __init__(self, filepath):\n",
    "        self.data = {}\n",
    "        with open(filepath, mode='r', encoding='utf-8') as f:\n",
    "            self.data = json.load(f)\n",
    "\n",
    "    @property\n",
    "    def parsed_data(self):\n",
    "        return self.data\n",
    "    \n",
    "    \n",
    "class XMLConnector(object):\n",
    "    def __init__(self, filepath):\n",
    "        self.tree = etree.parse(filepath)\n",
    "\n",
    "    @property\n",
    "    def parsed_data(self):\n",
    "        return self.tree"
   ]
  },
  {
   "cell_type": "code",
   "execution_count": 53,
   "metadata": {
    "collapsed": true
   },
   "outputs": [],
   "source": [
    "def connection_factory(filepath):\n",
    "    if filepath.endswith('json'):\n",
    "        connector = JSONConnector\n",
    "    elif filepath.endswith('xml'):\n",
    "        connector = XMLConnector\n",
    "    else:\n",
    "        raise ValueError('Cannot connect to {}'.format(filepath))\n",
    "    return connector(filepath)\n"
   ]
  },
  {
   "cell_type": "code",
   "execution_count": 54,
   "metadata": {
    "collapsed": false
   },
   "outputs": [
    {
     "data": {
      "text/plain": [
       "<Element 'persons' at 0x000001D4CB45E958>"
      ]
     },
     "execution_count": 54,
     "metadata": {},
     "output_type": "execute_result"
    }
   ],
   "source": [
    "connector = connection_factory('data/ch06/person.xml')\n",
    "connector.parsed_data.getroot()"
   ]
  },
  {
   "cell_type": "code",
   "execution_count": 55,
   "metadata": {
    "collapsed": false
   },
   "outputs": [
    {
     "data": {
      "text/plain": [
       "[{'batters': {'batter': [{'id': '1001', 'type': 'Regular'},\n",
       "    {'id': '1002', 'type': 'Chocolate'},\n",
       "    {'id': '1003', 'type': 'Blue berry'},\n",
       "    {'id': '1004', 'type': \"Devil's Food\"}]},\n",
       "  'id': '0001',\n",
       "  'name': 'Cake',\n",
       "  'ppu': 0.55,\n",
       "  'topping': [{'id': '5001', 'type': 'None'},\n",
       "   {'id': '5002', 'type': 'Glazed'},\n",
       "   {'id': '5005', 'type': 'Sugar'},\n",
       "   {'id': '5007', 'type': 'Powdered Sugar'},\n",
       "   {'id': '5006', 'type': 'Chocolate with Sprinkles'},\n",
       "   {'id': '5003', 'type': 'Chocolate'},\n",
       "   {'id': '5004', 'type': 'Maple'}],\n",
       "  'type': 'donut'},\n",
       " {'batters': {'batter': [{'id': '1001', 'type': 'Regular'}]},\n",
       "  'id': '0002',\n",
       "  'name': 'Raised',\n",
       "  'ppu': 0.55,\n",
       "  'topping': [{'id': '5001', 'type': 'None'},\n",
       "   {'id': '5002', 'type': 'Glazed'},\n",
       "   {'id': '5005', 'type': 'Sugar'},\n",
       "   {'id': '5003', 'type': 'Chocolate'},\n",
       "   {'id': '5004', 'type': 'Maple'}],\n",
       "  'type': 'donut'},\n",
       " {'batters': {'batter': [{'id': '1001', 'type': 'Regular'},\n",
       "    {'id': '1002', 'type': 'Chocolate'}]},\n",
       "  'id': '0003',\n",
       "  'name': 'Old Fashioned',\n",
       "  'ppu': 0.55,\n",
       "  'topping': [{'id': '5001', 'type': 'None'},\n",
       "   {'id': '5002', 'type': 'Glazed'},\n",
       "   {'id': '5003', 'type': 'Chocolate'},\n",
       "   {'id': '5004', 'type': 'Maple'}],\n",
       "  'type': 'donut'}]"
      ]
     },
     "execution_count": 55,
     "metadata": {},
     "output_type": "execute_result"
    }
   ],
   "source": [
    "connector = connection_factory('data/ch06/donut.json')\n",
    "connector.parsed_data"
   ]
  },
  {
   "cell_type": "code",
   "execution_count": null,
   "metadata": {
    "collapsed": true
   },
   "outputs": [],
   "source": []
  }
 ],
 "metadata": {
  "kernelspec": {
   "display_name": "Python 3",
   "language": "python",
   "name": "python3"
  },
  "language_info": {
   "codemirror_mode": {
    "name": "ipython",
    "version": 3
   },
   "file_extension": ".py",
   "mimetype": "text/x-python",
   "name": "python",
   "nbconvert_exporter": "python",
   "pygments_lexer": "ipython3",
   "version": "3.6.0"
  }
 },
 "nbformat": 4,
 "nbformat_minor": 2
}
